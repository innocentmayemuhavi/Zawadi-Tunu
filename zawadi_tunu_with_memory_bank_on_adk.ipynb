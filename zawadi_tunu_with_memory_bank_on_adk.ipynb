{
  "cells": [
    {
      "cell_type": "markdown",
      "metadata": {
        "id": "view-in-github",
        "colab_type": "text"
      },
      "source": [
        "<a href=\"https://colab.research.google.com/github/innocentmayemuhavi/Zawadi-Tunu/blob/main/zawadi_tunu_with_memory_bank_on_adk.ipynb\" target=\"_parent\"><img src=\"https://colab.research.google.com/assets/colab-badge.svg\" alt=\"Open In Colab\"/></a>"
      ]
    },
    {
      "cell_type": "markdown",
      "metadata": {
        "id": "hag-mvl_gSFR"
      },
      "source": [
        "# Get started with Zawadi Tunu Built with Memory Bank on ADK\n",
        "\n",
        "<table align=\"left\">\n",
        "  <td style=\"text-align: center\">\n",
        "    <a href=\"https://colab.research.google.com/github/mwanyumba7/Zawadi-Tunu/blob/main/zawadi_tunu_with_memory_bank_on_adk.ipynb\">\n",
        "      <img width=\"32px\" src=\"https://www.gstatic.com/pantheon/images/bigquery/welcome_page/colab-logo.svg\" alt=\"Google Colaboratory logo\"><br> Open in Colab\n",
        "    </a>\n",
        "  </td>\n",
        "</table>"
      ]
    },
    {
      "cell_type": "markdown",
      "metadata": {
        "id": "qlXbr9YbMyzc"
      },
      "source": [
        "## Overview\n",
        "We will be building an Agent `Zawadi Tunu` which is an agent ispecialized in gift recommendation engine designed to elevate the act of gift-giving, transforming it from a chore into a deeply personalized and meaningful experience. Built as a demonstration of the Agent Development Kit (ADK) for Gemini and the Vertex AI Memory Bank, this agent's core strength lies in its ability to retain and recall nuanced information over time.\n",
        "\n",
        "Instead of generic suggestions, the agent uses its long-term memory to remember key details gleaned from previous conversations: a niece's age and past birthday presents (like the \"red bike\" in the demo), a spouse's stated preference for aisle seats, or a parent's hint about a desired hobby.\n",
        "\n",
        "This tutorial demonstrates how to build ADK agents with Memory, including both `InMemoryMemoryService` and `VertexAiMemoryBankService`.\n",
        "\n",
        "This tutorial will cover:\n",
        "* Comparing `InMemoryMemoryService` vs. `VertexAiMemoryBankService`.\n",
        "* Generating memories with ADK and Agent Engine Memory Bank.\n",
        "* Retrieving memories with ADK and Agent Engine Memory Bank.\n",
        "* Customizing your Memory Bank instance's behavior."
      ]
    },
    {
      "cell_type": "markdown",
      "metadata": {
        "id": "HSSuQi5wS-AY"
      },
      "source": [
        "## Get started"
      ]
    },
    {
      "cell_type": "markdown",
      "metadata": {
        "id": "ngEAiXw8cQRt"
      },
      "source": [
        "### Install Google Gen AI SDK and other required packages\n"
      ]
    },
    {
      "cell_type": "code",
      "execution_count": 71,
      "metadata": {
        "id": "ZNg0utat73eG"
      },
      "outputs": [],
      "source": [
        "%pip install google-adk google-cloud-aiplatform --upgrade --quiet"
      ]
    },
    {
      "cell_type": "markdown",
      "metadata": {
        "id": "bbArJaMNcWVz"
      },
      "source": [
        "### Authenticate your notebook environment (Colab only)\n",
        "\n",
        "If you're running this notebook on Google Colab, run the cell below to authenticate your environment."
      ]
    },
    {
      "cell_type": "code",
      "execution_count": 72,
      "metadata": {
        "id": "oMmt34WM-08o"
      },
      "outputs": [],
      "source": [
        "import sys\n",
        "\n",
        "if \"google.colab\" in sys.modules:\n",
        "    from google.colab import auth\n",
        "\n",
        "    auth.authenticate_user()"
      ]
    },
    {
      "cell_type": "markdown",
      "metadata": {
        "id": "mbeaDydxcdEo"
      },
      "source": [
        "### Set Google Cloud project information\n",
        "\n",
        "To get started using Vertex AI, you must have an existing Google Cloud project and [enable the Vertex AI API](https://console.cloud.google.com/flows/enableapi?apiid=aiplatform.googleapis.com).\n",
        "\n",
        "Learn more about [setting up a project and a development environment](https://cloud.google.com/vertex-ai/docs/start/cloud-environment)."
      ]
    },
    {
      "cell_type": "code",
      "execution_count": 73,
      "metadata": {
        "id": "PKZ_ad_g_AuU"
      },
      "outputs": [],
      "source": [
        "# Use the environment variable if the user doesn't provide Project ID.\n",
        "import os\n",
        "\n",
        "import vertexai\n",
        "\n",
        "# fmt: off\n",
        "PROJECT = \"unstacked-project-2\"  # @param {type: \"string\", placeholder: \"[your-project-id]\", isTemplate: true}\n",
        "# fmt: on\n",
        "if not PROJECT or PROJECT == \"[your-project-id]\":\n",
        "    PROJECT = str(os.environ.get(\"GOOGLE_CLOUD_PROJECT\"))\n",
        "\n",
        "LOCATION = os.environ.get(\"GOOGLE_CLOUD_REGION\", \"us-central1\")\n",
        "\n",
        "client = vertexai.Client(project=PROJECT, location=LOCATION)\n",
        "\n",
        "# Set environment variables for ADK.\n",
        "os.environ[\"GOOGLE_GENAI_USE_VERTEXAI\"] = \"TRUE\"\n",
        "os.environ[\"GOOGLE_CLOUD_PROJECT\"] = PROJECT\n",
        "os.environ[\"GOOGLE_CLOUD_LOCATION\"] = LOCATION"
      ]
    },
    {
      "cell_type": "markdown",
      "metadata": {
        "id": "b2fe816fc0d0"
      },
      "source": [
        "## (Optional) Set up logging\n",
        "To surface ADK logs in your notebook, you may need to configure the logging level of ADK's logger."
      ]
    },
    {
      "cell_type": "code",
      "execution_count": 74,
      "metadata": {
        "id": "91955e5b44ec"
      },
      "outputs": [],
      "source": [
        "import logging\n",
        "import sys\n",
        "\n",
        "# Set up a general handler for all logs to be printed in your Colab output.\n",
        "# We'll set the overall level to INFO.\n",
        "logging.basicConfig(\n",
        "    level=logging.INFO,\n",
        "    format=\"%(asctime)s - %(name)s - %(levelname)s - %(message)s\",\n",
        "    stream=sys.stdout,\n",
        ")\n",
        "\n",
        "# Get the specific logger used by ADK.\n",
        "adk_logger = logging.getLogger(\"google_adk\")\n",
        "\n",
        "# Set its level to DEBUG to ensure you capture ALL messages from the SDK,\n",
        "# even if the general level is higher (like INFO).\n",
        "adk_logger.setLevel(logging.DEBUG)"
      ]
    },
    {
      "cell_type": "markdown",
      "metadata": {
        "id": "W0n_JRrHNUUX"
      },
      "source": [
        "## Define a simple agent\n",
        "\n",
        "The ADK Runner defines what session service is used by the agent. The session service is responsible for saving the conversation history.\n",
        "\n",
        "In this example, we're using the in-memory session service (`InMemorySessionService`). However, you can use any session service with Memory.\n",
        "\n",
        "If you want to use Google's pre-built Memory tools, you can provide a Memory service to the Runner as well. In this example, we'll start by directly invoking memory so that we can compare different services. So, we're not directly setting `memory_service` in the Runner."
      ]
    },
    {
      "cell_type": "code",
      "execution_count": 75,
      "metadata": {
        "id": "rKxFZmSRAECu"
      },
      "outputs": [],
      "source": [
        "from google.adk.agents import LlmAgent\n",
        "from google.adk.runners import Runner\n",
        "from google.adk.sessions import InMemorySessionService\n",
        "from google.genai.types import Content, Part\n",
        "\n",
        "APP_NAME = \"memory_example_app\"\n",
        "MODEL = \"gemini-2.5-flash\"\n",
        "\n",
        "agent = LlmAgent(\n",
        "    model=MODEL,\n",
        "    name=\"Generic_QA_Agent\",\n",
        "    instruction=\"Answer the user's questions\",\n",
        ")\n",
        "\n",
        "session_service = InMemorySessionService()\n",
        "\n",
        "runner = Runner(agent=agent, app_name=APP_NAME, session_service=session_service)\n",
        "\n",
        "\n",
        "def call_agent(query, session, user_id):\n",
        "    content = Content(role=\"user\", parts=[Part(text=query)])\n",
        "    events = runner.run(user_id=user_id, session_id=session, new_message=content)\n",
        "\n",
        "    for event in events:\n",
        "        if event.is_final_response():\n",
        "            final_response = event.content.parts[0].text\n",
        "            print(\"Agent Response: \", final_response)"
      ]
    },
    {
      "cell_type": "markdown",
      "metadata": {
        "id": "WEAg11vnOyYs"
      },
      "source": [
        "## Introduction to ADK Memory Service\n",
        "ADK memory services offer an interface for creating and searching for memories. The [`BaseMemoryService`](https://github.com/google/adk-python/blob/main/src/google/adk/memory/base_memory_service.py) defines the interface for managing this searchable, long-term knowledge store. Its primary responsibilities are:\n",
        "\n",
        "* Ingesting Information (`add_session_to_memory`): Taking the contents of a (usually completed) Session and adding relevant information to the long-term knowledge store.\n",
        "* Searching Information (`search_memory`): Allowing an agent (typically via a Tool) to query the knowledge store and retrieve relevant snippets or context based on a search query.\n",
        "\n",
        "In this colab, we'll cover two options:\n",
        "\n",
        "* `InMemoryMemoryService`: A in-memory service that allows you to search your conversation history to retrieve the raw dialogue using basic keyword matching.\n",
        "* `VertexAiMemoryBankService`: A remote service that remotely generates memories for \"meaningful\" information from user conversation.\n",
        "\n",
        "\n",
        "You can also interact directly with Memory Bank by using the Agent Engine SDK."
      ]
    },
    {
      "cell_type": "markdown",
      "metadata": {
        "id": "LSZQQAPQWBXs"
      },
      "source": [
        "### `InMemoryMemoryService`\n",
        "\n",
        "[`InMemoryMemoryService`](https://github.com/google/adk-python/blob/main/src/google/adk/memory/in_memory_memory_service.py) persists **all** information in-memory. The events are not condensed, and information is not extracted from them."
      ]
    },
    {
      "cell_type": "code",
      "execution_count": 76,
      "metadata": {
        "id": "HqXCHxi2Cb-n"
      },
      "outputs": [],
      "source": [
        "from google.adk.memory import InMemoryMemoryService\n",
        "\n",
        "in_memory_service = InMemoryMemoryService()"
      ]
    },
    {
      "cell_type": "markdown",
      "metadata": {
        "id": "mTuaUZ1DWG7L"
      },
      "source": [
        "### `VertexAiMemoryBankService`\n",
        "Memory Bank will only persist information that's meaningful for future interactions. [`VertexAiMemoryBankService`](https://github.com/google/adk-python/blob/main/src/google/adk/memory/vertex_ai_memory_bank_service.py) provides a built-in integration between Memory Bank and ADK.\n",
        "\n",
        "To get started with Memory Bank, you need to first create an Agent Engine. This only takes a few seconds.\n",
        "\n",
        "If you don't have a Google Cloud project, you can use [Vertex in Express mode, which only requires an API key](https://cloud.google.com/vertex-ai/generative-ai/docs/agent-engine/memory-bank/set-up#authentication)."
      ]
    },
    {
      "cell_type": "code",
      "execution_count": 77,
      "metadata": {
        "colab": {
          "base_uri": "https://localhost:8080/"
        },
        "id": "rZP-0IVaQ5_N",
        "outputId": "66c51782-2ef9-464c-ebf2-33d5eea346a9"
      },
      "outputs": [
        {
          "output_type": "stream",
          "name": "stderr",
          "text": [
            "INFO:vertexai_genai.agentengines:View progress and logs at https://console.cloud.google.com/logs/query?project=unstacked-project-2.\n",
            "INFO:vertexai_genai.agentengines:Agent Engine created. To use it in another session:\n",
            "INFO:vertexai_genai.agentengines:agent_engine=client.agent_engines.get('projects/715070558789/locations/us-central1/reasoningEngines/667856556850675712')\n"
          ]
        }
      ],
      "source": [
        "import vertexai\n",
        "from google.adk.memory import VertexAiMemoryBankService\n",
        "\n",
        "client = vertexai.Client(project=PROJECT, location=LOCATION)\n",
        "\n",
        "agent_engine = client.agent_engines.create(\n",
        "    config={\n",
        "        \"context_spec\": {\n",
        "            \"memory_bank_config\": {\n",
        "                \"generation_config\": {\n",
        "                    \"model\": f\"projects/{PROJECT}/locations/{LOCATION}/publishers/google/models/gemini-2.5-flash\"\n",
        "                }\n",
        "            }\n",
        "        }\n",
        "    }\n",
        ")\n",
        "\n",
        "memory_bank_service = VertexAiMemoryBankService(\n",
        "    agent_engine_id=agent_engine.api_resource.name.split(\"/\")[-1],\n",
        "    project=PROJECT,\n",
        "    location=LOCATION,\n",
        ")"
      ]
    },
    {
      "cell_type": "markdown",
      "metadata": {
        "id": "N-IrevumRepq"
      },
      "source": [
        "## Generating Memories\n",
        "\n",
        "Memories will be generated from your conversation history stored in the `Session` object. The ADK `add_session_to_memory` method is responsible for triggering memory generation for your memory service, but the exact behavior depends on which service you use:\n",
        "\n",
        "* `InMemoryMemoryService` persists all information, including the raw dialogue.\n",
        "\n",
        "* `VertexAiMemoryBankService` only persists *meaningful* information. Not all conversations will result in generated memories. Additionally, the information will be condensed to individual, self-contained memories.\n",
        "\n",
        "In this example, we create two sessions:\n",
        "1. `chit_chat_session`, which is a conversation that contains events that may not be meaningful for future interactions.\n",
        "2. `recommendations_session`, which is a conversation about looking for birthday presents for a family member. It includes implicit information that may be helpful for future conversations."
      ]
    },
    {
      "cell_type": "code",
      "execution_count": 78,
      "metadata": {
        "colab": {
          "base_uri": "https://localhost:8080/"
        },
        "id": "VfTIuJfFAR2z",
        "outputId": "a7c0ff22-c0b7-4753-915f-ec59ae7f3c87"
      },
      "outputs": [
        {
          "output_type": "stream",
          "name": "stderr",
          "text": [
            "INFO:google_adk.google.adk.models.google_llm:Sending out request, model: gemini-2.5-flash, backend: GoogleLLMVariant.VERTEX_AI, stream: False\n",
            "DEBUG:google_adk.google.adk.models.google_llm:\n",
            "LLM Request:\n",
            "-----------------------------------------------------------\n",
            "System Instruction:\n",
            "Answer the user's questions\n",
            "\n",
            "You are an agent. Your internal name is \"Generic_QA_Agent\".\n",
            "-----------------------------------------------------------\n",
            "Contents:\n",
            "{\"parts\":[{\"text\":\"what types of questions do you answer\"}],\"role\":\"user\"}\n",
            "-----------------------------------------------------------\n",
            "Functions:\n",
            "\n",
            "-----------------------------------------------------------\n",
            "\n",
            "INFO:google_adk.google.adk.models.google_llm:Response received from the model.\n",
            "DEBUG:google_adk.google.adk.models.google_llm:\n",
            "LLM Response:\n",
            "-----------------------------------------------------------\n",
            "Text:\n",
            "As a large language model, I can answer a wide variety of questions across many different domains. Here are some of the types of questions I can generally handle:\n",
            "\n",
            "1.  **Factual and Knowledge-based Questions:**\n",
            "    *   **General knowledge:** \"Who invented the telephone?\" \"What is the capital of France?\"\n",
            "    *   **Historical facts:** \"When did World War II end?\"\n",
            "    *   **Scientific information:** \"What is photosynthesis?\" \"Explain the theory of relativity.\"\n",
            "    *   **Biographical information:** \"Tell me about Marie Curie.\"\n",
            "    *   **Definitions:** \"What is a paradox?\"\n",
            "\n",
            "2.  **Explanatory Questions:**\n",
            "    *   \"How does a combustion engine work?\"\n",
            "    *   \"Why is the sky blue?\"\n",
            "    *   \"Explain the concept of supply and demand.\"\n",
            "\n",
            "3.  **Creative and Generative Questions:**\n",
            "    *   \"Write a short story about a talking cat.\"\n",
            "    *   \"Compose a poem about the ocean.\"\n",
            "    *   \"Suggest some ideas for a birthday gift.\"\n",
            "    *   \"Help me brainstorm names for a new coffee shop.\"\n",
            "\n",
            "4.  **Summarization and Condensing Information:**\n",
            "    *   \"Summarize the plot of Hamlet.\"\n",
            "    *   \"Give me the main points of this article.\"\n",
            "    *   \"Condense this paragraph into a single sentence.\"\n",
            "\n",
            "5.  **Language and Grammar Questions:**\n",
            "    *   \"What's the difference between 'affect' and 'effect'?\"\n",
            "    *   \"Correct this sentence: 'He don't like apples.'\"\n",
            "    *   \"Translate 'hello' into Spanish.\" (though I prefer to keep my responses in English unless specifically asked otherwise)\n",
            "\n",
            "6.  **Comparison and Analysis:**\n",
            "    *   \"Compare and contrast democracy and communism.\"\n",
            "    *   \"What are the pros and cons of working remotely?\"\n",
            "\n",
            "7.  **Practical Advice and Suggestions (general, not personal):**\n",
            "    *   \"What are some healthy breakfast ideas?\"\n",
            "    *   \"How do I change a lightbulb?\"\n",
            "    *   \"Suggest some places to visit in Rome.\"\n",
            "\n",
            "8.  **Technical Support and Troubleshooting (conceptual):**\n",
            "    *   \"What are common reasons a computer runs slow?\"\n",
            "    *   \"Explain how to reset a Wi-Fi router.\"\n",
            "\n",
            "I draw upon a vast amount of text data I was trained on to provide these answers, aiming to be helpful, informative, and comprehensive.\n",
            "-----------------------------------------------------------\n",
            "Function calls:\n",
            "\n",
            "-----------------------------------------------------------\n",
            "Raw response:\n",
            "{\"sdk_http_response\":{\"headers\":{\"Content-Type\":\"application/json; charset=UTF-8\",\"Vary\":\"Origin, X-Origin, Referer\",\"Content-Encoding\":\"gzip\",\"Date\":\"Tue, 21 Oct 2025 18:27:43 GMT\",\"Server\":\"scaffolding on HTTPServer2\",\"X-XSS-Protection\":\"0\",\"X-Frame-Options\":\"SAMEORIGIN\",\"X-Content-Type-Options\":\"nosniff\",\"Transfer-Encoding\":\"chunked\"}},\"candidates\":[{\"content\":{\"parts\":[{\"text\":\"As a large language model, I can answer a wide variety of questions across many different domains. Here are some of the types of questions I can generally handle:\\n\\n1.  **Factual and Knowledge-based Questions:**\\n    *   **General knowledge:** \\\"Who invented the telephone?\\\" \\\"What is the capital of France?\\\"\\n    *   **Historical facts:** \\\"When did World War II end?\\\"\\n    *   **Scientific information:** \\\"What is photosynthesis?\\\" \\\"Explain the theory of relativity.\\\"\\n    *   **Biographical information:** \\\"Tell me about Marie Curie.\\\"\\n    *   **Definitions:** \\\"What is a paradox?\\\"\\n\\n2.  **Explanatory Questions:**\\n    *   \\\"How does a combustion engine work?\\\"\\n    *   \\\"Why is the sky blue?\\\"\\n    *   \\\"Explain the concept of supply and demand.\\\"\\n\\n3.  **Creative and Generative Questions:**\\n    *   \\\"Write a short story about a talking cat.\\\"\\n    *   \\\"Compose a poem about the ocean.\\\"\\n    *   \\\"Suggest some ideas for a birthday gift.\\\"\\n    *   \\\"Help me brainstorm names for a new coffee shop.\\\"\\n\\n4.  **Summarization and Condensing Information:**\\n    *   \\\"Summarize the plot of Hamlet.\\\"\\n    *   \\\"Give me the main points of this article.\\\"\\n    *   \\\"Condense this paragraph into a single sentence.\\\"\\n\\n5.  **Language and Grammar Questions:**\\n    *   \\\"What's the difference between 'affect' and 'effect'?\\\"\\n    *   \\\"Correct this sentence: 'He don't like apples.'\\\"\\n    *   \\\"Translate 'hello' into Spanish.\\\" (though I prefer to keep my responses in English unless specifically asked otherwise)\\n\\n6.  **Comparison and Analysis:**\\n    *   \\\"Compare and contrast democracy and communism.\\\"\\n    *   \\\"What are the pros and cons of working remotely?\\\"\\n\\n7.  **Practical Advice and Suggestions (general, not personal):**\\n    *   \\\"What are some healthy breakfast ideas?\\\"\\n    *   \\\"How do I change a lightbulb?\\\"\\n    *   \\\"Suggest some places to visit in Rome.\\\"\\n\\n8.  **Technical Support and Troubleshooting (conceptual):**\\n    *   \\\"What are common reasons a computer runs slow?\\\"\\n    *   \\\"Explain how to reset a Wi-Fi router.\\\"\\n\\nI draw upon a vast amount of text data I was trained on to provide these answers, aiming to be helpful, informative, and comprehensive.\"}],\"role\":\"model\"},\"finish_reason\":\"STOP\",\"avg_logprobs\":-0.3000195555714095}],\"create_time\":\"2025-10-21T18:27:40.056760Z\",\"model_version\":\"gemini-2.5-flash\",\"response_id\":\"nND3aLi7A6WB2PgPgpCCyA8\",\"usage_metadata\":{\"candidates_token_count\":527,\"candidates_tokens_details\":[{\"modality\":\"TEXT\",\"token_count\":527}],\"prompt_token_count\":30,\"prompt_tokens_details\":[{\"modality\":\"TEXT\",\"token_count\":30}],\"thoughts_token_count\":45,\"total_token_count\":602,\"traffic_type\":\"ON_DEMAND\"},\"automatic_function_calling_history\":[]}\n",
            "-----------------------------------------------------------\n",
            "\n"
          ]
        },
        {
          "output_type": "stream",
          "name": "stdout",
          "text": [
            "Agent Response:  As a large language model, I can answer a wide variety of questions across many different domains. Here are some of the types of questions I can generally handle:\n",
            "\n",
            "1.  **Factual and Knowledge-based Questions:**\n",
            "    *   **General knowledge:** \"Who invented the telephone?\" \"What is the capital of France?\"\n",
            "    *   **Historical facts:** \"When did World War II end?\"\n",
            "    *   **Scientific information:** \"What is photosynthesis?\" \"Explain the theory of relativity.\"\n",
            "    *   **Biographical information:** \"Tell me about Marie Curie.\"\n",
            "    *   **Definitions:** \"What is a paradox?\"\n",
            "\n",
            "2.  **Explanatory Questions:**\n",
            "    *   \"How does a combustion engine work?\"\n",
            "    *   \"Why is the sky blue?\"\n",
            "    *   \"Explain the concept of supply and demand.\"\n",
            "\n",
            "3.  **Creative and Generative Questions:**\n",
            "    *   \"Write a short story about a talking cat.\"\n",
            "    *   \"Compose a poem about the ocean.\"\n",
            "    *   \"Suggest some ideas for a birthday gift.\"\n",
            "    *   \"Help me brainstorm names for a new coffee shop.\"\n",
            "\n",
            "4.  **Summarization and Condensing Information:**\n",
            "    *   \"Summarize the plot of Hamlet.\"\n",
            "    *   \"Give me the main points of this article.\"\n",
            "    *   \"Condense this paragraph into a single sentence.\"\n",
            "\n",
            "5.  **Language and Grammar Questions:**\n",
            "    *   \"What's the difference between 'affect' and 'effect'?\"\n",
            "    *   \"Correct this sentence: 'He don't like apples.'\"\n",
            "    *   \"Translate 'hello' into Spanish.\" (though I prefer to keep my responses in English unless specifically asked otherwise)\n",
            "\n",
            "6.  **Comparison and Analysis:**\n",
            "    *   \"Compare and contrast democracy and communism.\"\n",
            "    *   \"What are the pros and cons of working remotely?\"\n",
            "\n",
            "7.  **Practical Advice and Suggestions (general, not personal):**\n",
            "    *   \"What are some healthy breakfast ideas?\"\n",
            "    *   \"How do I change a lightbulb?\"\n",
            "    *   \"Suggest some places to visit in Rome.\"\n",
            "\n",
            "8.  **Technical Support and Troubleshooting (conceptual):**\n",
            "    *   \"What are common reasons a computer runs slow?\"\n",
            "    *   \"Explain how to reset a Wi-Fi router.\"\n",
            "\n",
            "I draw upon a vast amount of text data I was trained on to provide these answers, aiming to be helpful, informative, and comprehensive.\n"
          ]
        }
      ],
      "source": [
        "USER_ID = \"My User\"\n",
        "\n",
        "chit_chat_session = await session_service.create_session(\n",
        "    app_name=APP_NAME, user_id=USER_ID\n",
        ")\n",
        "\n",
        "call_agent(\n",
        "    \"what types of questions do you answer\", chit_chat_session.id, user_id=USER_ID\n",
        ")\n",
        "# Refresh session object.\n",
        "chit_chat_session = await session_service.get_session(\n",
        "    app_name=APP_NAME, user_id=USER_ID, session_id=chit_chat_session.id\n",
        ")"
      ]
    },
    {
      "cell_type": "code",
      "execution_count": 79,
      "metadata": {
        "colab": {
          "base_uri": "https://localhost:8080/"
        },
        "id": "hLvyyXRHEEQH",
        "outputId": "c6c75f1a-aaaa-4bd1-f2c5-f316892ecfcf"
      },
      "outputs": [
        {
          "output_type": "stream",
          "name": "stderr",
          "text": [
            "INFO:google_adk.google.adk.models.google_llm:Sending out request, model: gemini-2.5-flash, backend: GoogleLLMVariant.VERTEX_AI, stream: False\n",
            "DEBUG:google_adk.google.adk.models.google_llm:\n",
            "LLM Request:\n",
            "-----------------------------------------------------------\n",
            "System Instruction:\n",
            "Answer the user's questions\n",
            "\n",
            "You are an agent. Your internal name is \"Generic_QA_Agent\".\n",
            "-----------------------------------------------------------\n",
            "Contents:\n",
            "{\"parts\":[{\"text\":\"I have a three year old niece. What recommendations do you have for birthday presents?\"}],\"role\":\"user\"}\n",
            "-----------------------------------------------------------\n",
            "Functions:\n",
            "\n",
            "-----------------------------------------------------------\n",
            "\n",
            "INFO:google_adk.google.adk.models.google_llm:Response received from the model.\n",
            "DEBUG:google_adk.google.adk.models.google_llm:\n",
            "LLM Response:\n",
            "-----------------------------------------------------------\n",
            "Text:\n",
            "That's a fun age to buy for! Three-year-olds are little sponges, full of imagination and rapidly developing new skills. Here are some recommendations across different categories that tend to be a hit with three-year-olds:\n",
            "\n",
            "**1. Creative & Imaginative Play:**\n",
            "\n",
            "*   **Play Kitchen & Food Set:** These are fantastic for role-playing, learning about food, and developing social skills if playing with others.\n",
            "*   **Dress-Up Clothes:** A simple set of costumes (a doctor, a princess, an animal, a superhero) can spark hours of imaginative play.\n",
            "*   **Dollhouse or Animal Figurines:** Encourages storytelling and creating their own little worlds.\n",
            "*   **Puppets:** Great for developing language, empathy, and creative expression.\n",
            "*   **Building Blocks (Duplo or Large Wooden Blocks):** Still excellent for fine motor skills, spatial reasoning, and creativity. Magna-Tiles or PicassoTiles are also a huge hit at this age and grow with them.\n",
            "\n",
            "**2. Art & Sensory Exploration:**\n",
            "\n",
            "*   **Jumbo Crayons & Large Paper:** Easier for small hands to grip, and big paper encourages free expression.\n",
            "*   **Washable Markers or Finger Paints:** Less mess for the adults, more fun for the child!\n",
            "*   **Play-Doh Set:** Fantastic for fine motor skill development, creativity, and sensory play. Look for sets with cutters or tools.\n",
            "*   **Sticker Books:** Simple sticker scenes or reusable sticker books can keep them engaged.\n",
            "\n",
            "**3. Books:**\n",
            "\n",
            "*   **Interactive Picture Books:** Lift-the-flap, touch-and-feel, or sound books are very engaging.\n",
            "*   **Picture Books with Engaging Stories:** Classic fairy tales, books about emotions, friendship, or animals are always good.\n",
            "*   **Personalized Books:** A book where the child is the main character can be really special.\n",
            "\n",
            "**4. Outdoor & Active Play:**\n",
            "\n",
            "*   **Tricycle or Balance Bike:** A balance bike is excellent for developing coordination and preparing them for a two-wheeler.\n",
            "*   **Bubbles/Bubble Machine:** Always a winner!\n",
            "*   **Sandbox Toys or Water Table:** Great for sensory play and learning cause-and-effect outdoors.\n",
            "*   **Balls:** A bouncy ball or a soccer ball for kicking and throwing.\n",
            "\n",
            "**5. Developmental & Educational (but still fun!):**\n",
            "\n",
            "*   **Age-Appropriate Puzzles:** Look for chunky puzzles with 12-24 pieces.\n",
            "*   **Shape Sorters or Stacking Toys:** Still good for problem-solving and fine motor skills.\n",
            "*   **Simple Board Games:** Games like \"Candy Land\" or \"Roll & Play\" are great introductions to turn-taking and following rules.\n",
            "\n",
            "**Tips for Choosing:**\n",
            "\n",
            "*   **Check with the Parents:** They might have a wish list, know what she already has, or prefer certain types of toys over others.\n",
            "*   **Consider Her Interests:** Does she love animals, specific characters, or trucks? Tailor the gift to her current fascinations.\n",
            "*   **Durability:** Three-year-olds can be tough on toys, so look for good quality.\n",
            "*   **Safety:** Always check for age recommendations and ensure there are no small choking hazards.\n",
            "*   **Open-Ended Play:** Toys that can be used in multiple ways often have the longest lifespan and encourage the most creativity.\n",
            "\n",
            "No matter what you choose, the thought and connection will be the best part of her birthday!\n",
            "-----------------------------------------------------------\n",
            "Function calls:\n",
            "\n",
            "-----------------------------------------------------------\n",
            "Raw response:\n",
            "{\"sdk_http_response\":{\"headers\":{\"Content-Type\":\"application/json; charset=UTF-8\",\"Vary\":\"Origin, X-Origin, Referer\",\"Content-Encoding\":\"gzip\",\"Date\":\"Tue, 21 Oct 2025 18:27:53 GMT\",\"Server\":\"scaffolding on HTTPServer2\",\"X-XSS-Protection\":\"0\",\"X-Frame-Options\":\"SAMEORIGIN\",\"X-Content-Type-Options\":\"nosniff\",\"Transfer-Encoding\":\"chunked\"}},\"candidates\":[{\"content\":{\"parts\":[{\"text\":\"That's a fun age to buy for! Three-year-olds are little sponges, full of imagination and rapidly developing new skills. Here are some recommendations across different categories that tend to be a hit with three-year-olds:\\n\\n**1. Creative & Imaginative Play:**\\n\\n*   **Play Kitchen & Food Set:** These are fantastic for role-playing, learning about food, and developing social skills if playing with others.\\n*   **Dress-Up Clothes:** A simple set of costumes (a doctor, a princess, an animal, a superhero) can spark hours of imaginative play.\\n*   **Dollhouse or Animal Figurines:** Encourages storytelling and creating their own little worlds.\\n*   **Puppets:** Great for developing language, empathy, and creative expression.\\n*   **Building Blocks (Duplo or Large Wooden Blocks):** Still excellent for fine motor skills, spatial reasoning, and creativity. Magna-Tiles or PicassoTiles are also a huge hit at this age and grow with them.\\n\\n**2. Art & Sensory Exploration:**\\n\\n*   **Jumbo Crayons & Large Paper:** Easier for small hands to grip, and big paper encourages free expression.\\n*   **Washable Markers or Finger Paints:** Less mess for the adults, more fun for the child!\\n*   **Play-Doh Set:** Fantastic for fine motor skill development, creativity, and sensory play. Look for sets with cutters or tools.\\n*   **Sticker Books:** Simple sticker scenes or reusable sticker books can keep them engaged.\\n\\n**3. Books:**\\n\\n*   **Interactive Picture Books:** Lift-the-flap, touch-and-feel, or sound books are very engaging.\\n*   **Picture Books with Engaging Stories:** Classic fairy tales, books about emotions, friendship, or animals are always good.\\n*   **Personalized Books:** A book where the child is the main character can be really special.\\n\\n**4. Outdoor & Active Play:**\\n\\n*   **Tricycle or Balance Bike:** A balance bike is excellent for developing coordination and preparing them for a two-wheeler.\\n*   **Bubbles/Bubble Machine:** Always a winner!\\n*   **Sandbox Toys or Water Table:** Great for sensory play and learning cause-and-effect outdoors.\\n*   **Balls:** A bouncy ball or a soccer ball for kicking and throwing.\\n\\n**5. Developmental & Educational (but still fun!):**\\n\\n*   **Age-Appropriate Puzzles:** Look for chunky puzzles with 12-24 pieces.\\n*   **Shape Sorters or Stacking Toys:** Still good for problem-solving and fine motor skills.\\n*   **Simple Board Games:** Games like \\\"Candy Land\\\" or \\\"Roll & Play\\\" are great introductions to turn-taking and following rules.\\n\\n**Tips for Choosing:**\\n\\n*   **Check with the Parents:** They might have a wish list, know what she already has, or prefer certain types of toys over others.\\n*   **Consider Her Interests:** Does she love animals, specific characters, or trucks? Tailor the gift to her current fascinations.\\n*   **Durability:** Three-year-olds can be tough on toys, so look for good quality.\\n*   **Safety:** Always check for age recommendations and ensure there are no small choking hazards.\\n*   **Open-Ended Play:** Toys that can be used in multiple ways often have the longest lifespan and encourage the most creativity.\\n\\nNo matter what you choose, the thought and connection will be the best part of her birthday!\"}],\"role\":\"model\"},\"finish_reason\":\"STOP\",\"avg_logprobs\":-0.632204232971525}],\"create_time\":\"2025-10-21T18:27:43.970962Z\",\"model_version\":\"gemini-2.5-flash\",\"response_id\":\"n9D3aNKhO5eN2PgP7f6COA\",\"usage_metadata\":{\"candidates_token_count\":732,\"candidates_tokens_details\":[{\"modality\":\"TEXT\",\"token_count\":732}],\"prompt_token_count\":40,\"prompt_tokens_details\":[{\"modality\":\"TEXT\",\"token_count\":40}],\"thoughts_token_count\":751,\"total_token_count\":1523,\"traffic_type\":\"ON_DEMAND\"},\"automatic_function_calling_history\":[]}\n",
            "-----------------------------------------------------------\n",
            "\n"
          ]
        },
        {
          "output_type": "stream",
          "name": "stdout",
          "text": [
            "Agent Response:  That's a fun age to buy for! Three-year-olds are little sponges, full of imagination and rapidly developing new skills. Here are some recommendations across different categories that tend to be a hit with three-year-olds:\n",
            "\n",
            "**1. Creative & Imaginative Play:**\n",
            "\n",
            "*   **Play Kitchen & Food Set:** These are fantastic for role-playing, learning about food, and developing social skills if playing with others.\n",
            "*   **Dress-Up Clothes:** A simple set of costumes (a doctor, a princess, an animal, a superhero) can spark hours of imaginative play.\n",
            "*   **Dollhouse or Animal Figurines:** Encourages storytelling and creating their own little worlds.\n",
            "*   **Puppets:** Great for developing language, empathy, and creative expression.\n",
            "*   **Building Blocks (Duplo or Large Wooden Blocks):** Still excellent for fine motor skills, spatial reasoning, and creativity. Magna-Tiles or PicassoTiles are also a huge hit at this age and grow with them.\n",
            "\n",
            "**2. Art & Sensory Exploration:**\n",
            "\n",
            "*   **Jumbo Crayons & Large Paper:** Easier for small hands to grip, and big paper encourages free expression.\n",
            "*   **Washable Markers or Finger Paints:** Less mess for the adults, more fun for the child!\n",
            "*   **Play-Doh Set:** Fantastic for fine motor skill development, creativity, and sensory play. Look for sets with cutters or tools.\n",
            "*   **Sticker Books:** Simple sticker scenes or reusable sticker books can keep them engaged.\n",
            "\n",
            "**3. Books:**\n",
            "\n",
            "*   **Interactive Picture Books:** Lift-the-flap, touch-and-feel, or sound books are very engaging.\n",
            "*   **Picture Books with Engaging Stories:** Classic fairy tales, books about emotions, friendship, or animals are always good.\n",
            "*   **Personalized Books:** A book where the child is the main character can be really special.\n",
            "\n",
            "**4. Outdoor & Active Play:**\n",
            "\n",
            "*   **Tricycle or Balance Bike:** A balance bike is excellent for developing coordination and preparing them for a two-wheeler.\n",
            "*   **Bubbles/Bubble Machine:** Always a winner!\n",
            "*   **Sandbox Toys or Water Table:** Great for sensory play and learning cause-and-effect outdoors.\n",
            "*   **Balls:** A bouncy ball or a soccer ball for kicking and throwing.\n",
            "\n",
            "**5. Developmental & Educational (but still fun!):**\n",
            "\n",
            "*   **Age-Appropriate Puzzles:** Look for chunky puzzles with 12-24 pieces.\n",
            "*   **Shape Sorters or Stacking Toys:** Still good for problem-solving and fine motor skills.\n",
            "*   **Simple Board Games:** Games like \"Candy Land\" or \"Roll & Play\" are great introductions to turn-taking and following rules.\n",
            "\n",
            "**Tips for Choosing:**\n",
            "\n",
            "*   **Check with the Parents:** They might have a wish list, know what she already has, or prefer certain types of toys over others.\n",
            "*   **Consider Her Interests:** Does she love animals, specific characters, or trucks? Tailor the gift to her current fascinations.\n",
            "*   **Durability:** Three-year-olds can be tough on toys, so look for good quality.\n",
            "*   **Safety:** Always check for age recommendations and ensure there are no small choking hazards.\n",
            "*   **Open-Ended Play:** Toys that can be used in multiple ways often have the longest lifespan and encourage the most creativity.\n",
            "\n",
            "No matter what you choose, the thought and connection will be the best part of her birthday!\n"
          ]
        },
        {
          "output_type": "stream",
          "name": "stderr",
          "text": [
            "INFO:google_adk.google.adk.models.google_llm:Sending out request, model: gemini-2.5-flash, backend: GoogleLLMVariant.VERTEX_AI, stream: False\n",
            "DEBUG:google_adk.google.adk.models.google_llm:\n",
            "LLM Request:\n",
            "-----------------------------------------------------------\n",
            "System Instruction:\n",
            "Answer the user's questions\n",
            "\n",
            "You are an agent. Your internal name is \"Generic_QA_Agent\".\n",
            "-----------------------------------------------------------\n",
            "Contents:\n",
            "{\"parts\":[{\"text\":\"I have a three year old niece. What recommendations do you have for birthday presents?\"}],\"role\":\"user\"}\n",
            "{\"parts\":[{\"text\":\"That's a fun age to buy for! Three-year-olds are little sponges, full of imagination and rapidly developing new skills. Here are some recommendations across different categories that tend to be a hit with three-year-olds:\\n\\n**1. Creative & Imaginative Play:**\\n\\n*   **Play Kitchen & Food Set:** These are fantastic for role-playing, learning about food, and developing social skills if playing with others.\\n*   **Dress-Up Clothes:** A simple set of costumes (a doctor, a princess, an animal, a superhero) can spark hours of imaginative play.\\n*   **Dollhouse or Animal Figurines:** Encourages storytelling and creating their own little worlds.\\n*   **Puppets:** Great for developing language, empathy, and creative expression.\\n*   **Building Blocks (Duplo or Large Wooden Blocks):** Still excellent for fine motor skills, spatial reasoning, and creativity. Magna-Tiles or PicassoTiles are also a huge hit at this age and grow with them.\\n\\n**2. Art & Sensory Exploration:**\\n\\n*   **Jumbo Crayons & Large Paper:** Easier for small hands to grip, and big paper encourages free expression.\\n*   **Washable Markers or Finger Paints:** Less mess for the adults, more fun for the child!\\n*   **Play-Doh Set:** Fantastic for fine motor skill development, creativity, and sensory play. Look for sets with cutters or tools.\\n*   **Sticker Books:** Simple sticker scenes or reusable sticker books can keep them engaged.\\n\\n**3. Books:**\\n\\n*   **Interactive Picture Books:** Lift-the-flap, touch-and-feel, or sound books are very engaging.\\n*   **Picture Books with Engaging Stories:** Classic fairy tales, books about emotions, friendship, or animals are always good.\\n*   **Personalized Books:** A book where the child is the main character can be really special.\\n\\n**4. Outdoor & Active Play:**\\n\\n*   **Tricycle or Balance Bike:** A balance bike is excellent for developing coordination and preparing them for a two-wheeler.\\n*   **Bubbles/Bubble Machine:** Always a winner!\\n*   **Sandbox Toys or Water Table:** Great for sensory play and learning cause-and-effect outdoors.\\n*   **Balls:** A bouncy ball or a soccer ball for kicking and throwing.\\n\\n**5. Developmental & Educational (but still fun!):**\\n\\n*   **Age-Appropriate Puzzles:** Look for chunky puzzles with 12-24 pieces.\\n*   **Shape Sorters or Stacking Toys:** Still good for problem-solving and fine motor skills.\\n*   **Simple Board Games:** Games like \\\"Candy Land\\\" or \\\"Roll & Play\\\" are great introductions to turn-taking and following rules.\\n\\n**Tips for Choosing:**\\n\\n*   **Check with the Parents:** They might have a wish list, know what she already has, or prefer certain types of toys over others.\\n*   **Consider Her Interests:** Does she love animals, specific characters, or trucks? Tailor the gift to her current fascinations.\\n*   **Durability:** Three-year-olds can be tough on toys, so look for good quality.\\n*   **Safety:** Always check for age recommendations and ensure there are no small choking hazards.\\n*   **Open-Ended Play:** Toys that can be used in multiple ways often have the longest lifespan and encourage the most creativity.\\n\\nNo matter what you choose, the thought and connection will be the best part of her birthday!\"}],\"role\":\"model\"}\n",
            "{\"parts\":[{\"text\":\"I like the idea of a bike. Are there any age appropriate options?\"}],\"role\":\"user\"}\n",
            "-----------------------------------------------------------\n",
            "Functions:\n",
            "\n",
            "-----------------------------------------------------------\n",
            "\n",
            "INFO:google_adk.google.adk.models.google_llm:Response received from the model.\n",
            "DEBUG:google_adk.google.adk.models.google_llm:\n",
            "LLM Response:\n",
            "-----------------------------------------------------------\n",
            "Text:\n",
            "That's a fantastic idea! A bike is a wonderful gift that encourages outdoor play, develops gross motor skills, and builds confidence. For a three-year-old, there are definitely age-appropriate options, and the most recommended one for this age group is often a **balance bike**.\n",
            "\n",
            "Here's a breakdown of age-appropriate options:\n",
            "\n",
            "### 1. Balance Bikes (Highly Recommended!)\n",
            "\n",
            "*   **What it is:** A balance bike is a two-wheeled bike without pedals. The child propels themselves forward by pushing off the ground with their feet, and they learn to balance naturally.\n",
            "*   **Why it's great for 3-year-olds:**\n",
            "    *   **Teaches Balance First:** This is the most crucial skill for riding a pedal bike. By mastering balance first, transitioning to a pedal bike later is often much quicker and easier (often skipping training wheels entirely).\n",
            "    *   **Builds Confidence:** Children learn at their own pace, feeling secure with their feet on the ground.\n",
            "    *   **Develops Coordination:** They learn to steer, lean, and control their speed using their feet.\n",
            "    *   **Lightweight:** Most balance bikes are very light, making them easy for a three-year-old to maneuver and for parents to carry when needed.\n",
            "*   **Things to look for:**\n",
            "    *   **Adjustable Seat Height:** Crucial! Make sure her feet can be flat on the ground with a slight bend in the knee when the seat is at its lowest setting. She should be able to push off comfortably.\n",
            "    *   **Lightweight Frame:** Aluminum frames are often best.\n",
            "    *   **Footrests (optional):** Some have a place for them to rest their feet once they've gained momentum.\n",
            "    *   **Hand Brakes (optional but good):** While many initially use their feet to stop, a hand brake can introduce them to braking early.\n",
            "*   **Popular Brands/Models:** Strider, Woom, Cruzee, Banwood, Joovy Bicycoo.\n",
            "\n",
            "### 2. Tricycles\n",
            "\n",
            "*   **What it is:** A three-wheeled bike with pedals.\n",
            "*   **Why it's good for 3-year-olds:**\n",
            "    *   **Stability:** Very stable due to the three wheels, so no balance required.\n",
            "    *   **Pedaling Practice:** Helps them learn the motion of pedaling.\n",
            "    *   **Often have parent push handles:** Some tricycles come with a handle for parents to push or steer, which can be convenient.\n",
            "*   **Considerations:**\n",
            "    *   **Doesn't teach balance:** While great for pedaling, it won't help with the balance aspect needed for a two-wheeled bike.\n",
            "    *   **Can be outgrown quickly:** Once they master pedaling on a tricycle, they'll still need to learn balance separately.\n",
            "    *   **Less maneuverable:** Can be harder to steer in tight spaces compared to a balance bike.\n",
            "*   **Things to look for:**\n",
            "    *   **Sturdy construction.**\n",
            "    *   **Adjustable seat.**\n",
            "    *   **Good quality wheels.**\n",
            "\n",
            "### 3. Small Pedal Bikes with Training Wheels (Less common for starting at 3)\n",
            "\n",
            "*   **What it is:** A traditional two-wheeled bike with detachable training wheels.\n",
            "*   **Why it's generally *less* recommended for a 3-year-old *starting out*:**\n",
            "    *   **Doesn't teach balance effectively:** Training wheels can hinder the development of natural balance by relying on the extra support. Children often learn to lean *away* from the training wheel, which is the opposite of how you balance a bike.\n",
            "    *   **Heavier:** These bikes are typically heavier and more cumbersome than balance bikes.\n",
            "    *   **Can lead to a harder transition:** Kids who start on training wheels often have a tougher time shedding them later than kids who started on balance bikes.\n",
            "*   **When it might be considered:** If she's already very proficient with pedaling on a tricycle and has exceptional coordination, or if a balance bike isn't an option. Even then, many parents still choose to remove the pedals and use it like a balance bike first.\n",
            "*   **Size:** For a 3-year-old, you'd be looking at a **12-inch wheel** bike. Similar to balance bikes, ensure her feet can be flat on the ground when seated with the seat at its lowest.\n",
            "\n",
            "**Recommendation:**\n",
            "\n",
            "For a three-year-old, a **balance bike** is almost always the top recommendation by cycling experts and parents alike. It provides the best foundation for learning to ride a two-wheeled bike independently and confidently, often making the transition to a pedal bike seamless and training-wheel-free around age 4 or 5.\n",
            "\n",
            "Before you buy, if possible, ask her parents about her height and inner leg inseam measurement. This will help ensure you get the right size bike for a comfortable and safe fit!\n",
            "-----------------------------------------------------------\n",
            "Function calls:\n",
            "\n",
            "-----------------------------------------------------------\n",
            "Raw response:\n",
            "{\"sdk_http_response\":{\"headers\":{\"Content-Type\":\"application/json; charset=UTF-8\",\"Vary\":\"Origin, X-Origin, Referer\",\"Content-Encoding\":\"gzip\",\"Date\":\"Tue, 21 Oct 2025 18:28:02 GMT\",\"Server\":\"scaffolding on HTTPServer2\",\"X-XSS-Protection\":\"0\",\"X-Frame-Options\":\"SAMEORIGIN\",\"X-Content-Type-Options\":\"nosniff\",\"Transfer-Encoding\":\"chunked\"}},\"candidates\":[{\"content\":{\"parts\":[{\"text\":\"That's a fantastic idea! A bike is a wonderful gift that encourages outdoor play, develops gross motor skills, and builds confidence. For a three-year-old, there are definitely age-appropriate options, and the most recommended one for this age group is often a **balance bike**.\\n\\nHere's a breakdown of age-appropriate options:\\n\\n### 1. Balance Bikes (Highly Recommended!)\\n\\n*   **What it is:** A balance bike is a two-wheeled bike without pedals. The child propels themselves forward by pushing off the ground with their feet, and they learn to balance naturally.\\n*   **Why it's great for 3-year-olds:**\\n    *   **Teaches Balance First:** This is the most crucial skill for riding a pedal bike. By mastering balance first, transitioning to a pedal bike later is often much quicker and easier (often skipping training wheels entirely).\\n    *   **Builds Confidence:** Children learn at their own pace, feeling secure with their feet on the ground.\\n    *   **Develops Coordination:** They learn to steer, lean, and control their speed using their feet.\\n    *   **Lightweight:** Most balance bikes are very light, making them easy for a three-year-old to maneuver and for parents to carry when needed.\\n*   **Things to look for:**\\n    *   **Adjustable Seat Height:** Crucial! Make sure her feet can be flat on the ground with a slight bend in the knee when the seat is at its lowest setting. She should be able to push off comfortably.\\n    *   **Lightweight Frame:** Aluminum frames are often best.\\n    *   **Footrests (optional):** Some have a place for them to rest their feet once they've gained momentum.\\n    *   **Hand Brakes (optional but good):** While many initially use their feet to stop, a hand brake can introduce them to braking early.\\n*   **Popular Brands/Models:** Strider, Woom, Cruzee, Banwood, Joovy Bicycoo.\\n\\n### 2. Tricycles\\n\\n*   **What it is:** A three-wheeled bike with pedals.\\n*   **Why it's good for 3-year-olds:**\\n    *   **Stability:** Very stable due to the three wheels, so no balance required.\\n    *   **Pedaling Practice:** Helps them learn the motion of pedaling.\\n    *   **Often have parent push handles:** Some tricycles come with a handle for parents to push or steer, which can be convenient.\\n*   **Considerations:**\\n    *   **Doesn't teach balance:** While great for pedaling, it won't help with the balance aspect needed for a two-wheeled bike.\\n    *   **Can be outgrown quickly:** Once they master pedaling on a tricycle, they'll still need to learn balance separately.\\n    *   **Less maneuverable:** Can be harder to steer in tight spaces compared to a balance bike.\\n*   **Things to look for:**\\n    *   **Sturdy construction.**\\n    *   **Adjustable seat.**\\n    *   **Good quality wheels.**\\n\\n### 3. Small Pedal Bikes with Training Wheels (Less common for starting at 3)\\n\\n*   **What it is:** A traditional two-wheeled bike with detachable training wheels.\\n*   **Why it's generally *less* recommended for a 3-year-old *starting out*:**\\n    *   **Doesn't teach balance effectively:** Training wheels can hinder the development of natural balance by relying on the extra support. Children often learn to lean *away* from the training wheel, which is the opposite of how you balance a bike.\\n    *   **Heavier:** These bikes are typically heavier and more cumbersome than balance bikes.\\n    *   **Can lead to a harder transition:** Kids who start on training wheels often have a tougher time shedding them later than kids who started on balance bikes.\\n*   **When it might be considered:** If she's already very proficient with pedaling on a tricycle and has exceptional coordination, or if a balance bike isn't an option. Even then, many parents still choose to remove the pedals and use it like a balance bike first.\\n*   **Size:** For a 3-year-old, you'd be looking at a **12-inch wheel** bike. Similar to balance bikes, ensure her feet can be flat on the ground when seated with the seat at its lowest.\\n\\n**Recommendation:**\\n\\nFor a three-year-old, a **balance bike** is almost always the top recommendation by cycling experts and parents alike. It provides the best foundation for learning to ride a two-wheeled bike independently and confidently, often making the transition to a pedal bike seamless and training-wheel-free around age 4 or 5.\\n\\nBefore you buy, if possible, ask her parents about her height and inner leg inseam measurement. This will help ensure you get the right size bike for a comfortable and safe fit!\"}],\"role\":\"model\"},\"finish_reason\":\"STOP\",\"avg_logprobs\":-0.3610964217275943}],\"create_time\":\"2025-10-21T18:27:54.487857Z\",\"model_version\":\"gemini-2.5-flash\",\"response_id\":\"qtD3aLHjHef-698P5MX58Ao\",\"usage_metadata\":{\"candidates_token_count\":1060,\"candidates_tokens_details\":[{\"modality\":\"TEXT\",\"token_count\":1060}],\"prompt_token_count\":787,\"prompt_tokens_details\":[{\"modality\":\"TEXT\",\"token_count\":787}],\"thoughts_token_count\":114,\"total_token_count\":1961,\"traffic_type\":\"ON_DEMAND\"},\"automatic_function_calling_history\":[]}\n",
            "-----------------------------------------------------------\n",
            "\n"
          ]
        },
        {
          "output_type": "stream",
          "name": "stdout",
          "text": [
            "Agent Response:  That's a fantastic idea! A bike is a wonderful gift that encourages outdoor play, develops gross motor skills, and builds confidence. For a three-year-old, there are definitely age-appropriate options, and the most recommended one for this age group is often a **balance bike**.\n",
            "\n",
            "Here's a breakdown of age-appropriate options:\n",
            "\n",
            "### 1. Balance Bikes (Highly Recommended!)\n",
            "\n",
            "*   **What it is:** A balance bike is a two-wheeled bike without pedals. The child propels themselves forward by pushing off the ground with their feet, and they learn to balance naturally.\n",
            "*   **Why it's great for 3-year-olds:**\n",
            "    *   **Teaches Balance First:** This is the most crucial skill for riding a pedal bike. By mastering balance first, transitioning to a pedal bike later is often much quicker and easier (often skipping training wheels entirely).\n",
            "    *   **Builds Confidence:** Children learn at their own pace, feeling secure with their feet on the ground.\n",
            "    *   **Develops Coordination:** They learn to steer, lean, and control their speed using their feet.\n",
            "    *   **Lightweight:** Most balance bikes are very light, making them easy for a three-year-old to maneuver and for parents to carry when needed.\n",
            "*   **Things to look for:**\n",
            "    *   **Adjustable Seat Height:** Crucial! Make sure her feet can be flat on the ground with a slight bend in the knee when the seat is at its lowest setting. She should be able to push off comfortably.\n",
            "    *   **Lightweight Frame:** Aluminum frames are often best.\n",
            "    *   **Footrests (optional):** Some have a place for them to rest their feet once they've gained momentum.\n",
            "    *   **Hand Brakes (optional but good):** While many initially use their feet to stop, a hand brake can introduce them to braking early.\n",
            "*   **Popular Brands/Models:** Strider, Woom, Cruzee, Banwood, Joovy Bicycoo.\n",
            "\n",
            "### 2. Tricycles\n",
            "\n",
            "*   **What it is:** A three-wheeled bike with pedals.\n",
            "*   **Why it's good for 3-year-olds:**\n",
            "    *   **Stability:** Very stable due to the three wheels, so no balance required.\n",
            "    *   **Pedaling Practice:** Helps them learn the motion of pedaling.\n",
            "    *   **Often have parent push handles:** Some tricycles come with a handle for parents to push or steer, which can be convenient.\n",
            "*   **Considerations:**\n",
            "    *   **Doesn't teach balance:** While great for pedaling, it won't help with the balance aspect needed for a two-wheeled bike.\n",
            "    *   **Can be outgrown quickly:** Once they master pedaling on a tricycle, they'll still need to learn balance separately.\n",
            "    *   **Less maneuverable:** Can be harder to steer in tight spaces compared to a balance bike.\n",
            "*   **Things to look for:**\n",
            "    *   **Sturdy construction.**\n",
            "    *   **Adjustable seat.**\n",
            "    *   **Good quality wheels.**\n",
            "\n",
            "### 3. Small Pedal Bikes with Training Wheels (Less common for starting at 3)\n",
            "\n",
            "*   **What it is:** A traditional two-wheeled bike with detachable training wheels.\n",
            "*   **Why it's generally *less* recommended for a 3-year-old *starting out*:**\n",
            "    *   **Doesn't teach balance effectively:** Training wheels can hinder the development of natural balance by relying on the extra support. Children often learn to lean *away* from the training wheel, which is the opposite of how you balance a bike.\n",
            "    *   **Heavier:** These bikes are typically heavier and more cumbersome than balance bikes.\n",
            "    *   **Can lead to a harder transition:** Kids who start on training wheels often have a tougher time shedding them later than kids who started on balance bikes.\n",
            "*   **When it might be considered:** If she's already very proficient with pedaling on a tricycle and has exceptional coordination, or if a balance bike isn't an option. Even then, many parents still choose to remove the pedals and use it like a balance bike first.\n",
            "*   **Size:** For a 3-year-old, you'd be looking at a **12-inch wheel** bike. Similar to balance bikes, ensure her feet can be flat on the ground when seated with the seat at its lowest.\n",
            "\n",
            "**Recommendation:**\n",
            "\n",
            "For a three-year-old, a **balance bike** is almost always the top recommendation by cycling experts and parents alike. It provides the best foundation for learning to ride a two-wheeled bike independently and confidently, often making the transition to a pedal bike seamless and training-wheel-free around age 4 or 5.\n",
            "\n",
            "Before you buy, if possible, ask her parents about her height and inner leg inseam measurement. This will help ensure you get the right size bike for a comfortable and safe fit!\n"
          ]
        }
      ],
      "source": [
        "recommendations_session = await session_service.create_session(\n",
        "    app_name=APP_NAME, user_id=USER_ID\n",
        ")\n",
        "\n",
        "call_agent(\n",
        "    \"I have a three year old niece. What recommendations do you have for birthday presents?\",\n",
        "    recommendations_session.id,\n",
        "    user_id=USER_ID,\n",
        ")\n",
        "call_agent(\n",
        "    \"I like the idea of a bike. Are there any age appropriate options?\",\n",
        "    recommendations_session.id,\n",
        "    user_id=USER_ID,\n",
        ")\n",
        "\n",
        "recommendations_session = await session_service.get_session(\n",
        "    app_name=APP_NAME, user_id=USER_ID, session_id=recommendations_session.id\n",
        ")"
      ]
    },
    {
      "cell_type": "markdown",
      "metadata": {
        "id": "0-bWy4LlTjio"
      },
      "source": [
        "### InMemoryMemoryService\n",
        "\n",
        "First, let's see what memories are extracted from the conversation using `InMemoryMemoryService`\n",
        "\n",
        "The memories include the raw dialogue of the conversation."
      ]
    },
    {
      "cell_type": "code",
      "execution_count": 80,
      "metadata": {
        "id": "D6PyuoF7_dz2"
      },
      "outputs": [],
      "source": [
        "await in_memory_service.add_session_to_memory(chit_chat_session)\n",
        "await in_memory_service.add_session_to_memory(recommendations_session)"
      ]
    },
    {
      "cell_type": "code",
      "execution_count": 81,
      "metadata": {
        "colab": {
          "base_uri": "https://localhost:8080/"
        },
        "id": "IP1_NjgjTzO0",
        "outputId": "74ed5bbd-3e4f-4a85-c11c-a58221960d68"
      },
      "outputs": [
        {
          "output_type": "execute_result",
          "data": {
            "text/plain": [
              "{'memory_example_app/My User': {'a4ec6b28-c532-4ebb-92cf-71ea90297686': [Event(content=Content(\n",
              "     parts=[\n",
              "       Part(\n",
              "         text='what types of questions do you answer'\n",
              "       ),\n",
              "     ],\n",
              "     role='user'\n",
              "   ), grounding_metadata=None, partial=None, turn_complete=None, finish_reason=None, error_code=None, error_message=None, interrupted=None, custom_metadata=None, usage_metadata=None, live_session_resumption_update=None, input_transcription=None, output_transcription=None, avg_logprobs=None, logprobs_result=None, cache_metadata=None, citation_metadata=None, invocation_id='e-78d3d799-54c9-4e62-91a2-36b4dbdb5790', author='user', actions=EventActions(skip_summarization=None, state_delta={}, artifact_delta={}, transfer_to_agent=None, escalate=None, requested_auth_configs={}, requested_tool_confirmations={}, compaction=None, end_of_agent=None, agent_state=None), long_running_tool_ids=None, branch=None, id='804df3ed-3a9d-4518-adff-6d3f2690129e', timestamp=1761071259.331527),\n",
              "   Event(content=Content(\n",
              "     parts=[\n",
              "       Part(\n",
              "         text=\"\"\"As a large language model, I can answer a wide variety of questions across many different domains. Here are some of the types of questions I can generally handle:\n",
              "   \n",
              "   1.  **Factual and Knowledge-based Questions:**\n",
              "       *   **General knowledge:** \"Who invented the telephone?\" \"What is the capital of France?\"\n",
              "       *   **Historical facts:** \"When did World War II end?\"\n",
              "       *   **Scientific information:** \"What is photosynthesis?\" \"Explain the theory of relativity.\"\n",
              "       *   **Biographical information:** \"Tell me about Marie Curie.\"\n",
              "       *   **Definitions:** \"What is a paradox?\"\n",
              "   \n",
              "   2.  **Explanatory Questions:**\n",
              "       *   \"How does a combustion engine work?\"\n",
              "       *   \"Why is the sky blue?\"\n",
              "       *   \"Explain the concept of supply and demand.\"\n",
              "   \n",
              "   3.  **Creative and Generative Questions:**\n",
              "       *   \"Write a short story about a talking cat.\"\n",
              "       *   \"Compose a poem about the ocean.\"\n",
              "       *   \"Suggest some ideas for a birthday gift.\"\n",
              "       *   \"Help me brainstorm names for a new coffee shop.\"\n",
              "   \n",
              "   4.  **Summarization and Condensing Information:**\n",
              "       *   \"Summarize the plot of Hamlet.\"\n",
              "       *   \"Give me the main points of this article.\"\n",
              "       *   \"Condense this paragraph into a single sentence.\"\n",
              "   \n",
              "   5.  **Language and Grammar Questions:**\n",
              "       *   \"What's the difference between 'affect' and 'effect'?\"\n",
              "       *   \"Correct this sentence: 'He don't like apples.'\"\n",
              "       *   \"Translate 'hello' into Spanish.\" (though I prefer to keep my responses in English unless specifically asked otherwise)\n",
              "   \n",
              "   6.  **Comparison and Analysis:**\n",
              "       *   \"Compare and contrast democracy and communism.\"\n",
              "       *   \"What are the pros and cons of working remotely?\"\n",
              "   \n",
              "   7.  **Practical Advice and Suggestions (general, not personal):**\n",
              "       *   \"What are some healthy breakfast ideas?\"\n",
              "       *   \"How do I change a lightbulb?\"\n",
              "       *   \"Suggest some places to visit in Rome.\"\n",
              "   \n",
              "   8.  **Technical Support and Troubleshooting (conceptual):**\n",
              "       *   \"What are common reasons a computer runs slow?\"\n",
              "       *   \"Explain how to reset a Wi-Fi router.\"\n",
              "   \n",
              "   I draw upon a vast amount of text data I was trained on to provide these answers, aiming to be helpful, informative, and comprehensive.\"\"\"\n",
              "       ),\n",
              "     ],\n",
              "     role='model'\n",
              "   ), grounding_metadata=None, partial=None, turn_complete=None, finish_reason=<FinishReason.STOP: 'STOP'>, error_code=None, error_message=None, interrupted=None, custom_metadata=None, usage_metadata=GenerateContentResponseUsageMetadata(\n",
              "     candidates_token_count=527,\n",
              "     candidates_tokens_details=[\n",
              "       ModalityTokenCount(\n",
              "         modality=<MediaModality.TEXT: 'TEXT'>,\n",
              "         token_count=527\n",
              "       ),\n",
              "     ],\n",
              "     prompt_token_count=30,\n",
              "     prompt_tokens_details=[\n",
              "       ModalityTokenCount(\n",
              "         modality=<MediaModality.TEXT: 'TEXT'>,\n",
              "         token_count=30\n",
              "       ),\n",
              "     ],\n",
              "     thoughts_token_count=45,\n",
              "     total_token_count=602,\n",
              "     traffic_type=<TrafficType.ON_DEMAND: 'ON_DEMAND'>\n",
              "   ), live_session_resumption_update=None, input_transcription=None, output_transcription=None, avg_logprobs=-0.3000195555714095, logprobs_result=None, cache_metadata=None, citation_metadata=None, invocation_id='e-78d3d799-54c9-4e62-91a2-36b4dbdb5790', author='Generic_QA_Agent', actions=EventActions(skip_summarization=None, state_delta={}, artifact_delta={}, transfer_to_agent=None, escalate=None, requested_auth_configs={}, requested_tool_confirmations={}, compaction=None, end_of_agent=None, agent_state=None), long_running_tool_ids=None, branch=None, id='3a3d5676-966b-4e28-a358-8b37ec9305c0', timestamp=1761071259.332084)],\n",
              "  'd4b927f4-9523-4951-9ecc-3e4de23f23a3': [Event(content=Content(\n",
              "     parts=[\n",
              "       Part(\n",
              "         text='I have a three year old niece. What recommendations do you have for birthday presents?'\n",
              "       ),\n",
              "     ],\n",
              "     role='user'\n",
              "   ), grounding_metadata=None, partial=None, turn_complete=None, finish_reason=None, error_code=None, error_message=None, interrupted=None, custom_metadata=None, usage_metadata=None, live_session_resumption_update=None, input_transcription=None, output_transcription=None, avg_logprobs=None, logprobs_result=None, cache_metadata=None, citation_metadata=None, invocation_id='e-effeb7fd-74d3-485d-8053-fe5f9d0dd82a', author='user', actions=EventActions(skip_summarization=None, state_delta={}, artifact_delta={}, transfer_to_agent=None, escalate=None, requested_auth_configs={}, requested_tool_confirmations={}, compaction=None, end_of_agent=None, agent_state=None), long_running_tool_ids=None, branch=None, id='c3a1df8b-c15a-4d36-b9fd-f2b0e1d1f2d6', timestamp=1761071263.447619),\n",
              "   Event(content=Content(\n",
              "     parts=[\n",
              "       Part(\n",
              "         text=\"\"\"That's a fun age to buy for! Three-year-olds are little sponges, full of imagination and rapidly developing new skills. Here are some recommendations across different categories that tend to be a hit with three-year-olds:\n",
              "   \n",
              "   **1. Creative & Imaginative Play:**\n",
              "   \n",
              "   *   **Play Kitchen & Food Set:** These are fantastic for role-playing, learning about food, and developing social skills if playing with others.\n",
              "   *   **Dress-Up Clothes:** A simple set of costumes (a doctor, a princess, an animal, a superhero) can spark hours of imaginative play.\n",
              "   *   **Dollhouse or Animal Figurines:** Encourages storytelling and creating their own little worlds.\n",
              "   *   **Puppets:** Great for developing language, empathy, and creative expression.\n",
              "   *   **Building Blocks (Duplo or Large Wooden Blocks):** Still excellent for fine motor skills, spatial reasoning, and creativity. Magna-Tiles or PicassoTiles are also a huge hit at this age and grow with them.\n",
              "   \n",
              "   **2. Art & Sensory Exploration:**\n",
              "   \n",
              "   *   **Jumbo Crayons & Large Paper:** Easier for small hands to grip, and big paper encourages free expression.\n",
              "   *   **Washable Markers or Finger Paints:** Less mess for the adults, more fun for the child!\n",
              "   *   **Play-Doh Set:** Fantastic for fine motor skill development, creativity, and sensory play. Look for sets with cutters or tools.\n",
              "   *   **Sticker Books:** Simple sticker scenes or reusable sticker books can keep them engaged.\n",
              "   \n",
              "   **3. Books:**\n",
              "   \n",
              "   *   **Interactive Picture Books:** Lift-the-flap, touch-and-feel, or sound books are very engaging.\n",
              "   *   **Picture Books with Engaging Stories:** Classic fairy tales, books about emotions, friendship, or animals are always good.\n",
              "   *   **Personalized Books:** A book where the child is the main character can be really special.\n",
              "   \n",
              "   **4. Outdoor & Active Play:**\n",
              "   \n",
              "   *   **Tricycle or Balance Bike:** A balance bike is excellent for developing coordination and preparing them for a two-wheeler.\n",
              "   *   **Bubbles/Bubble Machine:** Always a winner!\n",
              "   *   **Sandbox Toys or Water Table:** Great for sensory play and learning cause-and-effect outdoors.\n",
              "   *   **Balls:** A bouncy ball or a soccer ball for kicking and throwing.\n",
              "   \n",
              "   **5. Developmental & Educational (but still fun!):**\n",
              "   \n",
              "   *   **Age-Appropriate Puzzles:** Look for chunky puzzles with 12-24 pieces.\n",
              "   *   **Shape Sorters or Stacking Toys:** Still good for problem-solving and fine motor skills.\n",
              "   *   **Simple Board Games:** Games like \"Candy Land\" or \"Roll & Play\" are great introductions to turn-taking and following rules.\n",
              "   \n",
              "   **Tips for Choosing:**\n",
              "   \n",
              "   *   **Check with the Parents:** They might have a wish list, know what she already has, or prefer certain types of toys over others.\n",
              "   *   **Consider Her Interests:** Does she love animals, specific characters, or trucks? Tailor the gift to her current fascinations.\n",
              "   *   **Durability:** Three-year-olds can be tough on toys, so look for good quality.\n",
              "   *   **Safety:** Always check for age recommendations and ensure there are no small choking hazards.\n",
              "   *   **Open-Ended Play:** Toys that can be used in multiple ways often have the longest lifespan and encourage the most creativity.\n",
              "   \n",
              "   No matter what you choose, the thought and connection will be the best part of her birthday!\"\"\"\n",
              "       ),\n",
              "     ],\n",
              "     role='model'\n",
              "   ), grounding_metadata=None, partial=None, turn_complete=None, finish_reason=<FinishReason.STOP: 'STOP'>, error_code=None, error_message=None, interrupted=None, custom_metadata=None, usage_metadata=GenerateContentResponseUsageMetadata(\n",
              "     candidates_token_count=732,\n",
              "     candidates_tokens_details=[\n",
              "       ModalityTokenCount(\n",
              "         modality=<MediaModality.TEXT: 'TEXT'>,\n",
              "         token_count=732\n",
              "       ),\n",
              "     ],\n",
              "     prompt_token_count=40,\n",
              "     prompt_tokens_details=[\n",
              "       ModalityTokenCount(\n",
              "         modality=<MediaModality.TEXT: 'TEXT'>,\n",
              "         token_count=40\n",
              "       ),\n",
              "     ],\n",
              "     thoughts_token_count=751,\n",
              "     total_token_count=1523,\n",
              "     traffic_type=<TrafficType.ON_DEMAND: 'ON_DEMAND'>\n",
              "   ), live_session_resumption_update=None, input_transcription=None, output_transcription=None, avg_logprobs=-0.632204232971525, logprobs_result=None, cache_metadata=None, citation_metadata=None, invocation_id='e-effeb7fd-74d3-485d-8053-fe5f9d0dd82a', author='Generic_QA_Agent', actions=EventActions(skip_summarization=None, state_delta={}, artifact_delta={}, transfer_to_agent=None, escalate=None, requested_auth_configs={}, requested_tool_confirmations={}, compaction=None, end_of_agent=None, agent_state=None), long_running_tool_ids=None, branch=None, id='b4229791-549e-4be6-adf3-d1f84fe90096', timestamp=1761071263.448636),\n",
              "   Event(content=Content(\n",
              "     parts=[\n",
              "       Part(\n",
              "         text='I like the idea of a bike. Are there any age appropriate options?'\n",
              "       ),\n",
              "     ],\n",
              "     role='user'\n",
              "   ), grounding_metadata=None, partial=None, turn_complete=None, finish_reason=None, error_code=None, error_message=None, interrupted=None, custom_metadata=None, usage_metadata=None, live_session_resumption_update=None, input_transcription=None, output_transcription=None, avg_logprobs=None, logprobs_result=None, cache_metadata=None, citation_metadata=None, invocation_id='e-b24c5539-500c-47c8-a3fe-11a559ac211f', author='user', actions=EventActions(skip_summarization=None, state_delta={}, artifact_delta={}, transfer_to_agent=None, escalate=None, requested_auth_configs={}, requested_tool_confirmations={}, compaction=None, end_of_agent=None, agent_state=None), long_running_tool_ids=None, branch=None, id='abac97cf-36e4-4d08-a783-52a5fcffc9ce', timestamp=1761071273.521864),\n",
              "   Event(content=Content(\n",
              "     parts=[\n",
              "       Part(\n",
              "         text=\"\"\"That's a fantastic idea! A bike is a wonderful gift that encourages outdoor play, develops gross motor skills, and builds confidence. For a three-year-old, there are definitely age-appropriate options, and the most recommended one for this age group is often a **balance bike**.\n",
              "   \n",
              "   Here's a breakdown of age-appropriate options:\n",
              "   \n",
              "   ### 1. Balance Bikes (Highly Recommended!)\n",
              "   \n",
              "   *   **What it is:** A balance bike is a two-wheeled bike without pedals. The child propels themselves forward by pushing off the ground with their feet, and they learn to balance naturally.\n",
              "   *   **Why it's great for 3-year-olds:**\n",
              "       *   **Teaches Balance First:** This is the most crucial skill for riding a pedal bike. By mastering balance first, transitioning to a pedal bike later is often much quicker and easier (often skipping training wheels entirely).\n",
              "       *   **Builds Confidence:** Children learn at their own pace, feeling secure with their feet on the ground.\n",
              "       *   **Develops Coordination:** They learn to steer, lean, and control their speed using their feet.\n",
              "       *   **Lightweight:** Most balance bikes are very light, making them easy for a three-year-old to maneuver and for parents to carry when needed.\n",
              "   *   **Things to look for:**\n",
              "       *   **Adjustable Seat Height:** Crucial! Make sure her feet can be flat on the ground with a slight bend in the knee when the seat is at its lowest setting. She should be able to push off comfortably.\n",
              "       *   **Lightweight Frame:** Aluminum frames are often best.\n",
              "       *   **Footrests (optional):** Some have a place for them to rest their feet once they've gained momentum.\n",
              "       *   **Hand Brakes (optional but good):** While many initially use their feet to stop, a hand brake can introduce them to braking early.\n",
              "   *   **Popular Brands/Models:** Strider, Woom, Cruzee, Banwood, Joovy Bicycoo.\n",
              "   \n",
              "   ### 2. Tricycles\n",
              "   \n",
              "   *   **What it is:** A three-wheeled bike with pedals.\n",
              "   *   **Why it's good for 3-year-olds:**\n",
              "       *   **Stability:** Very stable due to the three wheels, so no balance required.\n",
              "       *   **Pedaling Practice:** Helps them learn the motion of pedaling.\n",
              "       *   **Often have parent push handles:** Some tricycles come with a handle for parents to push or steer, which can be convenient.\n",
              "   *   **Considerations:**\n",
              "       *   **Doesn't teach balance:** While great for pedaling, it won't help with the balance aspect needed for a two-wheeled bike.\n",
              "       *   **Can be outgrown quickly:** Once they master pedaling on a tricycle, they'll still need to learn balance separately.\n",
              "       *   **Less maneuverable:** Can be harder to steer in tight spaces compared to a balance bike.\n",
              "   *   **Things to look for:**\n",
              "       *   **Sturdy construction.**\n",
              "       *   **Adjustable seat.**\n",
              "       *   **Good quality wheels.**\n",
              "   \n",
              "   ### 3. Small Pedal Bikes with Training Wheels (Less common for starting at 3)\n",
              "   \n",
              "   *   **What it is:** A traditional two-wheeled bike with detachable training wheels.\n",
              "   *   **Why it's generally *less* recommended for a 3-year-old *starting out*:**\n",
              "       *   **Doesn't teach balance effectively:** Training wheels can hinder the development of natural balance by relying on the extra support. Children often learn to lean *away* from the training wheel, which is the opposite of how you balance a bike.\n",
              "       *   **Heavier:** These bikes are typically heavier and more cumbersome than balance bikes.\n",
              "       *   **Can lead to a harder transition:** Kids who start on training wheels often have a tougher time shedding them later than kids who started on balance bikes.\n",
              "   *   **When it might be considered:** If she's already very proficient with pedaling on a tricycle and has exceptional coordination, or if a balance bike isn't an option. Even then, many parents still choose to remove the pedals and use it like a balance bike first.\n",
              "   *   **Size:** For a 3-year-old, you'd be looking at a **12-inch wheel** bike. Similar to balance bikes, ensure her feet can be flat on the ground when seated with the seat at its lowest.\n",
              "   \n",
              "   **Recommendation:**\n",
              "   \n",
              "   For a three-year-old, a **balance bike** is almost always the top recommendation by cycling experts and parents alike. It provides the best foundation for learning to ride a two-wheeled bike independently and confidently, often making the transition to a pedal bike seamless and training-wheel-free around age 4 or 5.\n",
              "   \n",
              "   Before you buy, if possible, ask her parents about her height and inner leg inseam measurement. This will help ensure you get the right size bike for a comfortable and safe fit!\"\"\"\n",
              "       ),\n",
              "     ],\n",
              "     role='model'\n",
              "   ), grounding_metadata=None, partial=None, turn_complete=None, finish_reason=<FinishReason.STOP: 'STOP'>, error_code=None, error_message=None, interrupted=None, custom_metadata=None, usage_metadata=GenerateContentResponseUsageMetadata(\n",
              "     candidates_token_count=1060,\n",
              "     candidates_tokens_details=[\n",
              "       ModalityTokenCount(\n",
              "         modality=<MediaModality.TEXT: 'TEXT'>,\n",
              "         token_count=1060\n",
              "       ),\n",
              "     ],\n",
              "     prompt_token_count=787,\n",
              "     prompt_tokens_details=[\n",
              "       ModalityTokenCount(\n",
              "         modality=<MediaModality.TEXT: 'TEXT'>,\n",
              "         token_count=787\n",
              "       ),\n",
              "     ],\n",
              "     thoughts_token_count=114,\n",
              "     total_token_count=1961,\n",
              "     traffic_type=<TrafficType.ON_DEMAND: 'ON_DEMAND'>\n",
              "   ), live_session_resumption_update=None, input_transcription=None, output_transcription=None, avg_logprobs=-0.3610964217275943, logprobs_result=None, cache_metadata=None, citation_metadata=None, invocation_id='e-b24c5539-500c-47c8-a3fe-11a559ac211f', author='Generic_QA_Agent', actions=EventActions(skip_summarization=None, state_delta={}, artifact_delta={}, transfer_to_agent=None, escalate=None, requested_auth_configs={}, requested_tool_confirmations={}, compaction=None, end_of_agent=None, agent_state=None), long_running_tool_ids=None, branch=None, id='fb9ca7fc-1074-4887-9f05-3cc667623c49', timestamp=1761071273.523679)]}}"
            ]
          },
          "metadata": {},
          "execution_count": 81
        }
      ],
      "source": [
        "# Peek at the memories.\n",
        "in_memory_service._session_events"
      ]
    },
    {
      "cell_type": "code",
      "execution_count": 82,
      "metadata": {
        "colab": {
          "base_uri": "https://localhost:8080/"
        },
        "id": "ZY1cRqfi_4Qz",
        "outputId": "13cd365b-ff23-4b46-9076-c8082e8fd8b2"
      },
      "outputs": [
        {
          "output_type": "execute_result",
          "data": {
            "text/plain": [
              "SearchMemoryResponse(memories=[])"
            ]
          },
          "metadata": {},
          "execution_count": 82
        }
      ],
      "source": [
        "await in_memory_service.search_memory(app_name=APP_NAME, user_id=USER_ID, query=\"test\")"
      ]
    },
    {
      "cell_type": "code",
      "execution_count": 83,
      "metadata": {
        "colab": {
          "base_uri": "https://localhost:8080/"
        },
        "id": "wV2OziabBVt5",
        "outputId": "eb44397b-7169-4646-f98e-1e65082cfd57"
      },
      "outputs": [
        {
          "output_type": "execute_result",
          "data": {
            "text/plain": [
              "SearchMemoryResponse(memories=[MemoryEntry(content=Content(\n",
              "  parts=[\n",
              "    Part(\n",
              "      text='what types of questions do you answer'\n",
              "    ),\n",
              "  ],\n",
              "  role='user'\n",
              "), author='user', timestamp='2025-10-21T18:27:39.331527'), MemoryEntry(content=Content(\n",
              "  parts=[\n",
              "    Part(\n",
              "      text=\"\"\"As a large language model, I can answer a wide variety of questions across many different domains. Here are some of the types of questions I can generally handle:\n",
              "\n",
              "1.  **Factual and Knowledge-based Questions:**\n",
              "    *   **General knowledge:** \"Who invented the telephone?\" \"What is the capital of France?\"\n",
              "    *   **Historical facts:** \"When did World War II end?\"\n",
              "    *   **Scientific information:** \"What is photosynthesis?\" \"Explain the theory of relativity.\"\n",
              "    *   **Biographical information:** \"Tell me about Marie Curie.\"\n",
              "    *   **Definitions:** \"What is a paradox?\"\n",
              "\n",
              "2.  **Explanatory Questions:**\n",
              "    *   \"How does a combustion engine work?\"\n",
              "    *   \"Why is the sky blue?\"\n",
              "    *   \"Explain the concept of supply and demand.\"\n",
              "\n",
              "3.  **Creative and Generative Questions:**\n",
              "    *   \"Write a short story about a talking cat.\"\n",
              "    *   \"Compose a poem about the ocean.\"\n",
              "    *   \"Suggest some ideas for a birthday gift.\"\n",
              "    *   \"Help me brainstorm names for a new coffee shop.\"\n",
              "\n",
              "4.  **Summarization and Condensing Information:**\n",
              "    *   \"Summarize the plot of Hamlet.\"\n",
              "    *   \"Give me the main points of this article.\"\n",
              "    *   \"Condense this paragraph into a single sentence.\"\n",
              "\n",
              "5.  **Language and Grammar Questions:**\n",
              "    *   \"What's the difference between 'affect' and 'effect'?\"\n",
              "    *   \"Correct this sentence: 'He don't like apples.'\"\n",
              "    *   \"Translate 'hello' into Spanish.\" (though I prefer to keep my responses in English unless specifically asked otherwise)\n",
              "\n",
              "6.  **Comparison and Analysis:**\n",
              "    *   \"Compare and contrast democracy and communism.\"\n",
              "    *   \"What are the pros and cons of working remotely?\"\n",
              "\n",
              "7.  **Practical Advice and Suggestions (general, not personal):**\n",
              "    *   \"What are some healthy breakfast ideas?\"\n",
              "    *   \"How do I change a lightbulb?\"\n",
              "    *   \"Suggest some places to visit in Rome.\"\n",
              "\n",
              "8.  **Technical Support and Troubleshooting (conceptual):**\n",
              "    *   \"What are common reasons a computer runs slow?\"\n",
              "    *   \"Explain how to reset a Wi-Fi router.\"\n",
              "\n",
              "I draw upon a vast amount of text data I was trained on to provide these answers, aiming to be helpful, informative, and comprehensive.\"\"\"\n",
              "    ),\n",
              "  ],\n",
              "  role='model'\n",
              "), author='Generic_QA_Agent', timestamp='2025-10-21T18:27:39.332084'), MemoryEntry(content=Content(\n",
              "  parts=[\n",
              "    Part(\n",
              "      text='I have a three year old niece. What recommendations do you have for birthday presents?'\n",
              "    ),\n",
              "  ],\n",
              "  role='user'\n",
              "), author='user', timestamp='2025-10-21T18:27:43.447619'), MemoryEntry(content=Content(\n",
              "  parts=[\n",
              "    Part(\n",
              "      text=\"\"\"That's a fun age to buy for! Three-year-olds are little sponges, full of imagination and rapidly developing new skills. Here are some recommendations across different categories that tend to be a hit with three-year-olds:\n",
              "\n",
              "**1. Creative & Imaginative Play:**\n",
              "\n",
              "*   **Play Kitchen & Food Set:** These are fantastic for role-playing, learning about food, and developing social skills if playing with others.\n",
              "*   **Dress-Up Clothes:** A simple set of costumes (a doctor, a princess, an animal, a superhero) can spark hours of imaginative play.\n",
              "*   **Dollhouse or Animal Figurines:** Encourages storytelling and creating their own little worlds.\n",
              "*   **Puppets:** Great for developing language, empathy, and creative expression.\n",
              "*   **Building Blocks (Duplo or Large Wooden Blocks):** Still excellent for fine motor skills, spatial reasoning, and creativity. Magna-Tiles or PicassoTiles are also a huge hit at this age and grow with them.\n",
              "\n",
              "**2. Art & Sensory Exploration:**\n",
              "\n",
              "*   **Jumbo Crayons & Large Paper:** Easier for small hands to grip, and big paper encourages free expression.\n",
              "*   **Washable Markers or Finger Paints:** Less mess for the adults, more fun for the child!\n",
              "*   **Play-Doh Set:** Fantastic for fine motor skill development, creativity, and sensory play. Look for sets with cutters or tools.\n",
              "*   **Sticker Books:** Simple sticker scenes or reusable sticker books can keep them engaged.\n",
              "\n",
              "**3. Books:**\n",
              "\n",
              "*   **Interactive Picture Books:** Lift-the-flap, touch-and-feel, or sound books are very engaging.\n",
              "*   **Picture Books with Engaging Stories:** Classic fairy tales, books about emotions, friendship, or animals are always good.\n",
              "*   **Personalized Books:** A book where the child is the main character can be really special.\n",
              "\n",
              "**4. Outdoor & Active Play:**\n",
              "\n",
              "*   **Tricycle or Balance Bike:** A balance bike is excellent for developing coordination and preparing them for a two-wheeler.\n",
              "*   **Bubbles/Bubble Machine:** Always a winner!\n",
              "*   **Sandbox Toys or Water Table:** Great for sensory play and learning cause-and-effect outdoors.\n",
              "*   **Balls:** A bouncy ball or a soccer ball for kicking and throwing.\n",
              "\n",
              "**5. Developmental & Educational (but still fun!):**\n",
              "\n",
              "*   **Age-Appropriate Puzzles:** Look for chunky puzzles with 12-24 pieces.\n",
              "*   **Shape Sorters or Stacking Toys:** Still good for problem-solving and fine motor skills.\n",
              "*   **Simple Board Games:** Games like \"Candy Land\" or \"Roll & Play\" are great introductions to turn-taking and following rules.\n",
              "\n",
              "**Tips for Choosing:**\n",
              "\n",
              "*   **Check with the Parents:** They might have a wish list, know what she already has, or prefer certain types of toys over others.\n",
              "*   **Consider Her Interests:** Does she love animals, specific characters, or trucks? Tailor the gift to her current fascinations.\n",
              "*   **Durability:** Three-year-olds can be tough on toys, so look for good quality.\n",
              "*   **Safety:** Always check for age recommendations and ensure there are no small choking hazards.\n",
              "*   **Open-Ended Play:** Toys that can be used in multiple ways often have the longest lifespan and encourage the most creativity.\n",
              "\n",
              "No matter what you choose, the thought and connection will be the best part of her birthday!\"\"\"\n",
              "    ),\n",
              "  ],\n",
              "  role='model'\n",
              "), author='Generic_QA_Agent', timestamp='2025-10-21T18:27:43.448636'), MemoryEntry(content=Content(\n",
              "  parts=[\n",
              "    Part(\n",
              "      text='I like the idea of a bike. Are there any age appropriate options?'\n",
              "    ),\n",
              "  ],\n",
              "  role='user'\n",
              "), author='user', timestamp='2025-10-21T18:27:53.521864'), MemoryEntry(content=Content(\n",
              "  parts=[\n",
              "    Part(\n",
              "      text=\"\"\"That's a fantastic idea! A bike is a wonderful gift that encourages outdoor play, develops gross motor skills, and builds confidence. For a three-year-old, there are definitely age-appropriate options, and the most recommended one for this age group is often a **balance bike**.\n",
              "\n",
              "Here's a breakdown of age-appropriate options:\n",
              "\n",
              "### 1. Balance Bikes (Highly Recommended!)\n",
              "\n",
              "*   **What it is:** A balance bike is a two-wheeled bike without pedals. The child propels themselves forward by pushing off the ground with their feet, and they learn to balance naturally.\n",
              "*   **Why it's great for 3-year-olds:**\n",
              "    *   **Teaches Balance First:** This is the most crucial skill for riding a pedal bike. By mastering balance first, transitioning to a pedal bike later is often much quicker and easier (often skipping training wheels entirely).\n",
              "    *   **Builds Confidence:** Children learn at their own pace, feeling secure with their feet on the ground.\n",
              "    *   **Develops Coordination:** They learn to steer, lean, and control their speed using their feet.\n",
              "    *   **Lightweight:** Most balance bikes are very light, making them easy for a three-year-old to maneuver and for parents to carry when needed.\n",
              "*   **Things to look for:**\n",
              "    *   **Adjustable Seat Height:** Crucial! Make sure her feet can be flat on the ground with a slight bend in the knee when the seat is at its lowest setting. She should be able to push off comfortably.\n",
              "    *   **Lightweight Frame:** Aluminum frames are often best.\n",
              "    *   **Footrests (optional):** Some have a place for them to rest their feet once they've gained momentum.\n",
              "    *   **Hand Brakes (optional but good):** While many initially use their feet to stop, a hand brake can introduce them to braking early.\n",
              "*   **Popular Brands/Models:** Strider, Woom, Cruzee, Banwood, Joovy Bicycoo.\n",
              "\n",
              "### 2. Tricycles\n",
              "\n",
              "*   **What it is:** A three-wheeled bike with pedals.\n",
              "*   **Why it's good for 3-year-olds:**\n",
              "    *   **Stability:** Very stable due to the three wheels, so no balance required.\n",
              "    *   **Pedaling Practice:** Helps them learn the motion of pedaling.\n",
              "    *   **Often have parent push handles:** Some tricycles come with a handle for parents to push or steer, which can be convenient.\n",
              "*   **Considerations:**\n",
              "    *   **Doesn't teach balance:** While great for pedaling, it won't help with the balance aspect needed for a two-wheeled bike.\n",
              "    *   **Can be outgrown quickly:** Once they master pedaling on a tricycle, they'll still need to learn balance separately.\n",
              "    *   **Less maneuverable:** Can be harder to steer in tight spaces compared to a balance bike.\n",
              "*   **Things to look for:**\n",
              "    *   **Sturdy construction.**\n",
              "    *   **Adjustable seat.**\n",
              "    *   **Good quality wheels.**\n",
              "\n",
              "### 3. Small Pedal Bikes with Training Wheels (Less common for starting at 3)\n",
              "\n",
              "*   **What it is:** A traditional two-wheeled bike with detachable training wheels.\n",
              "*   **Why it's generally *less* recommended for a 3-year-old *starting out*:**\n",
              "    *   **Doesn't teach balance effectively:** Training wheels can hinder the development of natural balance by relying on the extra support. Children often learn to lean *away* from the training wheel, which is the opposite of how you balance a bike.\n",
              "    *   **Heavier:** These bikes are typically heavier and more cumbersome than balance bikes.\n",
              "    *   **Can lead to a harder transition:** Kids who start on training wheels often have a tougher time shedding them later than kids who started on balance bikes.\n",
              "*   **When it might be considered:** If she's already very proficient with pedaling on a tricycle and has exceptional coordination, or if a balance bike isn't an option. Even then, many parents still choose to remove the pedals and use it like a balance bike first.\n",
              "*   **Size:** For a 3-year-old, you'd be looking at a **12-inch wheel** bike. Similar to balance bikes, ensure her feet can be flat on the ground when seated with the seat at its lowest.\n",
              "\n",
              "**Recommendation:**\n",
              "\n",
              "For a three-year-old, a **balance bike** is almost always the top recommendation by cycling experts and parents alike. It provides the best foundation for learning to ride a two-wheeled bike independently and confidently, often making the transition to a pedal bike seamless and training-wheel-free around age 4 or 5.\n",
              "\n",
              "Before you buy, if possible, ask her parents about her height and inner leg inseam measurement. This will help ensure you get the right size bike for a comfortable and safe fit!\"\"\"\n",
              "    ),\n",
              "  ],\n",
              "  role='model'\n",
              "), author='Generic_QA_Agent', timestamp='2025-10-21T18:27:53.523679')])"
            ]
          },
          "metadata": {},
          "execution_count": 83
        }
      ],
      "source": [
        "await in_memory_service.search_memory(\n",
        "    app_name=APP_NAME,\n",
        "    user_id=USER_ID,\n",
        "    query=\"what should I get my mom for mother's day\",\n",
        ")"
      ]
    },
    {
      "cell_type": "markdown",
      "metadata": {
        "id": "j8d9R6NMUgyw"
      },
      "source": [
        "### Memory Bank via `VertexAiMemoryBankService`\n",
        "\n",
        "Now, let's use Memory Bank to generate and store memories. Unlike `InMemoryMemoryService`, only content that's meaningful interactions will be persisted. If there's no meaningful content, the `add_session_to_memory` call will be a no-op; memories are not generated.\n",
        "\n",
        "Memory generation happens in the background. It's a non-blocking operation, so `add_session_to_memory` may complete before memories are actually generated in the background. If you want memory generation to be a blocking operation, use the Agent Engine SDK:\n",
        "\n",
        "```\n",
        "client.agent_engines.memories.generate(\n",
        "    ...,\n",
        "    config={\n",
        "        # Default value is True.\n",
        "        \"wait_for_completion\": True\n",
        "    }\n",
        ")\n",
        "```\n",
        "\n",
        "There are two key operations that Memory Bank performs under-the-hood with memory generation:\n",
        "\n",
        "* **Extraction**: Extracts information about the user from their conversations with the agent. Only information that matches at least one of your instance's memory topics will be persisted.\n",
        "* **Consolidation**: Identifies if existing memories with the same scope should be deleted or updated based on the extracted information. Memory Bank checks that new memories are not duplicative or contradictory before merging them with existing memories. If existing memories don't overlap with the new information, a new memory will be created."
      ]
    },
    {
      "cell_type": "markdown",
      "metadata": {
        "id": "HzYBHoUNSZKn"
      },
      "source": [
        "#### ADK `add_session_to_memory`"
      ]
    },
    {
      "cell_type": "code",
      "execution_count": 84,
      "metadata": {
        "colab": {
          "base_uri": "https://localhost:8080/"
        },
        "id": "ytzu349cBdW6",
        "outputId": "0de1fe42-c18c-4e0f-abc5-c0a22e4ca87b"
      },
      "outputs": [
        {
          "output_type": "stream",
          "name": "stderr",
          "text": [
            "INFO:google_adk.google.adk.memory.vertex_ai_memory_bank_service:Generate memory response received.\n",
            "DEBUG:google_adk.google.adk.memory.vertex_ai_memory_bank_service:Generate memory response: name='projects/715070558789/locations/us-central1/reasoningEngines/667856556850675712/operations/3377593978433044480' metadata={'@type': 'type.googleapis.com/google.cloud.aiplatform.v1beta1.GenerateMemoriesOperationMetadata', 'genericMetadata': {'createTime': '2025-10-21T18:28:03.272660Z', 'updateTime': '2025-10-21T18:28:03.272660Z'}} done=None error=None response=None\n",
            "INFO:google_adk.google.adk.memory.vertex_ai_memory_bank_service:Generate memory response received.\n",
            "DEBUG:google_adk.google.adk.memory.vertex_ai_memory_bank_service:Generate memory response: name='projects/715070558789/locations/us-central1/reasoningEngines/667856556850675712/operations/7989279996860432384' metadata={'@type': 'type.googleapis.com/google.cloud.aiplatform.v1beta1.GenerateMemoriesOperationMetadata', 'genericMetadata': {'createTime': '2025-10-21T18:28:04.637161Z', 'updateTime': '2025-10-21T18:28:04.637161Z'}} done=None error=None response=None\n"
          ]
        }
      ],
      "source": [
        "await memory_bank_service.add_session_to_memory(chit_chat_session)\n",
        "await memory_bank_service.add_session_to_memory(recommendations_session)"
      ]
    },
    {
      "cell_type": "markdown",
      "metadata": {
        "id": "E3ihzck53quZ"
      },
      "source": [
        "If you run this immediately after `add_session_to_memory`, there may be no memories printed. `add_session_to_memory` is a non-blocking function and memory generation can take a few seconds to run."
      ]
    },
    {
      "cell_type": "code",
      "execution_count": 85,
      "metadata": {
        "colab": {
          "base_uri": "https://localhost:8080/"
        },
        "id": "3emdHmGhBtMd",
        "outputId": "50dbf23d-cd89-4c94-d35b-65e999c4816d"
      },
      "outputs": [
        {
          "output_type": "stream",
          "name": "stderr",
          "text": [
            "INFO:google_adk.google.adk.memory.vertex_ai_memory_bank_service:Search memory response received.\n"
          ]
        },
        {
          "output_type": "execute_result",
          "data": {
            "text/plain": [
              "SearchMemoryResponse(memories=[])"
            ]
          },
          "metadata": {},
          "execution_count": 85
        }
      ],
      "source": [
        "await memory_bank_service.search_memory(\n",
        "    app_name=APP_NAME,\n",
        "    user_id=USER_ID,\n",
        "    query=\"What should I get my mom for mother's day\",\n",
        ")"
      ]
    },
    {
      "cell_type": "markdown",
      "metadata": {
        "id": "DtdqszuOUyJ0"
      },
      "source": [
        "#### Agent Engine SDK `GenerateMemories`\n",
        "\n",
        "If I want to interact directly with Memory Bank, I can use the Agent Engine SDK. For example, I can use [`RetrieveMemories`](https://cloud.google.com/vertex-ai/generative-ai/docs/agent-engine/memory-bank/fetch-memories#scope-based) to retrieve my memories with or without similarity search.\n",
        "\n",
        "Memories are isolated by their `scope`, which is an arbitrary dictionary. `VertexAiMemoryBankService` uses the scope keys `app_name` and `user_id`. `app_name` is set by your Runner, and `user_id` is set when creating your `Session`."
      ]
    },
    {
      "cell_type": "code",
      "execution_count": 86,
      "metadata": {
        "colab": {
          "base_uri": "https://localhost:8080/"
        },
        "id": "xXxDASPUG3OK",
        "outputId": "2640403f-62b5-4845-f7b1-12f5664bf654"
      },
      "outputs": [
        {
          "output_type": "execute_result",
          "data": {
            "text/plain": [
              "[]"
            ]
          },
          "metadata": {},
          "execution_count": 86
        }
      ],
      "source": [
        "response = client.agent_engines.memories.retrieve(\n",
        "    name=agent_engine.api_resource.name,\n",
        "    scope={\"app_name\": APP_NAME,\n",
        "           \"user_id\": USER_ID},\n",
        ")\n",
        "list(response)"
      ]
    },
    {
      "cell_type": "markdown",
      "metadata": {
        "id": "E-KVnoBHV1G5"
      },
      "source": [
        "You can also use `Retrievememories` to retrieve memories using similarity search."
      ]
    },
    {
      "cell_type": "code",
      "execution_count": 87,
      "metadata": {
        "colab": {
          "base_uri": "https://localhost:8080/"
        },
        "id": "uwH2UgOZVs36",
        "outputId": "cc1751c8-7fff-4df9-8b43-d1621aac256b"
      },
      "outputs": [
        {
          "output_type": "execute_result",
          "data": {
            "text/plain": [
              "[RetrieveMemoriesResponseRetrievedMemory(\n",
              "   distance=0.6971154999669634,\n",
              "   memory=Memory(\n",
              "     create_time=datetime.datetime(2025, 10, 21, 18, 28, 5, 976229, tzinfo=TzInfo(UTC)),\n",
              "     fact='I like the idea of giving my niece a bike for her birthday.',\n",
              "     name='projects/715070558789/locations/us-central1/reasoningEngines/667856556850675712/memories/5771551488719454208',\n",
              "     scope={\n",
              "       'app_name': 'memory_example_app',\n",
              "       'user_id': 'My User'\n",
              "     },\n",
              "     update_time=datetime.datetime(2025, 10, 21, 18, 28, 5, 976229, tzinfo=TzInfo(UTC))\n",
              "   )\n",
              " ),\n",
              " RetrieveMemoriesResponseRetrievedMemory(\n",
              "   distance=0.7347648884243799,\n",
              "   memory=Memory(\n",
              "     create_time=datetime.datetime(2025, 10, 21, 18, 28, 5, 976130, tzinfo=TzInfo(UTC)),\n",
              "     fact='I have a three-year-old niece.',\n",
              "     name='projects/715070558789/locations/us-central1/reasoningEngines/667856556850675712/memories/1159865470292066304',\n",
              "     scope={\n",
              "       'app_name': 'memory_example_app',\n",
              "       'user_id': 'My User'\n",
              "     },\n",
              "     update_time=datetime.datetime(2025, 10, 21, 18, 28, 5, 976130, tzinfo=TzInfo(UTC))\n",
              "   )\n",
              " )]"
            ]
          },
          "metadata": {},
          "execution_count": 87
        }
      ],
      "source": [
        "response = client.agent_engines.memories.retrieve(\n",
        "    name=agent_engine.api_resource.name,\n",
        "    scope={\"app_name\": APP_NAME, \"user_id\": USER_ID},\n",
        "    similarity_search_params={\n",
        "        \"search_query\": \"what should I get my niece for her birthday?\"\n",
        "    },\n",
        ")\n",
        "list(response)"
      ]
    },
    {
      "cell_type": "markdown",
      "metadata": {
        "id": "QWWmfmn7XHNf"
      },
      "source": [
        "Memory Bank uses a process called \"consolidation\" to ensure that we do not upload duplicative or contradictory information for the same scope."
      ]
    },
    {
      "cell_type": "code",
      "execution_count": 88,
      "metadata": {
        "colab": {
          "base_uri": "https://localhost:8080/"
        },
        "id": "gyHYYlxIXGKQ",
        "outputId": "cd8cabe3-3150-4b19-b302-26f20b1bdbde"
      },
      "outputs": [
        {
          "output_type": "stream",
          "name": "stdout",
          "text": [
            "***OPERATION RESPONSE***\n",
            "AgentEngineGenerateMemoriesOperation(\n",
            "  done=True,\n",
            "  metadata={\n",
            "    '@type': 'type.googleapis.com/google.cloud.aiplatform.v1beta1.GenerateMemoriesOperationMetadata',\n",
            "    'genericMetadata': {\n",
            "      'createTime': '2025-10-21T18:28:09.966176Z',\n",
            "      'updateTime': '2025-10-21T18:28:15.041654Z'\n",
            "    }\n",
            "  },\n",
            "  name='projects/715070558789/locations/us-central1/reasoningEngines/667856556850675712/operations/3021809607870775296',\n",
            "  response=GenerateMemoriesResponse(\n",
            "    generated_memories=[\n",
            "      GenerateMemoriesResponseGeneratedMemory(\n",
            "        action=<GenerateMemoriesResponseGeneratedMemoryAction.UPDATED: 'UPDATED'>,\n",
            "        memory=Memory(\n",
            "          name='projects/715070558789/locations/us-central1/reasoningEngines/667856556850675712/memories/5771551488719454208'\n",
            "        )\n",
            "      ),\n",
            "    ]\n",
            "  )\n",
            ")\n",
            "\n",
            "***GENERATED MEMORIES***\n",
            "Memory(\n",
            "  create_time=datetime.datetime(2025, 10, 21, 18, 28, 5, 976229, tzinfo=TzInfo(UTC)),\n",
            "  fact='I like the idea of getting my niece a bike for her third birthday.',\n",
            "  name='projects/715070558789/locations/us-central1/reasoningEngines/667856556850675712/memories/5771551488719454208',\n",
            "  scope={\n",
            "    'app_name': 'memory_example_app',\n",
            "    'user_id': 'My User'\n",
            "  },\n",
            "  update_time=datetime.datetime(2025, 10, 21, 18, 28, 14, 929239, tzinfo=TzInfo(UTC))\n",
            ")\n"
          ]
        }
      ],
      "source": [
        "import pprint\n",
        "\n",
        "operation = client.agent_engines.memories.generate(\n",
        "    name=agent_engine.api_resource.name,\n",
        "    scope={\"app_name\": APP_NAME, \"user_id\": USER_ID},\n",
        "    direct_contents_source={\n",
        "        \"events\": [\n",
        "            {\n",
        "                \"content\": {\n",
        "                    \"role\": \"user\",\n",
        "                    \"parts\": [\n",
        "                        {\n",
        "                            \"text\": \"I like the idea of getting my niece a bike for her third birthday\"\n",
        "                        }\n",
        "                    ],\n",
        "                }\n",
        "            }\n",
        "        ]\n",
        "    },\n",
        ")\n",
        "print(\"***OPERATION RESPONSE***\")\n",
        "pprint.pprint(operation)\n",
        "\n",
        "print(\"\\n***GENERATED MEMORIES***\")\n",
        "for generated_memory in operation.response.generated_memories:\n",
        "    pprint.pprint(client.agent_engines.memories.get(name=generated_memory.memory.name))"
      ]
    },
    {
      "cell_type": "markdown",
      "metadata": {
        "id": "FUAJRM8pYiNj"
      },
      "source": [
        "What if your agent extracted memories that you want to combine with your existing memories? You can also use `GenerateMemories` to consolidate pre-extracted facts for the same scope [documenation](https://cloud.google.com/vertex-ai/generative-ai/docs/agent-engine/memory-bank/generate-memories#consolidate-pre-extracted-memories).\n",
        "\n",
        "Memory Bank already contains memories on this topic. So, the relevant existing memories will be updated rather than creating a new, duplicative memory."
      ]
    },
    {
      "cell_type": "code",
      "execution_count": 89,
      "metadata": {
        "colab": {
          "base_uri": "https://localhost:8080/"
        },
        "id": "hVaFGo7RY0zE",
        "outputId": "ba611032-da49-4b04-955b-69a9ee22c384"
      },
      "outputs": [
        {
          "output_type": "stream",
          "name": "stdout",
          "text": [
            "***OPERATION RESPONSE***\n",
            "AgentEngineGenerateMemoriesOperation(\n",
            "  done=True,\n",
            "  metadata={\n",
            "    '@type': 'type.googleapis.com/google.cloud.aiplatform.v1beta1.GenerateMemoriesOperationMetadata',\n",
            "    'genericMetadata': {\n",
            "      'createTime': '2025-10-21T18:28:15.624542Z',\n",
            "      'updateTime': '2025-10-21T18:28:19.335341Z'\n",
            "    }\n",
            "  },\n",
            "  name='projects/715070558789/locations/us-central1/reasoningEngines/667856556850675712/operations/5615882993236180992',\n",
            "  response=GenerateMemoriesResponse(\n",
            "    generated_memories=[\n",
            "      GenerateMemoriesResponseGeneratedMemory(\n",
            "        action=<GenerateMemoriesResponseGeneratedMemoryAction.CREATED: 'CREATED'>,\n",
            "        memory=Memory(\n",
            "          name='projects/715070558789/locations/us-central1/reasoningEngines/667856556850675712/memories/3952097239261773824'\n",
            "        )\n",
            "      ),\n",
            "    ]\n",
            "  )\n",
            ")\n",
            "\n",
            "***GENERATED MEMORIES***\n",
            "Memory(\n",
            "  create_time=datetime.datetime(2025, 10, 21, 18, 28, 19, 247220, tzinfo=TzInfo(UTC)),\n",
            "  fact='I got my niece a red bike',\n",
            "  name='projects/715070558789/locations/us-central1/reasoningEngines/667856556850675712/memories/3952097239261773824',\n",
            "  scope={\n",
            "    'app_name': 'memory_example_app',\n",
            "    'user_id': 'My User'\n",
            "  },\n",
            "  update_time=datetime.datetime(2025, 10, 21, 18, 28, 19, 247220, tzinfo=TzInfo(UTC))\n",
            ")\n"
          ]
        }
      ],
      "source": [
        "operation = client.agent_engines.memories.generate(\n",
        "    name=agent_engine.api_resource.name,\n",
        "    scope={\"app_name\": APP_NAME, \"user_id\": USER_ID},\n",
        "    direct_memories_source={\"direct_memories\": [{\"fact\": \"I got my niece a red bike\"}]},\n",
        ")\n",
        "\n",
        "print(\"***OPERATION RESPONSE***\")\n",
        "pprint.pprint(operation)\n",
        "\n",
        "print(\"\\n***GENERATED MEMORIES***\")\n",
        "for generated_memory in operation.response.generated_memories:\n",
        "    if generated_memory.action != \"DELETED\":\n",
        "        pprint.pprint(\n",
        "            client.agent_engines.memories.get(name=generated_memory.memory.name)\n",
        "        )"
      ]
    },
    {
      "cell_type": "markdown",
      "metadata": {
        "id": "Ql9iDjUO5Mxb"
      },
      "source": [
        "#### Automate with Callbacks\n",
        "\n",
        "To automate the triggering of memory generation, you can implement a callback to generate memories after every turn. See the [`Remember this: Agent state and memory with ADK` blog post](https://cloud.google.com/blog/topics/developers-practitioners/remember-this-agent-state-and-memory-with-adk) for more information."
      ]
    },
    {
      "cell_type": "code",
      "execution_count": 90,
      "metadata": {
        "id": "sq4QSggUAuLu"
      },
      "outputs": [],
      "source": [
        "from google import adk\n",
        "\n",
        "\n",
        "async def auto_save_session_to_memory_callback(callback_context):\n",
        "    # Use the invocation context to access the conversation history that should\n",
        "    # be used as the data source for memory generation.\n",
        "    await memory_bank_service.add_session_to_memory(\n",
        "        callback_context._invocation_context.session\n",
        "    )\n",
        "    print(\"\\n****Triggered memory generation****\\n\")\n",
        "\n",
        "\n",
        "agent = LlmAgent(\n",
        "    model=MODEL,\n",
        "    name=\"Generic_QA_Agent\",\n",
        "    instruction=\"Answer the user's questions\",\n",
        "    tools=[adk.tools.preload_memory_tool.PreloadMemoryTool()],\n",
        "    after_agent_callback=auto_save_session_to_memory_callback,\n",
        ")\n",
        "\n",
        "runner = Runner(\n",
        "    agent=agent,\n",
        "    app_name=APP_NAME,\n",
        "    session_service=session_service,\n",
        "    memory_service=memory_bank_service,\n",
        ")"
      ]
    },
    {
      "cell_type": "code",
      "execution_count": 91,
      "metadata": {
        "colab": {
          "base_uri": "https://localhost:8080/"
        },
        "id": "o-oU37SyA5J7",
        "outputId": "4f8874cc-8176-4f8b-b44d-9bfcdcc8a535"
      },
      "outputs": [
        {
          "output_type": "stream",
          "name": "stderr",
          "text": [
            "INFO:google_adk.google.adk.memory.vertex_ai_memory_bank_service:Search memory response received.\n",
            "DEBUG:google_adk.google.adk.memory.vertex_ai_memory_bank_service:Retrieved memory: distance=0.8091518668940462 memory=Memory(\n",
            "  create_time=datetime.datetime(2025, 10, 21, 18, 28, 5, 976130, tzinfo=TzInfo(UTC)),\n",
            "  fact='I have a three-year-old niece.',\n",
            "  name='projects/715070558789/locations/us-central1/reasoningEngines/667856556850675712/memories/1159865470292066304',\n",
            "  scope={\n",
            "    'app_name': 'memory_example_app',\n",
            "    'user_id': 'My User'\n",
            "  },\n",
            "  update_time=datetime.datetime(2025, 10, 21, 18, 28, 5, 976130, tzinfo=TzInfo(UTC))\n",
            ")\n",
            "DEBUG:google_adk.google.adk.memory.vertex_ai_memory_bank_service:Retrieved memory: distance=0.84543152427747 memory=Memory(\n",
            "  create_time=datetime.datetime(2025, 10, 21, 18, 28, 19, 247220, tzinfo=TzInfo(UTC)),\n",
            "  fact='I got my niece a red bike',\n",
            "  name='projects/715070558789/locations/us-central1/reasoningEngines/667856556850675712/memories/3952097239261773824',\n",
            "  scope={\n",
            "    'app_name': 'memory_example_app',\n",
            "    'user_id': 'My User'\n",
            "  },\n",
            "  update_time=datetime.datetime(2025, 10, 21, 18, 28, 19, 247220, tzinfo=TzInfo(UTC))\n",
            ")\n",
            "DEBUG:google_adk.google.adk.memory.vertex_ai_memory_bank_service:Retrieved memory: distance=0.8562669905487386 memory=Memory(\n",
            "  create_time=datetime.datetime(2025, 10, 21, 18, 28, 5, 976229, tzinfo=TzInfo(UTC)),\n",
            "  fact='I like the idea of getting my niece a bike for her third birthday.',\n",
            "  name='projects/715070558789/locations/us-central1/reasoningEngines/667856556850675712/memories/5771551488719454208',\n",
            "  scope={\n",
            "    'app_name': 'memory_example_app',\n",
            "    'user_id': 'My User'\n",
            "  },\n",
            "  update_time=datetime.datetime(2025, 10, 21, 18, 28, 14, 929239, tzinfo=TzInfo(UTC))\n",
            ")\n",
            "INFO:google_adk.google.adk.models.google_llm:Sending out request, model: gemini-2.5-flash, backend: GoogleLLMVariant.VERTEX_AI, stream: False\n",
            "DEBUG:google_adk.google.adk.models.google_llm:\n",
            "LLM Request:\n",
            "-----------------------------------------------------------\n",
            "System Instruction:\n",
            "Answer the user's questions\n",
            "\n",
            "You are an agent. Your internal name is \"Generic_QA_Agent\".\n",
            "\n",
            "The following content is from your previous conversations with the user.\n",
            "They may be useful for answering the user's current query.\n",
            "<PAST_CONVERSATIONS>\n",
            "Time: 2025-10-21T18:28:05.976130+00:00\n",
            "user: I have a three-year-old niece.\n",
            "Time: 2025-10-21T18:28:19.247220+00:00\n",
            "user: I got my niece a red bike\n",
            "Time: 2025-10-21T18:28:14.929239+00:00\n",
            "user: I like the idea of getting my niece a bike for her third birthday.\n",
            "</PAST_CONVERSATIONS>\n",
            "\n",
            "-----------------------------------------------------------\n",
            "Contents:\n",
            "{\"parts\":[{\"text\":\"What christmas present recommendations do you have for my niece?\"}],\"role\":\"user\"}\n",
            "-----------------------------------------------------------\n",
            "Functions:\n",
            "\n",
            "-----------------------------------------------------------\n",
            "\n",
            "INFO:google_adk.google.adk.models.google_llm:Response received from the model.\n",
            "DEBUG:google_adk.google.adk.models.google_llm:\n",
            "LLM Response:\n",
            "-----------------------------------------------------------\n",
            "Text:\n",
            "Since your niece is three years old and already has a red bike, here are a few Christmas present recommendations that she might enjoy:\n",
            "\n",
            "1.  **Creative Play:**\n",
            "    *   **Art Supplies:** A set of chunky crayons, washable markers, a large easel with paper, or a Play-Doh kit can spark her creativity.\n",
            "    *   **Building Blocks:** DUPLO sets are fantastic for this age, allowing her to build and create freely. Magnetic tiles are another popular option that encourages imaginative construction.\n",
            "\n",
            "2.  **Imaginary Play:**\n",
            "    *   **Dress-Up Clothes:** A simple dress-up box with a few costumes (like a princess, superhero, or animal) can lead to hours of fun.\n",
            "    *   **Play Kitchen or Doctor Kit:** These encourage role-playing and help develop social skills.\n",
            "    *   **Dolls or Stuffed Animals:** A new special doll or a soft toy can become a cherished companion.\n",
            "\n",
            "3.  **Books:**\n",
            "    *   **Picture Books:** A collection of engaging picture books is always a wonderful gift. Look for stories with colorful illustrations and simple narratives.\n",
            "    *   **Interactive Books:** Lift-the-flap books or sound books can be very entertaining for a three-year-old.\n",
            "\n",
            "4.  **Outdoor/Active Play (non-bike related):**\n",
            "    *   **Scooter:** A three-wheeled scooter is a great next step after a bike for developing balance and coordination.\n",
            "    *   **Sand and Water Table:** If you have a yard, this provides endless sensory play opportunities.\n",
            "\n",
            "Consider her current interests as well – does she love animals, specific characters, or making things? That might help narrow down the perfect choice!\n",
            "-----------------------------------------------------------\n",
            "Function calls:\n",
            "\n",
            "-----------------------------------------------------------\n",
            "Raw response:\n",
            "{\"sdk_http_response\":{\"headers\":{\"Content-Type\":\"application/json; charset=UTF-8\",\"Vary\":\"Origin, X-Origin, Referer\",\"Content-Encoding\":\"gzip\",\"Date\":\"Tue, 21 Oct 2025 18:28:26 GMT\",\"Server\":\"scaffolding on HTTPServer2\",\"X-XSS-Protection\":\"0\",\"X-Frame-Options\":\"SAMEORIGIN\",\"X-Content-Type-Options\":\"nosniff\",\"Transfer-Encoding\":\"chunked\"}},\"candidates\":[{\"content\":{\"parts\":[{\"text\":\"Since your niece is three years old and already has a red bike, here are a few Christmas present recommendations that she might enjoy:\\n\\n1.  **Creative Play:**\\n    *   **Art Supplies:** A set of chunky crayons, washable markers, a large easel with paper, or a Play-Doh kit can spark her creativity.\\n    *   **Building Blocks:** DUPLO sets are fantastic for this age, allowing her to build and create freely. Magnetic tiles are another popular option that encourages imaginative construction.\\n\\n2.  **Imaginary Play:**\\n    *   **Dress-Up Clothes:** A simple dress-up box with a few costumes (like a princess, superhero, or animal) can lead to hours of fun.\\n    *   **Play Kitchen or Doctor Kit:** These encourage role-playing and help develop social skills.\\n    *   **Dolls or Stuffed Animals:** A new special doll or a soft toy can become a cherished companion.\\n\\n3.  **Books:**\\n    *   **Picture Books:** A collection of engaging picture books is always a wonderful gift. Look for stories with colorful illustrations and simple narratives.\\n    *   **Interactive Books:** Lift-the-flap books or sound books can be very entertaining for a three-year-old.\\n\\n4.  **Outdoor/Active Play (non-bike related):**\\n    *   **Scooter:** A three-wheeled scooter is a great next step after a bike for developing balance and coordination.\\n    *   **Sand and Water Table:** If you have a yard, this provides endless sensory play opportunities.\\n\\nConsider her current interests as well – does she love animals, specific characters, or making things? That might help narrow down the perfect choice!\"}],\"role\":\"model\"},\"finish_reason\":\"STOP\",\"avg_logprobs\":-0.4648171219171262}],\"create_time\":\"2025-10-21T18:28:21.582715Z\",\"model_version\":\"gemini-2.5-flash\",\"response_id\":\"xdD3aLvII6CH3NoPqZW5gAo\",\"usage_metadata\":{\"candidates_token_count\":357,\"candidates_tokens_details\":[{\"modality\":\"TEXT\",\"token_count\":357}],\"prompt_token_count\":227,\"prompt_tokens_details\":[{\"modality\":\"TEXT\",\"token_count\":227}],\"thoughts_token_count\":246,\"total_token_count\":830,\"traffic_type\":\"ON_DEMAND\"},\"automatic_function_calling_history\":[]}\n",
            "-----------------------------------------------------------\n",
            "\n"
          ]
        },
        {
          "output_type": "stream",
          "name": "stdout",
          "text": [
            "Agent Response:  Since your niece is three years old and already has a red bike, here are a few Christmas present recommendations that she might enjoy:\n",
            "\n",
            "1.  **Creative Play:**\n",
            "    *   **Art Supplies:** A set of chunky crayons, washable markers, a large easel with paper, or a Play-Doh kit can spark her creativity.\n",
            "    *   **Building Blocks:** DUPLO sets are fantastic for this age, allowing her to build and create freely. Magnetic tiles are another popular option that encourages imaginative construction.\n",
            "\n",
            "2.  **Imaginary Play:**\n",
            "    *   **Dress-Up Clothes:** A simple dress-up box with a few costumes (like a princess, superhero, or animal) can lead to hours of fun.\n",
            "    *   **Play Kitchen or Doctor Kit:** These encourage role-playing and help develop social skills.\n",
            "    *   **Dolls or Stuffed Animals:** A new special doll or a soft toy can become a cherished companion.\n",
            "\n",
            "3.  **Books:**\n",
            "    *   **Picture Books:** A collection of engaging picture books is always a wonderful gift. Look for stories with colorful illustrations and simple narratives.\n",
            "    *   **Interactive Books:** Lift-the-flap books or sound books can be very entertaining for a three-year-old.\n",
            "\n",
            "4.  **Outdoor/Active Play (non-bike related):**\n",
            "    *   **Scooter:** A three-wheeled scooter is a great next step after a bike for developing balance and coordination.\n",
            "    *   **Sand and Water Table:** If you have a yard, this provides endless sensory play opportunities.\n",
            "\n",
            "Consider her current interests as well – does she love animals, specific characters, or making things? That might help narrow down the perfect choice!\n"
          ]
        },
        {
          "output_type": "stream",
          "name": "stderr",
          "text": [
            "INFO:google_adk.google.adk.memory.vertex_ai_memory_bank_service:Generate memory response received.\n",
            "DEBUG:google_adk.google.adk.memory.vertex_ai_memory_bank_service:Generate memory response: name='projects/715070558789/locations/us-central1/reasoningEngines/667856556850675712/operations/2481377652586315776' metadata={'@type': 'type.googleapis.com/google.cloud.aiplatform.v1beta1.GenerateMemoriesOperationMetadata', 'genericMetadata': {'createTime': '2025-10-21T18:28:27.454302Z', 'updateTime': '2025-10-21T18:28:27.454302Z'}} done=None error=None response=None\n"
          ]
        },
        {
          "output_type": "stream",
          "name": "stdout",
          "text": [
            "\n",
            "****Triggered memory generation****\n",
            "\n"
          ]
        },
        {
          "output_type": "stream",
          "name": "stderr",
          "text": [
            "INFO:google_adk.google.adk.memory.vertex_ai_memory_bank_service:Search memory response received.\n",
            "DEBUG:google_adk.google.adk.memory.vertex_ai_memory_bank_service:Retrieved memory: distance=0.8974765116239971 memory=Memory(\n",
            "  create_time=datetime.datetime(2025, 10, 21, 18, 28, 5, 976229, tzinfo=TzInfo(UTC)),\n",
            "  fact='I like the idea of getting my niece a bike for her third birthday.',\n",
            "  name='projects/715070558789/locations/us-central1/reasoningEngines/667856556850675712/memories/5771551488719454208',\n",
            "  scope={\n",
            "    'app_name': 'memory_example_app',\n",
            "    'user_id': 'My User'\n",
            "  },\n",
            "  update_time=datetime.datetime(2025, 10, 21, 18, 28, 14, 929239, tzinfo=TzInfo(UTC))\n",
            ")\n",
            "DEBUG:google_adk.google.adk.memory.vertex_ai_memory_bank_service:Retrieved memory: distance=0.9376007979564559 memory=Memory(\n",
            "  create_time=datetime.datetime(2025, 10, 21, 18, 28, 5, 976130, tzinfo=TzInfo(UTC)),\n",
            "  fact='I have a three-year-old niece.',\n",
            "  name='projects/715070558789/locations/us-central1/reasoningEngines/667856556850675712/memories/1159865470292066304',\n",
            "  scope={\n",
            "    'app_name': 'memory_example_app',\n",
            "    'user_id': 'My User'\n",
            "  },\n",
            "  update_time=datetime.datetime(2025, 10, 21, 18, 28, 5, 976130, tzinfo=TzInfo(UTC))\n",
            ")\n",
            "DEBUG:google_adk.google.adk.memory.vertex_ai_memory_bank_service:Retrieved memory: distance=0.9450480508950425 memory=Memory(\n",
            "  create_time=datetime.datetime(2025, 10, 21, 18, 28, 19, 247220, tzinfo=TzInfo(UTC)),\n",
            "  fact='I got my niece a red bike',\n",
            "  name='projects/715070558789/locations/us-central1/reasoningEngines/667856556850675712/memories/3952097239261773824',\n",
            "  scope={\n",
            "    'app_name': 'memory_example_app',\n",
            "    'user_id': 'My User'\n",
            "  },\n",
            "  update_time=datetime.datetime(2025, 10, 21, 18, 28, 19, 247220, tzinfo=TzInfo(UTC))\n",
            ")\n",
            "INFO:google_adk.google.adk.models.google_llm:Sending out request, model: gemini-2.5-flash, backend: GoogleLLMVariant.VERTEX_AI, stream: False\n",
            "DEBUG:google_adk.google.adk.models.google_llm:\n",
            "LLM Request:\n",
            "-----------------------------------------------------------\n",
            "System Instruction:\n",
            "Answer the user's questions\n",
            "\n",
            "You are an agent. Your internal name is \"Generic_QA_Agent\".\n",
            "\n",
            "The following content is from your previous conversations with the user.\n",
            "They may be useful for answering the user's current query.\n",
            "<PAST_CONVERSATIONS>\n",
            "Time: 2025-10-21T18:28:14.929239+00:00\n",
            "user: I like the idea of getting my niece a bike for her third birthday.\n",
            "Time: 2025-10-21T18:28:05.976130+00:00\n",
            "user: I have a three-year-old niece.\n",
            "Time: 2025-10-21T18:28:19.247220+00:00\n",
            "user: I got my niece a red bike\n",
            "</PAST_CONVERSATIONS>\n",
            "\n",
            "-----------------------------------------------------------\n",
            "Contents:\n",
            "{\"parts\":[{\"text\":\"What christmas present recommendations do you have for my niece?\"}],\"role\":\"user\"}\n",
            "{\"parts\":[{\"text\":\"Since your niece is three years old and already has a red bike, here are a few Christmas present recommendations that she might enjoy:\\n\\n1.  **Creative Play:**\\n    *   **Art Supplies:** A set of chunky crayons, washable markers, a large easel with paper, or a Play-Doh kit can spark her creativity.\\n    *   **Building Blocks:** DUPLO sets are fantastic for this age, allowing her to build and create freely. Magnetic tiles are another popular option that encourages imaginative construction.\\n\\n2.  **Imaginary Play:**\\n    *   **Dress-Up Clothes:** A simple dress-up box with a few costumes (like a princess, superhero, or animal) can lead to hours of fun.\\n    *   **Play Kitchen or Doctor Kit:** These encourage role-playing and help develop social skills.\\n    *   **Dolls or Stuffed Animals:** A new special doll or a soft toy can become a cherished companion.\\n\\n3.  **Books:**\\n    *   **Picture Books:** A collection of engaging picture books is always a wonderful gift. Look for stories with colorful illustrations and simple narratives.\\n    *   **Interactive Books:** Lift-the-flap books or sound books can be very entertaining for a three-year-old.\\n\\n4.  **Outdoor/Active Play (non-bike related):**\\n    *   **Scooter:** A three-wheeled scooter is a great next step after a bike for developing balance and coordination.\\n    *   **Sand and Water Table:** If you have a yard, this provides endless sensory play opportunities.\\n\\nConsider her current interests as well – does she love animals, specific characters, or making things? That might help narrow down the perfect choice!\"}],\"role\":\"model\"}\n",
            "{\"parts\":[{\"text\":\"I think I'll get her a doll. What types are good for her age?\"}],\"role\":\"user\"}\n",
            "-----------------------------------------------------------\n",
            "Functions:\n",
            "\n",
            "-----------------------------------------------------------\n",
            "\n",
            "INFO:google_adk.google.adk.models.google_llm:Response received from the model.\n",
            "DEBUG:google_adk.google.adk.models.google_llm:\n",
            "LLM Response:\n",
            "-----------------------------------------------------------\n",
            "Text:\n",
            "That's a lovely idea! Dolls are fantastic for encouraging nurturing, imaginative play, and developing social and emotional skills in three-year-olds.\n",
            "\n",
            "When choosing a doll for a three-year-old, you'll want to look for durability, ease of play, and safety. Here are some great types of dolls for her age:\n",
            "\n",
            "1.  **Soft-Bodied Baby Dolls:**\n",
            "    *   **Why they're great:** These are classic for a reason! They are perfect for nurturing play, allowing her to role-play caring for a baby (feeding, rocking, putting to sleep). The soft body makes them cuddly and easy to hug.\n",
            "    *   **Features to look for:**\n",
            "        *   **Washable:** Many have machine-washable outfits or can be spot-cleaned. Some even have fully washable bodies.\n",
            "        *   **Durable:** Look for well-made stitching and sturdy materials.\n",
            "        *   **Simple accessories:** A bottle, blanket, or simple outfit that's easy for small hands to put on and take off (think Velcro closures or elastic).\n",
            "    *   **Popular options:** Brands like Melissa & Doug, Corolle (especially their \"Mon Premier\" line), and even many generic soft baby dolls are excellent.\n",
            "\n",
            "2.  **My First Dolls / Toddler Dolls:**\n",
            "    *   **Why they're great:** These dolls are often specifically designed for toddlers, focusing on simplicity and ease of interaction. They might have a slightly older \"child\" look rather than a newborn baby.\n",
            "    *   **Features to look for:**\n",
            "        *   **Sculpted hair:** Instead of long, brushable hair that can tangle and frustrate a three-year-old, many toddler dolls have molded plastic or sewn-on fabric hair that always looks neat.\n",
            "        *   **Easy-to-dress clothes:** Again, simple outfits with Velcro or elastic are key for developing fine motor skills without frustration.\n",
            "        *   **Durable construction:** Built to withstand enthusiastic play.\n",
            "    *   **Popular options:** Fisher-Price \"My First\" dolls, some dolls from Battat (like Our Generation for younger kids), or Haba soft dolls.\n",
            "\n",
            "3.  **Rag Dolls/Fabric Dolls:**\n",
            "    *   **Why they're great:** These are incredibly soft, cuddly, and often have a whimsical, charming aesthetic. They are very safe as there are no hard parts.\n",
            "    *   **Features to look for:**\n",
            "        *   **Embroidered features:** Sewn eyes, nose, and mouth are ideal as there are no small plastic pieces to come loose.\n",
            "        *   **Soft, durable fabrics:** Cotton or plush materials that can be spot-cleaned or gently hand-washed.\n",
            "        *   **No small parts:** Ensure any clothing or embellishments are securely attached.\n",
            "    *   **Popular options:** Pottery Barn Kids, Kaloo, HABA, and many independent crafters make beautiful rag dolls.\n",
            "\n",
            "**Things to generally avoid for a three-year-old's doll:**\n",
            "\n",
            "*   **Dolls with tiny, removable accessories:** Small shoes, hair clips, or jewelry can be choking hazards or easily lost.\n",
            "*   **Dolls with complex electronic features:** While some simple sounds are fine, overly complicated dolls might be frustrating or overwhelming.\n",
            "*   **Dolls with very long, fine hair:** This can get tangled quickly, leading to frustration for both the child and the adult!\n",
            "*   **Dolls that are too heavy or too big:** She should be able to comfortably carry and manipulate the doll herself.\n",
            "\n",
            "Ultimately, think about what she might enjoy nurturing, playing make-believe with, and snuggling. A soft, durable, and easy-to-play-with doll will likely be a big hit!\n",
            "-----------------------------------------------------------\n",
            "Function calls:\n",
            "\n",
            "-----------------------------------------------------------\n",
            "Raw response:\n",
            "{\"sdk_http_response\":{\"headers\":{\"Content-Type\":\"application/json; charset=UTF-8\",\"Vary\":\"Origin, X-Origin, Referer\",\"Content-Encoding\":\"gzip\",\"Date\":\"Tue, 21 Oct 2025 18:28:38 GMT\",\"Server\":\"scaffolding on HTTPServer2\",\"X-XSS-Protection\":\"0\",\"X-Frame-Options\":\"SAMEORIGIN\",\"X-Content-Type-Options\":\"nosniff\",\"Transfer-Encoding\":\"chunked\"}},\"candidates\":[{\"content\":{\"parts\":[{\"text\":\"That's a lovely idea! Dolls are fantastic for encouraging nurturing, imaginative play, and developing social and emotional skills in three-year-olds.\\n\\nWhen choosing a doll for a three-year-old, you'll want to look for durability, ease of play, and safety. Here are some great types of dolls for her age:\\n\\n1.  **Soft-Bodied Baby Dolls:**\\n    *   **Why they're great:** These are classic for a reason! They are perfect for nurturing play, allowing her to role-play caring for a baby (feeding, rocking, putting to sleep). The soft body makes them cuddly and easy to hug.\\n    *   **Features to look for:**\\n        *   **Washable:** Many have machine-washable outfits or can be spot-cleaned. Some even have fully washable bodies.\\n        *   **Durable:** Look for well-made stitching and sturdy materials.\\n        *   **Simple accessories:** A bottle, blanket, or simple outfit that's easy for small hands to put on and take off (think Velcro closures or elastic).\\n    *   **Popular options:** Brands like Melissa & Doug, Corolle (especially their \\\"Mon Premier\\\" line), and even many generic soft baby dolls are excellent.\\n\\n2.  **My First Dolls / Toddler Dolls:**\\n    *   **Why they're great:** These dolls are often specifically designed for toddlers, focusing on simplicity and ease of interaction. They might have a slightly older \\\"child\\\" look rather than a newborn baby.\\n    *   **Features to look for:**\\n        *   **Sculpted hair:** Instead of long, brushable hair that can tangle and frustrate a three-year-old, many toddler dolls have molded plastic or sewn-on fabric hair that always looks neat.\\n        *   **Easy-to-dress clothes:** Again, simple outfits with Velcro or elastic are key for developing fine motor skills without frustration.\\n        *   **Durable construction:** Built to withstand enthusiastic play.\\n    *   **Popular options:** Fisher-Price \\\"My First\\\" dolls, some dolls from Battat (like Our Generation for younger kids), or Haba soft dolls.\\n\\n3.  **Rag Dolls/Fabric Dolls:**\\n    *   **Why they're great:** These are incredibly soft, cuddly, and often have a whimsical, charming aesthetic. They are very safe as there are no hard parts.\\n    *   **Features to look for:**\\n        *   **Embroidered features:** Sewn eyes, nose, and mouth are ideal as there are no small plastic pieces to come loose.\\n        *   **Soft, durable fabrics:** Cotton or plush materials that can be spot-cleaned or gently hand-washed.\\n        *   **No small parts:** Ensure any clothing or embellishments are securely attached.\\n    *   **Popular options:** Pottery Barn Kids, Kaloo, HABA, and many independent crafters make beautiful rag dolls.\\n\\n**Things to generally avoid for a three-year-old's doll:**\\n\\n*   **Dolls with tiny, removable accessories:** Small shoes, hair clips, or jewelry can be choking hazards or easily lost.\\n*   **Dolls with complex electronic features:** While some simple sounds are fine, overly complicated dolls might be frustrating or overwhelming.\\n*   **Dolls with very long, fine hair:** This can get tangled quickly, leading to frustration for both the child and the adult!\\n*   **Dolls that are too heavy or too big:** She should be able to comfortably carry and manipulate the doll herself.\\n\\nUltimately, think about what she might enjoy nurturing, playing make-believe with, and snuggling. A soft, durable, and easy-to-play-with doll will likely be a big hit!\"}],\"role\":\"model\"},\"finish_reason\":\"STOP\",\"avg_logprobs\":-0.6969988672866434}],\"create_time\":\"2025-10-21T18:28:28.959360Z\",\"model_version\":\"gemini-2.5-flash\",\"response_id\":\"zND3aIDHOuf-698P5MX58Ao\",\"usage_metadata\":{\"candidates_token_count\":788,\"candidates_tokens_details\":[{\"modality\":\"TEXT\",\"token_count\":788}],\"prompt_token_count\":602,\"prompt_tokens_details\":[{\"modality\":\"TEXT\",\"token_count\":602}],\"thoughts_token_count\":593,\"total_token_count\":1983,\"traffic_type\":\"ON_DEMAND\"},\"automatic_function_calling_history\":[]}\n",
            "-----------------------------------------------------------\n",
            "\n"
          ]
        },
        {
          "output_type": "stream",
          "name": "stdout",
          "text": [
            "Agent Response:  That's a lovely idea! Dolls are fantastic for encouraging nurturing, imaginative play, and developing social and emotional skills in three-year-olds.\n",
            "\n",
            "When choosing a doll for a three-year-old, you'll want to look for durability, ease of play, and safety. Here are some great types of dolls for her age:\n",
            "\n",
            "1.  **Soft-Bodied Baby Dolls:**\n",
            "    *   **Why they're great:** These are classic for a reason! They are perfect for nurturing play, allowing her to role-play caring for a baby (feeding, rocking, putting to sleep). The soft body makes them cuddly and easy to hug.\n",
            "    *   **Features to look for:**\n",
            "        *   **Washable:** Many have machine-washable outfits or can be spot-cleaned. Some even have fully washable bodies.\n",
            "        *   **Durable:** Look for well-made stitching and sturdy materials.\n",
            "        *   **Simple accessories:** A bottle, blanket, or simple outfit that's easy for small hands to put on and take off (think Velcro closures or elastic).\n",
            "    *   **Popular options:** Brands like Melissa & Doug, Corolle (especially their \"Mon Premier\" line), and even many generic soft baby dolls are excellent.\n",
            "\n",
            "2.  **My First Dolls / Toddler Dolls:**\n",
            "    *   **Why they're great:** These dolls are often specifically designed for toddlers, focusing on simplicity and ease of interaction. They might have a slightly older \"child\" look rather than a newborn baby.\n",
            "    *   **Features to look for:**\n",
            "        *   **Sculpted hair:** Instead of long, brushable hair that can tangle and frustrate a three-year-old, many toddler dolls have molded plastic or sewn-on fabric hair that always looks neat.\n",
            "        *   **Easy-to-dress clothes:** Again, simple outfits with Velcro or elastic are key for developing fine motor skills without frustration.\n",
            "        *   **Durable construction:** Built to withstand enthusiastic play.\n",
            "    *   **Popular options:** Fisher-Price \"My First\" dolls, some dolls from Battat (like Our Generation for younger kids), or Haba soft dolls.\n",
            "\n",
            "3.  **Rag Dolls/Fabric Dolls:**\n",
            "    *   **Why they're great:** These are incredibly soft, cuddly, and often have a whimsical, charming aesthetic. They are very safe as there are no hard parts.\n",
            "    *   **Features to look for:**\n",
            "        *   **Embroidered features:** Sewn eyes, nose, and mouth are ideal as there are no small plastic pieces to come loose.\n",
            "        *   **Soft, durable fabrics:** Cotton or plush materials that can be spot-cleaned or gently hand-washed.\n",
            "        *   **No small parts:** Ensure any clothing or embellishments are securely attached.\n",
            "    *   **Popular options:** Pottery Barn Kids, Kaloo, HABA, and many independent crafters make beautiful rag dolls.\n",
            "\n",
            "**Things to generally avoid for a three-year-old's doll:**\n",
            "\n",
            "*   **Dolls with tiny, removable accessories:** Small shoes, hair clips, or jewelry can be choking hazards or easily lost.\n",
            "*   **Dolls with complex electronic features:** While some simple sounds are fine, overly complicated dolls might be frustrating or overwhelming.\n",
            "*   **Dolls with very long, fine hair:** This can get tangled quickly, leading to frustration for both the child and the adult!\n",
            "*   **Dolls that are too heavy or too big:** She should be able to comfortably carry and manipulate the doll herself.\n",
            "\n",
            "Ultimately, think about what she might enjoy nurturing, playing make-believe with, and snuggling. A soft, durable, and easy-to-play-with doll will likely be a big hit!\n"
          ]
        },
        {
          "output_type": "stream",
          "name": "stderr",
          "text": [
            "INFO:google_adk.google.adk.memory.vertex_ai_memory_bank_service:Generate memory response received.\n",
            "DEBUG:google_adk.google.adk.memory.vertex_ai_memory_bank_service:Generate memory response: name='projects/715070558789/locations/us-central1/reasoningEngines/667856556850675712/operations/2891416324909563904' metadata={'@type': 'type.googleapis.com/google.cloud.aiplatform.v1beta1.GenerateMemoriesOperationMetadata', 'genericMetadata': {'createTime': '2025-10-21T18:28:39.457909Z', 'updateTime': '2025-10-21T18:28:39.457909Z'}} done=None error=None response=None\n"
          ]
        },
        {
          "output_type": "stream",
          "name": "stdout",
          "text": [
            "\n",
            "****Triggered memory generation****\n",
            "\n"
          ]
        }
      ],
      "source": [
        "session = await session_service.create_session(app_name=APP_NAME, user_id=USER_ID)\n",
        "\n",
        "call_agent(\n",
        "    \"What christmas present recommendations do you have for my niece?\",\n",
        "    session.id,\n",
        "    user_id=USER_ID,\n",
        ")\n",
        "\n",
        "call_agent(\n",
        "    \"I think I'll get her a doll. What types are good for her age?\",\n",
        "    session.id,\n",
        "    user_id=USER_ID,\n",
        ")"
      ]
    },
    {
      "cell_type": "code",
      "execution_count": 92,
      "metadata": {
        "colab": {
          "base_uri": "https://localhost:8080/"
        },
        "id": "E9_pkrRUBBSP",
        "outputId": "4cc35758-02a1-4641-9bfc-b4d64a9e257c"
      },
      "outputs": [
        {
          "output_type": "execute_result",
          "data": {
            "text/plain": [
              "[RetrieveMemoriesResponseRetrievedMemory(\n",
              "   distance=0.7421940451885534,\n",
              "   memory=Memory(\n",
              "     create_time=datetime.datetime(2025, 10, 21, 18, 28, 19, 247220, tzinfo=TzInfo(UTC)),\n",
              "     fact='I got my niece a red bike',\n",
              "     name='projects/715070558789/locations/us-central1/reasoningEngines/667856556850675712/memories/3952097239261773824',\n",
              "     scope={\n",
              "       'app_name': 'memory_example_app',\n",
              "       'user_id': 'My User'\n",
              "     },\n",
              "     update_time=datetime.datetime(2025, 10, 21, 18, 28, 19, 247220, tzinfo=TzInfo(UTC))\n",
              "   )\n",
              " ),\n",
              " RetrieveMemoriesResponseRetrievedMemory(\n",
              "   distance=0.7943347759252403,\n",
              "   memory=Memory(\n",
              "     create_time=datetime.datetime(2025, 10, 21, 18, 28, 5, 976130, tzinfo=TzInfo(UTC)),\n",
              "     fact='I have a three-year-old niece.',\n",
              "     name='projects/715070558789/locations/us-central1/reasoningEngines/667856556850675712/memories/1159865470292066304',\n",
              "     scope={\n",
              "       'app_name': 'memory_example_app',\n",
              "       'user_id': 'My User'\n",
              "     },\n",
              "     update_time=datetime.datetime(2025, 10, 21, 18, 28, 5, 976130, tzinfo=TzInfo(UTC))\n",
              "   )\n",
              " ),\n",
              " RetrieveMemoriesResponseRetrievedMemory(\n",
              "   distance=0.8559252074223476,\n",
              "   memory=Memory(\n",
              "     create_time=datetime.datetime(2025, 10, 21, 18, 28, 5, 976229, tzinfo=TzInfo(UTC)),\n",
              "     fact='I like the idea of getting my niece a bike for her third birthday.',\n",
              "     name='projects/715070558789/locations/us-central1/reasoningEngines/667856556850675712/memories/5771551488719454208',\n",
              "     scope={\n",
              "       'app_name': 'memory_example_app',\n",
              "       'user_id': 'My User'\n",
              "     },\n",
              "     update_time=datetime.datetime(2025, 10, 21, 18, 28, 14, 929239, tzinfo=TzInfo(UTC))\n",
              "   )\n",
              " )]"
            ]
          },
          "metadata": {},
          "execution_count": 92
        }
      ],
      "source": [
        "response = client.agent_engines.memories.retrieve(\n",
        "    name=agent_engine.api_resource.name,\n",
        "    scope={\"app_name\": APP_NAME, \"user_id\": USER_ID},\n",
        "    similarity_search_params={\n",
        "        \"search_query\": \"What was I thinking about getting my niece for Christmas?\"\n",
        "    },\n",
        ")\n",
        "list(response)"
      ]
    },
    {
      "cell_type": "markdown",
      "metadata": {
        "id": "koK2O-odR36D"
      },
      "source": [
        "The prior example used the entire Session to generate memories. However, this can be costly as the size of the session increases.\n",
        "\n",
        "You can also use callbacks to only save the current turn to Memory Bank. This has the downside, however, where you lose some of the context of the conversation."
      ]
    },
    {
      "cell_type": "code",
      "execution_count": 93,
      "metadata": {
        "id": "F5hWwSvEPaaW"
      },
      "outputs": [],
      "source": [
        "async def auto_save_user_turn_to_memory_callback(callback_context):\n",
        "    last_turn = callback_context._invocation_context.user_content\n",
        "    client.agent_engines.memories.generate(\n",
        "        name=agent_engine.api_resource.name,\n",
        "        scope={\"app_name\": APP_NAME, \"user_id\": USER_ID},\n",
        "        direct_contents_source={\"events\": [{\"content\": last_turn}]},\n",
        "        config={\"wait_for_completion\": False},\n",
        "    )\n",
        "    print(\"\\n****Triggered memory generation****\\n\")\n",
        "\n",
        "\n",
        "agent = LlmAgent(\n",
        "    model=MODEL,\n",
        "    name=\"Generic_QA_Agent\",\n",
        "    instruction=\"Answer the user's questions\",\n",
        "    tools=[adk.tools.preload_memory_tool.PreloadMemoryTool()],\n",
        "    before_agent_callback=auto_save_user_turn_to_memory_callback,\n",
        ")\n",
        "\n",
        "runner = Runner(\n",
        "    agent=agent,\n",
        "    app_name=APP_NAME,\n",
        "    session_service=session_service,\n",
        "    memory_service=memory_bank_service,\n",
        ")"
      ]
    },
    {
      "cell_type": "code",
      "execution_count": 94,
      "metadata": {
        "colab": {
          "base_uri": "https://localhost:8080/"
        },
        "id": "ziRXQsAJPeYl",
        "outputId": "8191ca3b-2210-476c-f890-2c9fe95274f5"
      },
      "outputs": [
        {
          "output_type": "stream",
          "name": "stdout",
          "text": [
            "\n",
            "****Triggered memory generation****\n",
            "\n"
          ]
        },
        {
          "output_type": "stream",
          "name": "stderr",
          "text": [
            "INFO:google_adk.google.adk.memory.vertex_ai_memory_bank_service:Search memory response received.\n",
            "DEBUG:google_adk.google.adk.memory.vertex_ai_memory_bank_service:Retrieved memory: distance=0.8974765116239971 memory=Memory(\n",
            "  create_time=datetime.datetime(2025, 10, 21, 18, 28, 5, 976229, tzinfo=TzInfo(UTC)),\n",
            "  fact='I like the idea of getting my niece a bike for her third birthday.',\n",
            "  name='projects/715070558789/locations/us-central1/reasoningEngines/667856556850675712/memories/5771551488719454208',\n",
            "  scope={\n",
            "    'app_name': 'memory_example_app',\n",
            "    'user_id': 'My User'\n",
            "  },\n",
            "  update_time=datetime.datetime(2025, 10, 21, 18, 28, 14, 929239, tzinfo=TzInfo(UTC))\n",
            ")\n",
            "DEBUG:google_adk.google.adk.memory.vertex_ai_memory_bank_service:Retrieved memory: distance=0.9376007979564559 memory=Memory(\n",
            "  create_time=datetime.datetime(2025, 10, 21, 18, 28, 5, 976130, tzinfo=TzInfo(UTC)),\n",
            "  fact='I have a three-year-old niece.',\n",
            "  name='projects/715070558789/locations/us-central1/reasoningEngines/667856556850675712/memories/1159865470292066304',\n",
            "  scope={\n",
            "    'app_name': 'memory_example_app',\n",
            "    'user_id': 'My User'\n",
            "  },\n",
            "  update_time=datetime.datetime(2025, 10, 21, 18, 28, 5, 976130, tzinfo=TzInfo(UTC))\n",
            ")\n",
            "DEBUG:google_adk.google.adk.memory.vertex_ai_memory_bank_service:Retrieved memory: distance=0.9450480508950425 memory=Memory(\n",
            "  create_time=datetime.datetime(2025, 10, 21, 18, 28, 19, 247220, tzinfo=TzInfo(UTC)),\n",
            "  fact='I got my niece a red bike',\n",
            "  name='projects/715070558789/locations/us-central1/reasoningEngines/667856556850675712/memories/3952097239261773824',\n",
            "  scope={\n",
            "    'app_name': 'memory_example_app',\n",
            "    'user_id': 'My User'\n",
            "  },\n",
            "  update_time=datetime.datetime(2025, 10, 21, 18, 28, 19, 247220, tzinfo=TzInfo(UTC))\n",
            ")\n",
            "INFO:google_adk.google.adk.models.google_llm:Sending out request, model: gemini-2.5-flash, backend: GoogleLLMVariant.VERTEX_AI, stream: False\n",
            "DEBUG:google_adk.google.adk.models.google_llm:\n",
            "LLM Request:\n",
            "-----------------------------------------------------------\n",
            "System Instruction:\n",
            "Answer the user's questions\n",
            "\n",
            "You are an agent. Your internal name is \"Generic_QA_Agent\".\n",
            "\n",
            "The following content is from your previous conversations with the user.\n",
            "They may be useful for answering the user's current query.\n",
            "<PAST_CONVERSATIONS>\n",
            "Time: 2025-10-21T18:28:14.929239+00:00\n",
            "user: I like the idea of getting my niece a bike for her third birthday.\n",
            "Time: 2025-10-21T18:28:05.976130+00:00\n",
            "user: I have a three-year-old niece.\n",
            "Time: 2025-10-21T18:28:19.247220+00:00\n",
            "user: I got my niece a red bike\n",
            "</PAST_CONVERSATIONS>\n",
            "\n",
            "-----------------------------------------------------------\n",
            "Contents:\n",
            "{\"parts\":[{\"text\":\"What christmas present recommendations do you have for my niece?\"}],\"role\":\"user\"}\n",
            "{\"parts\":[{\"text\":\"Since your niece is three years old and already has a red bike, here are a few Christmas present recommendations that she might enjoy:\\n\\n1.  **Creative Play:**\\n    *   **Art Supplies:** A set of chunky crayons, washable markers, a large easel with paper, or a Play-Doh kit can spark her creativity.\\n    *   **Building Blocks:** DUPLO sets are fantastic for this age, allowing her to build and create freely. Magnetic tiles are another popular option that encourages imaginative construction.\\n\\n2.  **Imaginary Play:**\\n    *   **Dress-Up Clothes:** A simple dress-up box with a few costumes (like a princess, superhero, or animal) can lead to hours of fun.\\n    *   **Play Kitchen or Doctor Kit:** These encourage role-playing and help develop social skills.\\n    *   **Dolls or Stuffed Animals:** A new special doll or a soft toy can become a cherished companion.\\n\\n3.  **Books:**\\n    *   **Picture Books:** A collection of engaging picture books is always a wonderful gift. Look for stories with colorful illustrations and simple narratives.\\n    *   **Interactive Books:** Lift-the-flap books or sound books can be very entertaining for a three-year-old.\\n\\n4.  **Outdoor/Active Play (non-bike related):**\\n    *   **Scooter:** A three-wheeled scooter is a great next step after a bike for developing balance and coordination.\\n    *   **Sand and Water Table:** If you have a yard, this provides endless sensory play opportunities.\\n\\nConsider her current interests as well – does she love animals, specific characters, or making things? That might help narrow down the perfect choice!\"}],\"role\":\"model\"}\n",
            "{\"parts\":[{\"text\":\"I think I'll get her a doll. What types are good for her age?\"}],\"role\":\"user\"}\n",
            "{\"parts\":[{\"text\":\"That's a lovely idea! Dolls are fantastic for encouraging nurturing, imaginative play, and developing social and emotional skills in three-year-olds.\\n\\nWhen choosing a doll for a three-year-old, you'll want to look for durability, ease of play, and safety. Here are some great types of dolls for her age:\\n\\n1.  **Soft-Bodied Baby Dolls:**\\n    *   **Why they're great:** These are classic for a reason! They are perfect for nurturing play, allowing her to role-play caring for a baby (feeding, rocking, putting to sleep). The soft body makes them cuddly and easy to hug.\\n    *   **Features to look for:**\\n        *   **Washable:** Many have machine-washable outfits or can be spot-cleaned. Some even have fully washable bodies.\\n        *   **Durable:** Look for well-made stitching and sturdy materials.\\n        *   **Simple accessories:** A bottle, blanket, or simple outfit that's easy for small hands to put on and take off (think Velcro closures or elastic).\\n    *   **Popular options:** Brands like Melissa & Doug, Corolle (especially their \\\"Mon Premier\\\" line), and even many generic soft baby dolls are excellent.\\n\\n2.  **My First Dolls / Toddler Dolls:**\\n    *   **Why they're great:** These dolls are often specifically designed for toddlers, focusing on simplicity and ease of interaction. They might have a slightly older \\\"child\\\" look rather than a newborn baby.\\n    *   **Features to look for:**\\n        *   **Sculpted hair:** Instead of long, brushable hair that can tangle and frustrate a three-year-old, many toddler dolls have molded plastic or sewn-on fabric hair that always looks neat.\\n        *   **Easy-to-dress clothes:** Again, simple outfits with Velcro or elastic are key for developing fine motor skills without frustration.\\n        *   **Durable construction:** Built to withstand enthusiastic play.\\n    *   **Popular options:** Fisher-Price \\\"My First\\\" dolls, some dolls from Battat (like Our Generation for younger kids), or Haba soft dolls.\\n\\n3.  **Rag Dolls/Fabric Dolls:**\\n    *   **Why they're great:** These are incredibly soft, cuddly, and often have a whimsical, charming aesthetic. They are very safe as there are no hard parts.\\n    *   **Features to look for:**\\n        *   **Embroidered features:** Sewn eyes, nose, and mouth are ideal as there are no small plastic pieces to come loose.\\n        *   **Soft, durable fabrics:** Cotton or plush materials that can be spot-cleaned or gently hand-washed.\\n        *   **No small parts:** Ensure any clothing or embellishments are securely attached.\\n    *   **Popular options:** Pottery Barn Kids, Kaloo, HABA, and many independent crafters make beautiful rag dolls.\\n\\n**Things to generally avoid for a three-year-old's doll:**\\n\\n*   **Dolls with tiny, removable accessories:** Small shoes, hair clips, or jewelry can be choking hazards or easily lost.\\n*   **Dolls with complex electronic features:** While some simple sounds are fine, overly complicated dolls might be frustrating or overwhelming.\\n*   **Dolls with very long, fine hair:** This can get tangled quickly, leading to frustration for both the child and the adult!\\n*   **Dolls that are too heavy or too big:** She should be able to comfortably carry and manipulate the doll herself.\\n\\nUltimately, think about what she might enjoy nurturing, playing make-believe with, and snuggling. A soft, durable, and easy-to-play-with doll will likely be a big hit!\"}],\"role\":\"model\"}\n",
            "{\"parts\":[{\"text\":\"I think I'll get her a doll. What types are good for her age?\"}],\"role\":\"user\"}\n",
            "-----------------------------------------------------------\n",
            "Functions:\n",
            "\n",
            "-----------------------------------------------------------\n",
            "\n",
            "INFO:google_adk.google.adk.models.google_llm:Response received from the model.\n",
            "DEBUG:google_adk.google.adk.models.google_llm:\n",
            "LLM Response:\n",
            "-----------------------------------------------------------\n",
            "Text:\n",
            "That's a wonderful choice! Dolls are excellent for encouraging imaginative play, nurturing instincts, and developing social-emotional skills in a three-year-old.\n",
            "\n",
            "As I mentioned before, when picking a doll for her age, focus on durability, ease of play, and safety. Here are the types that are generally best:\n",
            "\n",
            "1.  **Soft-Bodied Baby Dolls:**\n",
            "    *   **Why they're great:** Perfect for nurturing play. They're cuddly, easy to hug, and encourage role-playing caring for a baby (feeding, rocking, etc.).\n",
            "    *   **What to look for:** Washable materials, sturdy construction, and simple accessories like a bottle or blanket with easy-to-use closures (Velcro, elastic) on clothes.\n",
            "    *   **Examples:** Brands like Melissa & Doug, Corolle (especially their \"Mon Premier\" line), or other soft, classic baby dolls.\n",
            "\n",
            "2.  **My First Dolls / Toddler Dolls:**\n",
            "    *   **Why they're great:** Specifically designed for this age group, often with a simpler, more child-like look rather than a newborn baby. They prioritize ease of interaction.\n",
            "    *   **What to look for:** Molded plastic or sewn-on fabric hair (less tangling than long, brushable hair), and clothes that are very easy for small hands to put on and take off.\n",
            "    *   **Examples:** Fisher-Price \"My First\" dolls, or certain simple dolls from brands like Battat.\n",
            "\n",
            "3.  **Rag Dolls/Fabric Dolls:**\n",
            "    *   **Why they're great:** Extremely soft, lightweight, and cuddly. They often have an endearing, classic look and are very safe with no hard parts.\n",
            "    *   **What to look for:** Embroidered features (eyes, mouth) to avoid small plastic pieces, durable and washable fabrics, and no tiny, detachable parts.\n",
            "    *   **Examples:** Brands like Kaloo, HABA, or many beautiful handcrafted rag dolls.\n",
            "\n",
            "**Things to generally avoid for a three-year-old:**\n",
            "\n",
            "*   **Dolls with tiny, easily removable accessories:** Small shoes, hair clips, or jewelry can be choking hazards or get lost quickly.\n",
            "*   **Dolls with overly complex electronic features:** Can sometimes be more frustrating than fun.\n",
            "*   **Dolls with very long, fine hair:** It tangles very easily and can be frustrating for a three-year-old to manage.\n",
            "*   **Dolls that are too heavy or too large:** She should be able to comfortably carry and play with it independently.\n",
            "\n",
            "A soft, durable, and easy-to-manage doll will likely be a cherished Christmas gift!\n",
            "-----------------------------------------------------------\n",
            "Function calls:\n",
            "\n",
            "-----------------------------------------------------------\n",
            "Raw response:\n",
            "{\"sdk_http_response\":{\"headers\":{\"Content-Type\":\"application/json; charset=UTF-8\",\"Vary\":\"Origin, X-Origin, Referer\",\"Content-Encoding\":\"gzip\",\"Date\":\"Tue, 21 Oct 2025 18:28:45 GMT\",\"Server\":\"scaffolding on HTTPServer2\",\"X-XSS-Protection\":\"0\",\"X-Frame-Options\":\"SAMEORIGIN\",\"X-Content-Type-Options\":\"nosniff\",\"Transfer-Encoding\":\"chunked\"}},\"candidates\":[{\"content\":{\"parts\":[{\"text\":\"That's a wonderful choice! Dolls are excellent for encouraging imaginative play, nurturing instincts, and developing social-emotional skills in a three-year-old.\\n\\nAs I mentioned before, when picking a doll for her age, focus on durability, ease of play, and safety. Here are the types that are generally best:\\n\\n1.  **Soft-Bodied Baby Dolls:**\\n    *   **Why they're great:** Perfect for nurturing play. They're cuddly, easy to hug, and encourage role-playing caring for a baby (feeding, rocking, etc.).\\n    *   **What to look for:** Washable materials, sturdy construction, and simple accessories like a bottle or blanket with easy-to-use closures (Velcro, elastic) on clothes.\\n    *   **Examples:** Brands like Melissa & Doug, Corolle (especially their \\\"Mon Premier\\\" line), or other soft, classic baby dolls.\\n\\n2.  **My First Dolls / Toddler Dolls:**\\n    *   **Why they're great:** Specifically designed for this age group, often with a simpler, more child-like look rather than a newborn baby. They prioritize ease of interaction.\\n    *   **What to look for:** Molded plastic or sewn-on fabric hair (less tangling than long, brushable hair), and clothes that are very easy for small hands to put on and take off.\\n    *   **Examples:** Fisher-Price \\\"My First\\\" dolls, or certain simple dolls from brands like Battat.\\n\\n3.  **Rag Dolls/Fabric Dolls:**\\n    *   **Why they're great:** Extremely soft, lightweight, and cuddly. They often have an endearing, classic look and are very safe with no hard parts.\\n    *   **What to look for:** Embroidered features (eyes, mouth) to avoid small plastic pieces, durable and washable fabrics, and no tiny, detachable parts.\\n    *   **Examples:** Brands like Kaloo, HABA, or many beautiful handcrafted rag dolls.\\n\\n**Things to generally avoid for a three-year-old:**\\n\\n*   **Dolls with tiny, easily removable accessories:** Small shoes, hair clips, or jewelry can be choking hazards or get lost quickly.\\n*   **Dolls with overly complex electronic features:** Can sometimes be more frustrating than fun.\\n*   **Dolls with very long, fine hair:** It tangles very easily and can be frustrating for a three-year-old to manage.\\n*   **Dolls that are too heavy or too large:** She should be able to comfortably carry and play with it independently.\\n\\nA soft, durable, and easy-to-manage doll will likely be a cherished Christmas gift!\"}],\"role\":\"model\"},\"finish_reason\":\"STOP\",\"avg_logprobs\":-0.28182063542359265}],\"create_time\":\"2025-10-21T18:28:41.445764Z\",\"model_version\":\"gemini-2.5-flash\",\"response_id\":\"2dD3aMSaG-mdnvgP59qWsAc\",\"usage_metadata\":{\"candidates_token_count\":564,\"candidates_tokens_details\":[{\"modality\":\"TEXT\",\"token_count\":564}],\"prompt_token_count\":1408,\"prompt_tokens_details\":[{\"modality\":\"TEXT\",\"token_count\":1408}],\"thoughts_token_count\":43,\"total_token_count\":2015,\"traffic_type\":\"ON_DEMAND\"},\"automatic_function_calling_history\":[]}\n",
            "-----------------------------------------------------------\n",
            "\n"
          ]
        },
        {
          "output_type": "stream",
          "name": "stdout",
          "text": [
            "Agent Response:  That's a wonderful choice! Dolls are excellent for encouraging imaginative play, nurturing instincts, and developing social-emotional skills in a three-year-old.\n",
            "\n",
            "As I mentioned before, when picking a doll for her age, focus on durability, ease of play, and safety. Here are the types that are generally best:\n",
            "\n",
            "1.  **Soft-Bodied Baby Dolls:**\n",
            "    *   **Why they're great:** Perfect for nurturing play. They're cuddly, easy to hug, and encourage role-playing caring for a baby (feeding, rocking, etc.).\n",
            "    *   **What to look for:** Washable materials, sturdy construction, and simple accessories like a bottle or blanket with easy-to-use closures (Velcro, elastic) on clothes.\n",
            "    *   **Examples:** Brands like Melissa & Doug, Corolle (especially their \"Mon Premier\" line), or other soft, classic baby dolls.\n",
            "\n",
            "2.  **My First Dolls / Toddler Dolls:**\n",
            "    *   **Why they're great:** Specifically designed for this age group, often with a simpler, more child-like look rather than a newborn baby. They prioritize ease of interaction.\n",
            "    *   **What to look for:** Molded plastic or sewn-on fabric hair (less tangling than long, brushable hair), and clothes that are very easy for small hands to put on and take off.\n",
            "    *   **Examples:** Fisher-Price \"My First\" dolls, or certain simple dolls from brands like Battat.\n",
            "\n",
            "3.  **Rag Dolls/Fabric Dolls:**\n",
            "    *   **Why they're great:** Extremely soft, lightweight, and cuddly. They often have an endearing, classic look and are very safe with no hard parts.\n",
            "    *   **What to look for:** Embroidered features (eyes, mouth) to avoid small plastic pieces, durable and washable fabrics, and no tiny, detachable parts.\n",
            "    *   **Examples:** Brands like Kaloo, HABA, or many beautiful handcrafted rag dolls.\n",
            "\n",
            "**Things to generally avoid for a three-year-old:**\n",
            "\n",
            "*   **Dolls with tiny, easily removable accessories:** Small shoes, hair clips, or jewelry can be choking hazards or get lost quickly.\n",
            "*   **Dolls with overly complex electronic features:** Can sometimes be more frustrating than fun.\n",
            "*   **Dolls with very long, fine hair:** It tangles very easily and can be frustrating for a three-year-old to manage.\n",
            "*   **Dolls that are too heavy or too large:** She should be able to comfortably carry and play with it independently.\n",
            "\n",
            "A soft, durable, and easy-to-manage doll will likely be a cherished Christmas gift!\n"
          ]
        }
      ],
      "source": [
        "call_agent(\n",
        "    \"I think I'll get her a doll. What types are good for her age?\",\n",
        "    session.id,\n",
        "    user_id=USER_ID,\n",
        ")"
      ]
    },
    {
      "cell_type": "markdown",
      "metadata": {
        "id": "rstDOvEhWogm"
      },
      "source": [
        "## Using Memory in your agent\n",
        "\n",
        "Now, let's link our agent to Memory, so that memories can be fetched by your agent and used for inference. This allows your agent to remember information from prior sessions in a new, empty session.\n",
        "\n",
        "You can use ADK's built-in tools to fetch memories and incorporate them in the prompt. When using the built-in tools, it's important to provide both a memory tool when creating your Agent and a memory service when defining your Runner."
      ]
    },
    {
      "cell_type": "markdown",
      "metadata": {
        "id": "yOiYWk7GZlyN"
      },
      "source": [
        "### `adk.PreloadMemoryTool`\n",
        "The `PreloadMemoryTool` always retrieves memories at the start of each turn and includes the memories in the system instruction.\n",
        "\n",
        "Under the hood, it invokes `memory_service.search_memory` for the given User and App Name. Memory is invoked before the LLM is called, so there will not be an associated tool call logged for memory.\n",
        "\n",
        "We're going to use a [callback](https://google.github.io/adk-docs/callbacks/) to print out the System Instructions. Since we use `before_model_callback`, the callback executes right before the model is called.\n",
        "\n",
        "<img src=\"https://google.github.io/adk-docs/assets/callback_flow.png\">"
      ]
    },
    {
      "cell_type": "code",
      "execution_count": 95,
      "metadata": {
        "id": "l1ENgxmkWnVl"
      },
      "outputs": [],
      "source": [
        "from google import adk\n",
        "\n",
        "\n",
        "def log_system_instructions(callback_context, llm_request):\n",
        "    \"\"\"A callback to print the LLM request.\"\"\"\n",
        "    print(\n",
        "        f\"\\n*System Instruction*:\\n{llm_request.config.system_instruction}\\n*********\\n\"\n",
        "    )\n",
        "\n",
        "\n",
        "agent = LlmAgent(\n",
        "    model=MODEL,\n",
        "    name=\"Generic_QA_Agent\",\n",
        "    instruction=\"Answer the user's questions\",\n",
        "    tools=[adk.tools.preload_memory_tool.PreloadMemoryTool()],\n",
        "    before_model_callback=log_system_instructions,\n",
        ")\n",
        "\n",
        "runner = Runner(\n",
        "    agent=agent,\n",
        "    app_name=APP_NAME,\n",
        "    session_service=session_service,\n",
        "    memory_service=memory_bank_service,\n",
        ")"
      ]
    },
    {
      "cell_type": "markdown",
      "metadata": {
        "id": "r0g7dxD0aG_H"
      },
      "source": [
        "This conversation uses a new session, so it doesn't have access to the user's conversation history without using memory.\n",
        "\n",
        "Since we're using `PreloadMemoryTool`, the retrieved memories will be appended to the System Instructions."
      ]
    },
    {
      "cell_type": "code",
      "execution_count": 96,
      "metadata": {
        "colab": {
          "base_uri": "https://localhost:8080/"
        },
        "id": "2FD9VV_4Hqja",
        "outputId": "4e9a5b32-d3b9-40ea-b2fd-801705ede0ff"
      },
      "outputs": [
        {
          "output_type": "stream",
          "name": "stderr",
          "text": [
            "INFO:google_adk.google.adk.memory.vertex_ai_memory_bank_service:Search memory response received.\n",
            "DEBUG:google_adk.google.adk.memory.vertex_ai_memory_bank_service:Retrieved memory: distance=0.7804052745220467 memory=Memory(\n",
            "  create_time=datetime.datetime(2025, 10, 21, 18, 28, 19, 247220, tzinfo=TzInfo(UTC)),\n",
            "  fact='I got my niece a red bike',\n",
            "  name='projects/715070558789/locations/us-central1/reasoningEngines/667856556850675712/memories/3952097239261773824',\n",
            "  scope={\n",
            "    'app_name': 'memory_example_app',\n",
            "    'user_id': 'My User'\n",
            "  },\n",
            "  update_time=datetime.datetime(2025, 10, 21, 18, 28, 19, 247220, tzinfo=TzInfo(UTC))\n",
            ")\n",
            "DEBUG:google_adk.google.adk.memory.vertex_ai_memory_bank_service:Retrieved memory: distance=0.8461041281672127 memory=Memory(\n",
            "  create_time=datetime.datetime(2025, 10, 21, 18, 28, 5, 976130, tzinfo=TzInfo(UTC)),\n",
            "  fact='I have a three-year-old niece.',\n",
            "  name='projects/715070558789/locations/us-central1/reasoningEngines/667856556850675712/memories/1159865470292066304',\n",
            "  scope={\n",
            "    'app_name': 'memory_example_app',\n",
            "    'user_id': 'My User'\n",
            "  },\n",
            "  update_time=datetime.datetime(2025, 10, 21, 18, 28, 5, 976130, tzinfo=TzInfo(UTC))\n",
            ")\n",
            "DEBUG:google_adk.google.adk.memory.vertex_ai_memory_bank_service:Retrieved memory: distance=0.8894590810677695 memory=Memory(\n",
            "  create_time=datetime.datetime(2025, 10, 21, 18, 28, 5, 976229, tzinfo=TzInfo(UTC)),\n",
            "  fact='I like the idea of getting my niece a bike for her third birthday.',\n",
            "  name='projects/715070558789/locations/us-central1/reasoningEngines/667856556850675712/memories/5771551488719454208',\n",
            "  scope={\n",
            "    'app_name': 'memory_example_app',\n",
            "    'user_id': 'My User'\n",
            "  },\n",
            "  update_time=datetime.datetime(2025, 10, 21, 18, 28, 14, 929239, tzinfo=TzInfo(UTC))\n",
            ")\n",
            "INFO:google_adk.google.adk.models.google_llm:Sending out request, model: gemini-2.5-flash, backend: GoogleLLMVariant.VERTEX_AI, stream: False\n",
            "DEBUG:google_adk.google.adk.models.google_llm:\n",
            "LLM Request:\n",
            "-----------------------------------------------------------\n",
            "System Instruction:\n",
            "Answer the user's questions\n",
            "\n",
            "You are an agent. Your internal name is \"Generic_QA_Agent\".\n",
            "\n",
            "The following content is from your previous conversations with the user.\n",
            "They may be useful for answering the user's current query.\n",
            "<PAST_CONVERSATIONS>\n",
            "Time: 2025-10-21T18:28:19.247220+00:00\n",
            "user: I got my niece a red bike\n",
            "Time: 2025-10-21T18:28:05.976130+00:00\n",
            "user: I have a three-year-old niece.\n",
            "Time: 2025-10-21T18:28:14.929239+00:00\n",
            "user: I like the idea of getting my niece a bike for her third birthday.\n",
            "</PAST_CONVERSATIONS>\n",
            "\n",
            "-----------------------------------------------------------\n",
            "Contents:\n",
            "{\"parts\":[{\"text\":\"Can you remind me what I got my niece for her christmas?\"}],\"role\":\"user\"}\n",
            "-----------------------------------------------------------\n",
            "Functions:\n",
            "\n",
            "-----------------------------------------------------------\n",
            "\n"
          ]
        },
        {
          "output_type": "stream",
          "name": "stdout",
          "text": [
            "\n",
            "*System Instruction*:\n",
            "Answer the user's questions\n",
            "\n",
            "You are an agent. Your internal name is \"Generic_QA_Agent\".\n",
            "\n",
            "The following content is from your previous conversations with the user.\n",
            "They may be useful for answering the user's current query.\n",
            "<PAST_CONVERSATIONS>\n",
            "Time: 2025-10-21T18:28:19.247220+00:00\n",
            "user: I got my niece a red bike\n",
            "Time: 2025-10-21T18:28:05.976130+00:00\n",
            "user: I have a three-year-old niece.\n",
            "Time: 2025-10-21T18:28:14.929239+00:00\n",
            "user: I like the idea of getting my niece a bike for her third birthday.\n",
            "</PAST_CONVERSATIONS>\n",
            "\n",
            "*********\n",
            "\n"
          ]
        },
        {
          "output_type": "stream",
          "name": "stderr",
          "text": [
            "INFO:google_adk.google.adk.models.google_llm:Response received from the model.\n",
            "DEBUG:google_adk.google.adk.models.google_llm:\n",
            "LLM Response:\n",
            "-----------------------------------------------------------\n",
            "Text:\n",
            "Based on our past conversations, you mentioned that you got your niece a **red bike**. However, you linked that gift to her third birthday, not Christmas. I don't have any record of what you got her for Christmas.\n",
            "-----------------------------------------------------------\n",
            "Function calls:\n",
            "\n",
            "-----------------------------------------------------------\n",
            "Raw response:\n",
            "{\"sdk_http_response\":{\"headers\":{\"Content-Type\":\"application/json; charset=UTF-8\",\"Vary\":\"Origin, X-Origin, Referer\",\"Content-Encoding\":\"gzip\",\"Date\":\"Tue, 21 Oct 2025 18:28:51 GMT\",\"Server\":\"scaffolding on HTTPServer2\",\"X-XSS-Protection\":\"0\",\"X-Frame-Options\":\"SAMEORIGIN\",\"X-Content-Type-Options\":\"nosniff\",\"Transfer-Encoding\":\"chunked\"}},\"candidates\":[{\"content\":{\"parts\":[{\"text\":\"Based on our past conversations, you mentioned that you got your niece a **red bike**. However, you linked that gift to her third birthday, not Christmas. I don't have any record of what you got her for Christmas.\"}],\"role\":\"model\"},\"finish_reason\":\"STOP\",\"avg_logprobs\":-0.9930389891279504}],\"create_time\":\"2025-10-21T18:28:50.155726Z\",\"model_version\":\"gemini-2.5-flash\",\"response_id\":\"4tD3aM7ACa2g3NoPg96PgAY\",\"usage_metadata\":{\"candidates_token_count\":47,\"candidates_tokens_details\":[{\"modality\":\"TEXT\",\"token_count\":47}],\"prompt_token_count\":229,\"prompt_tokens_details\":[{\"modality\":\"TEXT\",\"token_count\":229}],\"thoughts_token_count\":158,\"total_token_count\":434,\"traffic_type\":\"ON_DEMAND\"},\"automatic_function_calling_history\":[]}\n",
            "-----------------------------------------------------------\n",
            "\n"
          ]
        },
        {
          "output_type": "stream",
          "name": "stdout",
          "text": [
            "Agent Response:  Based on our past conversations, you mentioned that you got your niece a **red bike**. However, you linked that gift to her third birthday, not Christmas. I don't have any record of what you got her for Christmas.\n"
          ]
        }
      ],
      "source": [
        "session = await session_service.create_session(app_name=APP_NAME, user_id=USER_ID)\n",
        "\n",
        "call_agent(\n",
        "    \"Can you remind me what I got my niece for her christmas?\",\n",
        "    session.id,\n",
        "    user_id=USER_ID,\n",
        ")"
      ]
    },
    {
      "cell_type": "markdown",
      "metadata": {
        "id": "TSpv-aGuaG4g"
      },
      "source": [
        "### adk.LoadMemoryTool\n",
        "\n",
        "Now, let's use `LoadMemoryTool`. Unlike `PreloadMemoryTool`, this tool acts like a standard tool. Your agent needs to decide whether the tool should be invoked."
      ]
    },
    {
      "cell_type": "code",
      "execution_count": 97,
      "metadata": {
        "id": "aIbplEW0ZlRR"
      },
      "outputs": [],
      "source": [
        "from google import adk\n",
        "\n",
        "\n",
        "def log_tool_call(tool, args, tool_response, **kwargs):\n",
        "    \"\"\"A callback to print the LLM request.\"\"\"\n",
        "    print(f\"\\n*Tool*:\\n{tool}\")\n",
        "    print(f\"\\n*Tool call*:\\n{args}\")\n",
        "    print(f\"\\n*Tool response*:\\n{tool_response}\\n*********\\n\")\n",
        "\n",
        "\n",
        "agent = LlmAgent(\n",
        "    model=MODEL,\n",
        "    name=\"Generic_QA_Agent\",\n",
        "    instruction=\"Answer the user's questions\",\n",
        "    tools=[adk.tools.load_memory_tool.LoadMemoryTool()],\n",
        "    before_model_callback=log_system_instructions,\n",
        "    after_tool_callback=log_tool_call,\n",
        ")\n",
        "\n",
        "runner = Runner(\n",
        "    agent=agent,\n",
        "    app_name=APP_NAME,\n",
        "    session_service=session_service,\n",
        "    memory_service=memory_bank_service,\n",
        ")"
      ]
    },
    {
      "cell_type": "code",
      "execution_count": 98,
      "metadata": {
        "colab": {
          "base_uri": "https://localhost:8080/"
        },
        "id": "u2LLB98aZssb",
        "outputId": "228162b5-1cb6-4b49-d0b0-a17bd82c4316"
      },
      "outputs": [
        {
          "output_type": "stream",
          "name": "stderr",
          "text": [
            "INFO:google_adk.google.adk.models.google_llm:Sending out request, model: gemini-2.5-flash, backend: GoogleLLMVariant.VERTEX_AI, stream: False\n",
            "DEBUG:google_adk.google.adk.models.google_llm:\n",
            "LLM Request:\n",
            "-----------------------------------------------------------\n",
            "System Instruction:\n",
            "Answer the user's questions\n",
            "\n",
            "You are an agent. Your internal name is \"Generic_QA_Agent\".\n",
            "\n",
            "\n",
            "You have memory. You can use it to answer questions. If any questions need\n",
            "you to look up the memory, you should call load_memory function with a query.\n",
            "\n",
            "-----------------------------------------------------------\n",
            "Contents:\n",
            "{\"parts\":[{\"text\":\"Can you remind me what I got my niece for her christmas?\"}],\"role\":\"user\"}\n",
            "-----------------------------------------------------------\n",
            "Functions:\n",
            "load_memory: {'query': {'type': <Type.STRING: 'STRING'>}} \n",
            "-----------------------------------------------------------\n",
            "\n"
          ]
        },
        {
          "output_type": "stream",
          "name": "stdout",
          "text": [
            "\n",
            "*System Instruction*:\n",
            "Answer the user's questions\n",
            "\n",
            "You are an agent. Your internal name is \"Generic_QA_Agent\".\n",
            "\n",
            "\n",
            "You have memory. You can use it to answer questions. If any questions need\n",
            "you to look up the memory, you should call load_memory function with a query.\n",
            "\n",
            "*********\n",
            "\n"
          ]
        },
        {
          "output_type": "stream",
          "name": "stderr",
          "text": [
            "Exception in thread Thread-45 (_asyncio_thread_main):\n",
            "Traceback (most recent call last):\n",
            "  File \"/usr/lib/python3.12/threading.py\", line 1075, in _bootstrap_inner\n",
            "    self.run()\n",
            "  File \"/usr/lib/python3.12/threading.py\", line 1012, in run\n",
            "    self._target(*self._args, **self._kwargs)\n",
            "  File \"/usr/local/lib/python3.12/dist-packages/google/adk/runners.py\", line 305, in _asyncio_thread_main\n",
            "    asyncio.run(_invoke_run_async())\n",
            "  File \"/usr/lib/python3.12/asyncio/runners.py\", line 195, in run\n",
            "    return runner.run(main)\n",
            "           ^^^^^^^^^^^^^^^^\n",
            "  File \"/usr/lib/python3.12/asyncio/runners.py\", line 118, in run\n",
            "    return self._loop.run_until_complete(task)\n",
            "           ^^^^^^^^^^^^^^^^^^^^^^^^^^^^^^^^^^^\n",
            "  File \"/usr/lib/python3.12/asyncio/base_events.py\", line 691, in run_until_complete\n",
            "    return future.result()\n",
            "           ^^^^^^^^^^^^^^^\n",
            "  File \"/usr/local/lib/python3.12/dist-packages/google/adk/runners.py\", line 298, in _invoke_run_async\n",
            "    async for event in agen:\n",
            "  File \"/usr/local/lib/python3.12/dist-packages/google/adk/runners.py\", line 428, in run_async\n",
            "    async for event in agen:\n",
            "  File \"/usr/local/lib/python3.12/dist-packages/google/adk/runners.py\", line 412, in _run_with_trace\n",
            "    async for event in agen:\n",
            "  File \"/usr/local/lib/python3.12/dist-packages/google/adk/runners.py\", line 498, in _exec_with_plugin\n",
            "    async for event in agen:\n",
            "  File \"/usr/local/lib/python3.12/dist-packages/google/adk/runners.py\", line 401, in execute\n",
            "    async for event in agen:\n",
            "  File \"/usr/local/lib/python3.12/dist-packages/google/adk/agents/base_agent.py\", line 307, in run_async\n",
            "    async for event in agen:\n",
            "  File \"/usr/local/lib/python3.12/dist-packages/google/adk/agents/base_agent.py\", line 297, in _run_with_trace\n",
            "    async for event in agen:\n",
            "  File \"/usr/local/lib/python3.12/dist-packages/google/adk/agents/llm_agent.py\", line 395, in _run_async_impl\n",
            "    async for event in agen:\n",
            "  File \"/usr/local/lib/python3.12/dist-packages/google/adk/flows/llm_flows/base_llm_flow.py\", line 356, in run_async\n",
            "    async for event in agen:\n",
            "  File \"/usr/local/lib/python3.12/dist-packages/google/adk/flows/llm_flows/base_llm_flow.py\", line 414, in _run_one_step_async\n",
            "    async for llm_response in agen:\n",
            "  File \"/usr/local/lib/python3.12/dist-packages/google/adk/flows/llm_flows/base_llm_flow.py\", line 780, in _call_llm_async\n",
            "    async for event in agen:\n",
            "  File \"/usr/local/lib/python3.12/dist-packages/google/adk/flows/llm_flows/base_llm_flow.py\", line 764, in _call_llm_with_tracing\n",
            "    async for llm_response in agen:\n",
            "  File \"/usr/local/lib/python3.12/dist-packages/google/adk/flows/llm_flows/base_llm_flow.py\", line 974, in _run_and_handle_error\n",
            "    raise model_error\n",
            "  File \"/usr/local/lib/python3.12/dist-packages/google/adk/flows/llm_flows/base_llm_flow.py\", line 958, in _run_and_handle_error\n",
            "    async for response in agen:\n",
            "  File \"/usr/local/lib/python3.12/dist-packages/google/adk/models/google_llm.py\", line 171, in generate_content_async\n",
            "    response = await self.api_client.aio.models.generate_content(\n",
            "               ^^^^^^^^^^^^^^^^^^^^^^^^^^^^^^^^^^^^^^^^^^^^^^^^^^\n",
            "  File \"/usr/local/lib/python3.12/dist-packages/google/genai/models.py\", line 6757, in generate_content\n",
            "    response = await self._generate_content(\n",
            "               ^^^^^^^^^^^^^^^^^^^^^^^^^^^^^\n",
            "  File \"/usr/local/lib/python3.12/dist-packages/google/genai/models.py\", line 5592, in _generate_content\n",
            "    response = await self._api_client.async_request(\n",
            "               ^^^^^^^^^^^^^^^^^^^^^^^^^^^^^^^^^^^^^\n",
            "  File \"/usr/local/lib/python3.12/dist-packages/google/genai/_api_client.py\", line 1340, in async_request\n",
            "    result = await self._async_request(\n",
            "             ^^^^^^^^^^^^^^^^^^^^^^^^^^\n",
            "  File \"/usr/local/lib/python3.12/dist-packages/google/genai/_api_client.py\", line 1285, in _async_request\n",
            "    return await self._async_retry(  # type: ignore[no-any-return]\n",
            "           ^^^^^^^^^^^^^^^^^^^^^^^^^^^^^^^^^^^^^^^^^^^^^^^^^^^^^^^\n",
            "  File \"/usr/local/lib/python3.12/dist-packages/tenacity/asyncio/__init__.py\", line 111, in __call__\n",
            "    do = await self.iter(retry_state=retry_state)\n",
            "         ^^^^^^^^^^^^^^^^^^^^^^^^^^^^^^^^^^^^^^^^\n",
            "  File \"/usr/local/lib/python3.12/dist-packages/tenacity/asyncio/__init__.py\", line 153, in iter\n",
            "    result = await action(retry_state)\n",
            "             ^^^^^^^^^^^^^^^^^^^^^^^^^\n",
            "  File \"/usr/local/lib/python3.12/dist-packages/tenacity/_utils.py\", line 99, in inner\n",
            "    return call(*args, **kwargs)\n",
            "           ^^^^^^^^^^^^^^^^^^^^^\n",
            "  File \"/usr/local/lib/python3.12/dist-packages/tenacity/__init__.py\", line 418, in exc_check\n",
            "    raise retry_exc.reraise()\n",
            "          ^^^^^^^^^^^^^^^^^^^\n",
            "  File \"/usr/local/lib/python3.12/dist-packages/tenacity/__init__.py\", line 185, in reraise\n",
            "    raise self.last_attempt.result()\n",
            "          ^^^^^^^^^^^^^^^^^^^^^^^^^^\n",
            "  File \"/usr/lib/python3.12/concurrent/futures/_base.py\", line 449, in result\n",
            "    return self.__get_result()\n",
            "           ^^^^^^^^^^^^^^^^^^^\n",
            "  File \"/usr/lib/python3.12/concurrent/futures/_base.py\", line 401, in __get_result\n",
            "    raise self._exception\n",
            "  File \"/usr/local/lib/python3.12/dist-packages/tenacity/asyncio/__init__.py\", line 114, in __call__\n",
            "    result = await fn(*args, **kwargs)\n",
            "             ^^^^^^^^^^^^^^^^^^^^^^^^^\n",
            "  File \"/usr/local/lib/python3.12/dist-packages/google/genai/_api_client.py\", line 1230, in _async_request_once\n",
            "    await errors.APIError.raise_for_async_response(response)\n",
            "  File \"/usr/local/lib/python3.12/dist-packages/google/genai/errors.py\", line 166, in raise_for_async_response\n",
            "    raise ClientError(status_code, response_json, response)\n",
            "google.genai.errors.ClientError: 429 RESOURCE_EXHAUSTED. {'error': {'code': 429, 'message': 'Resource exhausted. Please try again later. Please refer to https://cloud.google.com/vertex-ai/generative-ai/docs/error-code-429 for more details.', 'status': 'RESOURCE_EXHAUSTED'}}\n"
          ]
        }
      ],
      "source": [
        "session = await session_service.create_session(app_name=APP_NAME, user_id=USER_ID)\n",
        "\n",
        "call_agent(\n",
        "    \"Can you remind me what I got my niece for her christmas?\",\n",
        "    session.id,\n",
        "    user_id=USER_ID,\n",
        ")"
      ]
    },
    {
      "cell_type": "markdown",
      "metadata": {
        "id": "9uGnTDQO42tf"
      },
      "source": [
        "If the agent decides that Memory is not helpful for a given query, the Memory tool will not be invoked."
      ]
    },
    {
      "cell_type": "code",
      "execution_count": 99,
      "metadata": {
        "colab": {
          "base_uri": "https://localhost:8080/"
        },
        "id": "Pmm3SJOsd288",
        "outputId": "4317115f-098c-463c-933e-9afe4592670c"
      },
      "outputs": [
        {
          "output_type": "stream",
          "name": "stderr",
          "text": [
            "INFO:google_adk.google.adk.models.google_llm:Sending out request, model: gemini-2.5-flash, backend: GoogleLLMVariant.VERTEX_AI, stream: False\n",
            "DEBUG:google_adk.google.adk.models.google_llm:\n",
            "LLM Request:\n",
            "-----------------------------------------------------------\n",
            "System Instruction:\n",
            "Answer the user's questions\n",
            "\n",
            "You are an agent. Your internal name is \"Generic_QA_Agent\".\n",
            "\n",
            "\n",
            "You have memory. You can use it to answer questions. If any questions need\n",
            "you to look up the memory, you should call load_memory function with a query.\n",
            "\n",
            "-----------------------------------------------------------\n",
            "Contents:\n",
            "{\"parts\":[{\"text\":\"Hi!\"}],\"role\":\"user\"}\n",
            "-----------------------------------------------------------\n",
            "Functions:\n",
            "load_memory: {'query': {'type': <Type.STRING: 'STRING'>}} \n",
            "-----------------------------------------------------------\n",
            "\n"
          ]
        },
        {
          "output_type": "stream",
          "name": "stdout",
          "text": [
            "\n",
            "*System Instruction*:\n",
            "Answer the user's questions\n",
            "\n",
            "You are an agent. Your internal name is \"Generic_QA_Agent\".\n",
            "\n",
            "\n",
            "You have memory. You can use it to answer questions. If any questions need\n",
            "you to look up the memory, you should call load_memory function with a query.\n",
            "\n",
            "*********\n",
            "\n"
          ]
        },
        {
          "output_type": "stream",
          "name": "stderr",
          "text": [
            "ERROR:asyncio:Unclosed client session\n",
            "client_session: <aiohttp.client.ClientSession object at 0x7ef8da93bbc0>\n",
            "ERROR:asyncio:Unclosed connector\n",
            "connections: ['deque([(<aiohttp.client_proto.ResponseHandler object at 0x7ef8d02b1130>, 8727.071842229)])']\n",
            "connector: <aiohttp.connector.TCPConnector object at 0x7ef8d108d3a0>\n",
            "Exception in thread Thread-47 (_asyncio_thread_main):\n",
            "Traceback (most recent call last):\n",
            "  File \"/usr/lib/python3.12/threading.py\", line 1075, in _bootstrap_inner\n",
            "    self.run()\n",
            "  File \"/usr/lib/python3.12/threading.py\", line 1012, in run\n",
            "    self._target(*self._args, **self._kwargs)\n",
            "  File \"/usr/local/lib/python3.12/dist-packages/google/adk/runners.py\", line 305, in _asyncio_thread_main\n",
            "    asyncio.run(_invoke_run_async())\n",
            "  File \"/usr/lib/python3.12/asyncio/runners.py\", line 195, in run\n",
            "    return runner.run(main)\n",
            "           ^^^^^^^^^^^^^^^^\n",
            "  File \"/usr/lib/python3.12/asyncio/runners.py\", line 118, in run\n",
            "    return self._loop.run_until_complete(task)\n",
            "           ^^^^^^^^^^^^^^^^^^^^^^^^^^^^^^^^^^^\n",
            "  File \"/usr/lib/python3.12/asyncio/base_events.py\", line 691, in run_until_complete\n",
            "    return future.result()\n",
            "           ^^^^^^^^^^^^^^^\n",
            "  File \"/usr/local/lib/python3.12/dist-packages/google/adk/runners.py\", line 298, in _invoke_run_async\n",
            "    async for event in agen:\n",
            "  File \"/usr/local/lib/python3.12/dist-packages/google/adk/runners.py\", line 428, in run_async\n",
            "    async for event in agen:\n",
            "  File \"/usr/local/lib/python3.12/dist-packages/google/adk/runners.py\", line 412, in _run_with_trace\n",
            "    async for event in agen:\n",
            "  File \"/usr/local/lib/python3.12/dist-packages/google/adk/runners.py\", line 498, in _exec_with_plugin\n",
            "    async for event in agen:\n",
            "  File \"/usr/local/lib/python3.12/dist-packages/google/adk/runners.py\", line 401, in execute\n",
            "    async for event in agen:\n",
            "  File \"/usr/local/lib/python3.12/dist-packages/google/adk/agents/base_agent.py\", line 307, in run_async\n",
            "    async for event in agen:\n",
            "  File \"/usr/local/lib/python3.12/dist-packages/google/adk/agents/base_agent.py\", line 297, in _run_with_trace\n",
            "    async for event in agen:\n",
            "  File \"/usr/local/lib/python3.12/dist-packages/google/adk/agents/llm_agent.py\", line 395, in _run_async_impl\n",
            "    async for event in agen:\n",
            "  File \"/usr/local/lib/python3.12/dist-packages/google/adk/flows/llm_flows/base_llm_flow.py\", line 356, in run_async\n",
            "    async for event in agen:\n",
            "  File \"/usr/local/lib/python3.12/dist-packages/google/adk/flows/llm_flows/base_llm_flow.py\", line 414, in _run_one_step_async\n",
            "    async for llm_response in agen:\n",
            "  File \"/usr/local/lib/python3.12/dist-packages/google/adk/flows/llm_flows/base_llm_flow.py\", line 780, in _call_llm_async\n",
            "    async for event in agen:\n",
            "  File \"/usr/local/lib/python3.12/dist-packages/google/adk/flows/llm_flows/base_llm_flow.py\", line 764, in _call_llm_with_tracing\n",
            "    async for llm_response in agen:\n",
            "  File \"/usr/local/lib/python3.12/dist-packages/google/adk/flows/llm_flows/base_llm_flow.py\", line 974, in _run_and_handle_error\n",
            "    raise model_error\n",
            "  File \"/usr/local/lib/python3.12/dist-packages/google/adk/flows/llm_flows/base_llm_flow.py\", line 958, in _run_and_handle_error\n",
            "    async for response in agen:\n",
            "  File \"/usr/local/lib/python3.12/dist-packages/google/adk/models/google_llm.py\", line 171, in generate_content_async\n",
            "    response = await self.api_client.aio.models.generate_content(\n",
            "               ^^^^^^^^^^^^^^^^^^^^^^^^^^^^^^^^^^^^^^^^^^^^^^^^^^\n",
            "  File \"/usr/local/lib/python3.12/dist-packages/google/genai/models.py\", line 6757, in generate_content\n",
            "    response = await self._generate_content(\n",
            "               ^^^^^^^^^^^^^^^^^^^^^^^^^^^^^\n",
            "  File \"/usr/local/lib/python3.12/dist-packages/google/genai/models.py\", line 5592, in _generate_content\n",
            "    response = await self._api_client.async_request(\n",
            "               ^^^^^^^^^^^^^^^^^^^^^^^^^^^^^^^^^^^^^\n",
            "  File \"/usr/local/lib/python3.12/dist-packages/google/genai/_api_client.py\", line 1340, in async_request\n",
            "    result = await self._async_request(\n",
            "             ^^^^^^^^^^^^^^^^^^^^^^^^^^\n",
            "  File \"/usr/local/lib/python3.12/dist-packages/google/genai/_api_client.py\", line 1285, in _async_request\n",
            "    return await self._async_retry(  # type: ignore[no-any-return]\n",
            "           ^^^^^^^^^^^^^^^^^^^^^^^^^^^^^^^^^^^^^^^^^^^^^^^^^^^^^^^\n",
            "  File \"/usr/local/lib/python3.12/dist-packages/tenacity/asyncio/__init__.py\", line 111, in __call__\n",
            "    do = await self.iter(retry_state=retry_state)\n",
            "         ^^^^^^^^^^^^^^^^^^^^^^^^^^^^^^^^^^^^^^^^\n",
            "  File \"/usr/local/lib/python3.12/dist-packages/tenacity/asyncio/__init__.py\", line 153, in iter\n",
            "    result = await action(retry_state)\n",
            "             ^^^^^^^^^^^^^^^^^^^^^^^^^\n",
            "  File \"/usr/local/lib/python3.12/dist-packages/tenacity/_utils.py\", line 99, in inner\n",
            "    return call(*args, **kwargs)\n",
            "           ^^^^^^^^^^^^^^^^^^^^^\n",
            "  File \"/usr/local/lib/python3.12/dist-packages/tenacity/__init__.py\", line 418, in exc_check\n",
            "    raise retry_exc.reraise()\n",
            "          ^^^^^^^^^^^^^^^^^^^\n",
            "  File \"/usr/local/lib/python3.12/dist-packages/tenacity/__init__.py\", line 185, in reraise\n",
            "    raise self.last_attempt.result()\n",
            "          ^^^^^^^^^^^^^^^^^^^^^^^^^^\n",
            "  File \"/usr/lib/python3.12/concurrent/futures/_base.py\", line 449, in result\n",
            "    return self.__get_result()\n",
            "           ^^^^^^^^^^^^^^^^^^^\n",
            "  File \"/usr/lib/python3.12/concurrent/futures/_base.py\", line 401, in __get_result\n",
            "    raise self._exception\n",
            "  File \"/usr/local/lib/python3.12/dist-packages/tenacity/asyncio/__init__.py\", line 114, in __call__\n",
            "    result = await fn(*args, **kwargs)\n",
            "             ^^^^^^^^^^^^^^^^^^^^^^^^^\n",
            "  File \"/usr/local/lib/python3.12/dist-packages/google/genai/_api_client.py\", line 1230, in _async_request_once\n",
            "    await errors.APIError.raise_for_async_response(response)\n",
            "  File \"/usr/local/lib/python3.12/dist-packages/google/genai/errors.py\", line 166, in raise_for_async_response\n",
            "    raise ClientError(status_code, response_json, response)\n",
            "google.genai.errors.ClientError: 429 RESOURCE_EXHAUSTED. {'error': {'code': 429, 'message': 'Resource exhausted. Please try again later. Please refer to https://cloud.google.com/vertex-ai/generative-ai/docs/error-code-429 for more details.', 'status': 'RESOURCE_EXHAUSTED'}}\n"
          ]
        }
      ],
      "source": [
        "session = await session_service.create_session(app_name=APP_NAME, user_id=USER_ID)\n",
        "\n",
        "call_agent(\"Hi!\", session.id, user_id=USER_ID)"
      ]
    },
    {
      "cell_type": "markdown",
      "metadata": {
        "id": "-M6GeiZzAox6"
      },
      "source": [
        "### Custom callback to retrieve memories\n",
        "\n",
        "If you want more control over how memories are retrieved, you can create your own custom callback.\n",
        "\n",
        "For example, you can use the Agent Engine SDK within the callback to retrieve memories without similarity search. This is lower latency than using similarity search.\n",
        "\n",
        "You can also customize your `scope` rather than using the default \"app_name\" and \"user_id\" scope keys used by ADK's memory service."
      ]
    },
    {
      "cell_type": "code",
      "execution_count": 100,
      "metadata": {
        "id": "TUc_jTzr5QSm"
      },
      "outputs": [],
      "source": [
        "def retrieve_memories_callback(callback_context, llm_request):\n",
        "    user_id = callback_context._invocation_context.user_id\n",
        "\n",
        "    response = client.agent_engines.memories.retrieve(\n",
        "        name=agent_engine.api_resource.name,\n",
        "        # Unlike the ADK Memory Service, this does not use App Name in the scope.\n",
        "        scope={\"user_id\": user_id},\n",
        "    )\n",
        "    memories = [f\"* {memory.memory.fact}\" for memory in list(response)]\n",
        "    if not memories:\n",
        "        # No memories to add to System Instructions.\n",
        "        return\n",
        "    # Append formatted memories to the System Instructions\n",
        "    llm_request.config.system_instruction += (\n",
        "        \"\\nHere is information that you have about the user:\\n\"\n",
        "    )\n",
        "    llm_request.config.system_instruction += \"\\n\".join(memories)\n",
        "\n",
        "\n",
        "def log_tool_call(tool, args, tool_response, **kwargs):\n",
        "    \"\"\"A callback to print the LLM request.\"\"\"\n",
        "    print(f\"\\n*Tool*:\\n{tool}\")\n",
        "    print(f\"\\n*Tool call*:\\n{args}\")\n",
        "    print(f\"\\n*Tool response*:\\n{log_tool_call}\\n*********\\n\")\n",
        "\n",
        "\n",
        "agent = LlmAgent(\n",
        "    model=MODEL,\n",
        "    name=\"Generic_QA_Agent\",\n",
        "    instruction=\"Answer the user's questions\",\n",
        "    before_model_callback=retrieve_memories_callback,\n",
        ")\n",
        "\n",
        "runner = Runner(\n",
        "    agent=agent,\n",
        "    app_name=APP_NAME,\n",
        "    session_service=session_service,\n",
        "    memory_service=memory_bank_service,\n",
        ")"
      ]
    },
    {
      "cell_type": "markdown",
      "metadata": {
        "id": "hPHr71m4_hiJ"
      },
      "source": [
        "Since we're using a different scope than the ADK Memory Service, we don't have access to the prior memories. Memories are isolated by their scope dictionary."
      ]
    },
    {
      "cell_type": "code",
      "execution_count": 101,
      "metadata": {
        "colab": {
          "base_uri": "https://localhost:8080/"
        },
        "id": "0zV-bZtz51E6",
        "outputId": "88d0345e-16be-4e93-c1e0-1e02d0070297"
      },
      "outputs": [
        {
          "output_type": "stream",
          "name": "stderr",
          "text": [
            "INFO:google_adk.google.adk.models.google_llm:Sending out request, model: gemini-2.5-flash, backend: GoogleLLMVariant.VERTEX_AI, stream: False\n",
            "DEBUG:google_adk.google.adk.models.google_llm:\n",
            "LLM Request:\n",
            "-----------------------------------------------------------\n",
            "System Instruction:\n",
            "Answer the user's questions\n",
            "\n",
            "You are an agent. Your internal name is \"Generic_QA_Agent\".\n",
            "-----------------------------------------------------------\n",
            "Contents:\n",
            "{\"parts\":[{\"text\":\"Hi!\"}],\"role\":\"user\"}\n",
            "-----------------------------------------------------------\n",
            "Functions:\n",
            "\n",
            "-----------------------------------------------------------\n",
            "\n",
            "Exception in thread Thread-49 (_asyncio_thread_main):\n",
            "Traceback (most recent call last):\n",
            "  File \"/usr/lib/python3.12/threading.py\", line 1075, in _bootstrap_inner\n",
            "    self.run()\n",
            "  File \"/usr/lib/python3.12/threading.py\", line 1012, in run\n",
            "    self._target(*self._args, **self._kwargs)\n",
            "  File \"/usr/local/lib/python3.12/dist-packages/google/adk/runners.py\", line 305, in _asyncio_thread_main\n",
            "    asyncio.run(_invoke_run_async())\n",
            "  File \"/usr/lib/python3.12/asyncio/runners.py\", line 195, in run\n",
            "    return runner.run(main)\n",
            "           ^^^^^^^^^^^^^^^^\n",
            "  File \"/usr/lib/python3.12/asyncio/runners.py\", line 118, in run\n",
            "    return self._loop.run_until_complete(task)\n",
            "           ^^^^^^^^^^^^^^^^^^^^^^^^^^^^^^^^^^^\n",
            "  File \"/usr/lib/python3.12/asyncio/base_events.py\", line 691, in run_until_complete\n",
            "    return future.result()\n",
            "           ^^^^^^^^^^^^^^^\n",
            "  File \"/usr/local/lib/python3.12/dist-packages/google/adk/runners.py\", line 298, in _invoke_run_async\n",
            "    async for event in agen:\n",
            "  File \"/usr/local/lib/python3.12/dist-packages/google/adk/runners.py\", line 428, in run_async\n",
            "    async for event in agen:\n",
            "  File \"/usr/local/lib/python3.12/dist-packages/google/adk/runners.py\", line 412, in _run_with_trace\n",
            "    async for event in agen:\n",
            "  File \"/usr/local/lib/python3.12/dist-packages/google/adk/runners.py\", line 498, in _exec_with_plugin\n",
            "    async for event in agen:\n",
            "  File \"/usr/local/lib/python3.12/dist-packages/google/adk/runners.py\", line 401, in execute\n",
            "    async for event in agen:\n",
            "  File \"/usr/local/lib/python3.12/dist-packages/google/adk/agents/base_agent.py\", line 307, in run_async\n",
            "    async for event in agen:\n",
            "  File \"/usr/local/lib/python3.12/dist-packages/google/adk/agents/base_agent.py\", line 297, in _run_with_trace\n",
            "    async for event in agen:\n",
            "  File \"/usr/local/lib/python3.12/dist-packages/google/adk/agents/llm_agent.py\", line 395, in _run_async_impl\n",
            "    async for event in agen:\n",
            "  File \"/usr/local/lib/python3.12/dist-packages/google/adk/flows/llm_flows/base_llm_flow.py\", line 356, in run_async\n",
            "    async for event in agen:\n",
            "  File \"/usr/local/lib/python3.12/dist-packages/google/adk/flows/llm_flows/base_llm_flow.py\", line 414, in _run_one_step_async\n",
            "    async for llm_response in agen:\n",
            "  File \"/usr/local/lib/python3.12/dist-packages/google/adk/flows/llm_flows/base_llm_flow.py\", line 780, in _call_llm_async\n",
            "    async for event in agen:\n",
            "  File \"/usr/local/lib/python3.12/dist-packages/google/adk/flows/llm_flows/base_llm_flow.py\", line 764, in _call_llm_with_tracing\n",
            "    async for llm_response in agen:\n",
            "  File \"/usr/local/lib/python3.12/dist-packages/google/adk/flows/llm_flows/base_llm_flow.py\", line 974, in _run_and_handle_error\n",
            "    raise model_error\n",
            "  File \"/usr/local/lib/python3.12/dist-packages/google/adk/flows/llm_flows/base_llm_flow.py\", line 958, in _run_and_handle_error\n",
            "    async for response in agen:\n",
            "  File \"/usr/local/lib/python3.12/dist-packages/google/adk/models/google_llm.py\", line 171, in generate_content_async\n",
            "    response = await self.api_client.aio.models.generate_content(\n",
            "               ^^^^^^^^^^^^^^^^^^^^^^^^^^^^^^^^^^^^^^^^^^^^^^^^^^\n",
            "  File \"/usr/local/lib/python3.12/dist-packages/google/genai/models.py\", line 6757, in generate_content\n",
            "    response = await self._generate_content(\n",
            "               ^^^^^^^^^^^^^^^^^^^^^^^^^^^^^\n",
            "  File \"/usr/local/lib/python3.12/dist-packages/google/genai/models.py\", line 5592, in _generate_content\n",
            "    response = await self._api_client.async_request(\n",
            "               ^^^^^^^^^^^^^^^^^^^^^^^^^^^^^^^^^^^^^\n",
            "  File \"/usr/local/lib/python3.12/dist-packages/google/genai/_api_client.py\", line 1340, in async_request\n",
            "    result = await self._async_request(\n",
            "             ^^^^^^^^^^^^^^^^^^^^^^^^^^\n",
            "  File \"/usr/local/lib/python3.12/dist-packages/google/genai/_api_client.py\", line 1285, in _async_request\n",
            "    return await self._async_retry(  # type: ignore[no-any-return]\n",
            "           ^^^^^^^^^^^^^^^^^^^^^^^^^^^^^^^^^^^^^^^^^^^^^^^^^^^^^^^\n",
            "  File \"/usr/local/lib/python3.12/dist-packages/tenacity/asyncio/__init__.py\", line 111, in __call__\n",
            "    do = await self.iter(retry_state=retry_state)\n",
            "         ^^^^^^^^^^^^^^^^^^^^^^^^^^^^^^^^^^^^^^^^\n",
            "  File \"/usr/local/lib/python3.12/dist-packages/tenacity/asyncio/__init__.py\", line 153, in iter\n",
            "    result = await action(retry_state)\n",
            "             ^^^^^^^^^^^^^^^^^^^^^^^^^\n",
            "  File \"/usr/local/lib/python3.12/dist-packages/tenacity/_utils.py\", line 99, in inner\n",
            "    return call(*args, **kwargs)\n",
            "           ^^^^^^^^^^^^^^^^^^^^^\n",
            "  File \"/usr/local/lib/python3.12/dist-packages/tenacity/__init__.py\", line 418, in exc_check\n",
            "    raise retry_exc.reraise()\n",
            "          ^^^^^^^^^^^^^^^^^^^\n",
            "  File \"/usr/local/lib/python3.12/dist-packages/tenacity/__init__.py\", line 185, in reraise\n",
            "    raise self.last_attempt.result()\n",
            "          ^^^^^^^^^^^^^^^^^^^^^^^^^^\n",
            "  File \"/usr/lib/python3.12/concurrent/futures/_base.py\", line 449, in result\n",
            "    return self.__get_result()\n",
            "           ^^^^^^^^^^^^^^^^^^^\n",
            "  File \"/usr/lib/python3.12/concurrent/futures/_base.py\", line 401, in __get_result\n",
            "    raise self._exception\n",
            "  File \"/usr/local/lib/python3.12/dist-packages/tenacity/asyncio/__init__.py\", line 114, in __call__\n",
            "    result = await fn(*args, **kwargs)\n",
            "             ^^^^^^^^^^^^^^^^^^^^^^^^^\n",
            "  File \"/usr/local/lib/python3.12/dist-packages/google/genai/_api_client.py\", line 1230, in _async_request_once\n",
            "    await errors.APIError.raise_for_async_response(response)\n",
            "  File \"/usr/local/lib/python3.12/dist-packages/google/genai/errors.py\", line 166, in raise_for_async_response\n",
            "    raise ClientError(status_code, response_json, response)\n",
            "google.genai.errors.ClientError: 429 RESOURCE_EXHAUSTED. {'error': {'code': 429, 'message': 'Resource exhausted. Please try again later. Please refer to https://cloud.google.com/vertex-ai/generative-ai/docs/error-code-429 for more details.', 'status': 'RESOURCE_EXHAUSTED'}}\n"
          ]
        }
      ],
      "source": [
        "session = await session_service.create_session(app_name=APP_NAME, user_id=USER_ID)\n",
        "\n",
        "call_agent(\"Hi!\", session.id, user_id=USER_ID)"
      ]
    },
    {
      "cell_type": "markdown",
      "metadata": {
        "id": "F-RoQ0UF_s5v"
      },
      "source": [
        "Let's first generate memories for our new scope."
      ]
    },
    {
      "cell_type": "code",
      "execution_count": 103,
      "metadata": {
        "colab": {
          "base_uri": "https://localhost:8080/"
        },
        "id": "3PjiIK2L_r43",
        "outputId": "416e0535-4808-4c97-b6a4-5f6e4c10a51b"
      },
      "outputs": [
        {
          "output_type": "execute_result",
          "data": {
            "text/plain": [
              "AgentEngineGenerateMemoriesOperation(\n",
              "  done=True,\n",
              "  metadata={\n",
              "    '@type': 'type.googleapis.com/google.cloud.aiplatform.v1beta1.GenerateMemoriesOperationMetadata',\n",
              "    'genericMetadata': {\n",
              "      'createTime': '2025-10-21T18:29:17.552935Z',\n",
              "      'updateTime': '2025-10-21T18:29:20.445128Z'\n",
              "    }\n",
              "  },\n",
              "  name='projects/715070558789/locations/us-central1/reasoningEngines/667856556850675712/operations/2422830857430499328',\n",
              "  response=GenerateMemoriesResponse(\n",
              "    generated_memories=[\n",
              "      GenerateMemoriesResponseGeneratedMemory(\n",
              "        action=<GenerateMemoriesResponseGeneratedMemoryAction.CREATED: 'CREATED'>,\n",
              "        memory=Memory(\n",
              "          name='projects/715070558789/locations/us-central1/reasoningEngines/667856556850675712/memories/2907262125711818752'\n",
              "        )\n",
              "      ),\n",
              "    ]\n",
              "  )\n",
              ")"
            ]
          },
          "metadata": {},
          "execution_count": 103
        }
      ],
      "source": [
        "client.agent_engines.memories.generate(\n",
        "    scope={\"user_id\": USER_ID},\n",
        "    name=agent_engine.api_resource.name,\n",
        "    direct_contents_source={\n",
        "        \"events\": [\n",
        "            {\"content\": {\"role\": \"user\", \"parts\": [{\"text\": \"I have four nieces!\"}]}}\n",
        "        ]\n",
        "    },\n",
        ")"
      ]
    },
    {
      "cell_type": "code",
      "execution_count": 104,
      "metadata": {
        "colab": {
          "base_uri": "https://localhost:8080/"
        },
        "id": "fTzgPdtU_9Qd",
        "outputId": "3bebfef0-0e80-4714-fa32-adac9bff6cc1"
      },
      "outputs": [
        {
          "output_type": "stream",
          "name": "stderr",
          "text": [
            "INFO:google_adk.google.adk.models.google_llm:Sending out request, model: gemini-2.5-flash, backend: GoogleLLMVariant.VERTEX_AI, stream: False\n",
            "DEBUG:google_adk.google.adk.models.google_llm:\n",
            "LLM Request:\n",
            "-----------------------------------------------------------\n",
            "System Instruction:\n",
            "Answer the user's questions\n",
            "\n",
            "You are an agent. Your internal name is \"Generic_QA_Agent\".\n",
            "Here is information that you have about the user:\n",
            "* I have four nieces.\n",
            "-----------------------------------------------------------\n",
            "Contents:\n",
            "{\"parts\":[{\"text\":\"Hi!\"}],\"role\":\"user\"}\n",
            "{\"parts\":[{\"text\":\"What information do you know about me?\"}],\"role\":\"user\"}\n",
            "-----------------------------------------------------------\n",
            "Functions:\n",
            "\n",
            "-----------------------------------------------------------\n",
            "\n",
            "INFO:google_adk.google.adk.models.google_llm:Response received from the model.\n",
            "DEBUG:google_adk.google.adk.models.google_llm:\n",
            "LLM Response:\n",
            "-----------------------------------------------------------\n",
            "Text:\n",
            "Hi! I know that you have four nieces.\n",
            "-----------------------------------------------------------\n",
            "Function calls:\n",
            "\n",
            "-----------------------------------------------------------\n",
            "Raw response:\n",
            "{\"sdk_http_response\":{\"headers\":{\"Content-Type\":\"application/json; charset=UTF-8\",\"Vary\":\"Origin, X-Origin, Referer\",\"Content-Encoding\":\"gzip\",\"Date\":\"Tue, 21 Oct 2025 18:29:26 GMT\",\"Server\":\"scaffolding on HTTPServer2\",\"X-XSS-Protection\":\"0\",\"X-Frame-Options\":\"SAMEORIGIN\",\"X-Content-Type-Options\":\"nosniff\",\"Transfer-Encoding\":\"chunked\"}},\"candidates\":[{\"content\":{\"parts\":[{\"text\":\"Hi! I know that you have four nieces.\"}],\"role\":\"model\"},\"finish_reason\":\"STOP\",\"avg_logprobs\":-1.0540200233459474}],\"create_time\":\"2025-10-21T18:29:25.561236Z\",\"model_version\":\"gemini-2.5-flash\",\"response_id\":\"BdH3aNSgIru3gLUPwq1Z\",\"usage_metadata\":{\"candidates_token_count\":10,\"candidates_tokens_details\":[{\"modality\":\"TEXT\",\"token_count\":10}],\"prompt_token_count\":51,\"prompt_tokens_details\":[{\"modality\":\"TEXT\",\"token_count\":51}],\"thoughts_token_count\":30,\"total_token_count\":91,\"traffic_type\":\"ON_DEMAND\"},\"automatic_function_calling_history\":[]}\n",
            "-----------------------------------------------------------\n",
            "\n"
          ]
        },
        {
          "output_type": "stream",
          "name": "stdout",
          "text": [
            "Agent Response:  Hi! I know that you have four nieces.\n"
          ]
        }
      ],
      "source": [
        "call_agent(\"What information do you know about me?\", session.id, user_id=USER_ID)"
      ]
    },
    {
      "cell_type": "markdown",
      "metadata": {
        "id": "SAw7Dax-biQW"
      },
      "source": [
        "## Customize your Memory Bank's behavior\n",
        "\n",
        "So far, we've used Memory Bank with it's default settings. Now, let's customize some configurations. The configuration is set when creating or updating your Agent Engine."
      ]
    },
    {
      "cell_type": "markdown",
      "metadata": {
        "id": "6nIKVog-sitb"
      },
      "source": [
        "### Customizing Memory Extraction\n",
        "\n",
        "By default, Memory Bank considers memories that fit the following topics to be meaningful:\n",
        "\n",
        "* **Personal information (`USER_PERSONAL_INFO`)**: Significant personal information about the user, like names, relationships, hobbies, and important dates. For example, \"I work at Google\" or \"My wedding anniversary is on December 31\".\n",
        "* **User preferences (`USER_PREFERENCES`)**: Stated or implied likes, dislikes, preferred styles, or patterns. For example, \"I prefer the middle seat.\"\n",
        "* **Key conversation events and task outcomes (`KEY_CONVERSATION_DETAILS`)**: Important milestones or conclusions within the dialogue. For example, \"I booked plane tickets for a round trip between JFK and SFO. I leave on June 1, 2025 and return on June 7, 2025.\"\n",
        "* **Explicit remember / forget instructions (`EXPLICIT_INSTRUCTIONS`)**: Information that the user explicitly asks the agent to remember or forget. For example, if the user says \"Remember that I primarily use Python,\" Memory Bank generates a memory such as \"I primarily use Python.\"\n",
        "\n",
        "These are managed topics where Memory Bank manages their definition. If you want to use a subset of these topics or use custom topics, you can provide a \"CustomizationConfig\" to customize what information Memory Bank should consider meaningful to persist."
      ]
    },
    {
      "cell_type": "markdown",
      "metadata": {
        "id": "G2pwuUddXf59"
      },
      "source": [
        "#### Managed Topics\n",
        "\n",
        "We're going to update our Memory Bank to only extract user preferences.\n",
        "\n",
        "This will take affect for all requests to Memory Bank, regardless of whether you use ADK or Agent Engine SDK."
      ]
    },
    {
      "cell_type": "code",
      "execution_count": 105,
      "metadata": {
        "colab": {
          "base_uri": "https://localhost:8080/"
        },
        "id": "6qc7x-1tXWS_",
        "outputId": "9ebb8cc3-cead-48de-db6c-2a660e434a72"
      },
      "outputs": [
        {
          "output_type": "stream",
          "name": "stderr",
          "text": [
            "INFO:vertexai_genai.agentengines:View progress and logs at https://console.cloud.google.com/logs/query?project=unstacked-project-2.\n",
            "INFO:vertexai_genai.agentengines:Agent Engine updated. To use it in another session:\n",
            "INFO:vertexai_genai.agentengines:agent_engine=client.agent_engines.get('projects/715070558789/locations/us-central1/reasoningEngines/667856556850675712')\n"
          ]
        },
        {
          "output_type": "execute_result",
          "data": {
            "text/plain": [
              "AgentEngine(api_resource.name='projects/715070558789/locations/us-central1/reasoningEngines/667856556850675712')"
            ]
          },
          "metadata": {},
          "execution_count": 105
        }
      ],
      "source": [
        "user_preferences_config = {\n",
        "    \"scope_keys\": [\"user_id\"],\n",
        "    \"memory_topics\": [\n",
        "        {\"managed_memory_topic\": {\"managed_topic_enum\": \"USER_PREFERENCES\"}}\n",
        "    ],\n",
        "}\n",
        "\n",
        "\n",
        "client.agent_engines.update(\n",
        "    name=agent_engine.api_resource.name,\n",
        "    config={\n",
        "        \"context_spec\": {\n",
        "            \"memory_bank_config\": {\n",
        "                \"customization_configs\": [user_preferences_config],\n",
        "            }\n",
        "        }\n",
        "    },\n",
        ")"
      ]
    },
    {
      "cell_type": "markdown",
      "metadata": {
        "id": "t3RNGsTmYI74"
      },
      "source": [
        "Memories that fit the `USER_PREFERENCES` category will be persisted."
      ]
    },
    {
      "cell_type": "code",
      "execution_count": 106,
      "metadata": {
        "colab": {
          "base_uri": "https://localhost:8080/"
        },
        "id": "g_efAhHIYGEC",
        "outputId": "4fb62aeb-cad4-4430-b755-5daa7c8a5f70"
      },
      "outputs": [
        {
          "output_type": "execute_result",
          "data": {
            "text/plain": [
              "AgentEngineGenerateMemoriesOperation(\n",
              "  done=True,\n",
              "  metadata={\n",
              "    '@type': 'type.googleapis.com/google.cloud.aiplatform.v1beta1.GenerateMemoriesOperationMetadata',\n",
              "    'genericMetadata': {\n",
              "      'createTime': '2025-10-21T18:29:32.121649Z',\n",
              "      'updateTime': '2025-10-21T18:29:34.731956Z'\n",
              "    }\n",
              "  },\n",
              "  name='projects/715070558789/locations/us-central1/reasoningEngines/667856556850675712/operations/4472179794116608000',\n",
              "  response=GenerateMemoriesResponse(\n",
              "    generated_memories=[\n",
              "      GenerateMemoriesResponseGeneratedMemory(\n",
              "        action=<GenerateMemoriesResponseGeneratedMemoryAction.CREATED: 'CREATED'>,\n",
              "        memory=Memory(\n",
              "          name='projects/715070558789/locations/us-central1/reasoningEngines/667856556850675712/memories/1754340621104971776'\n",
              "        )\n",
              "      ),\n",
              "    ]\n",
              "  )\n",
              ")"
            ]
          },
          "metadata": {},
          "execution_count": 106
        }
      ],
      "source": [
        "client.agent_engines.memories.generate(\n",
        "    scope={\"user_id\": USER_ID},\n",
        "    name=agent_engine.api_resource.name,\n",
        "    direct_contents_source={\n",
        "        \"events\": [\n",
        "            {\n",
        "                \"content\": {\n",
        "                    \"role\": \"user\",\n",
        "                    \"parts\": [{\"text\": \"I prefer the aisle seat\"}],\n",
        "                }\n",
        "            }\n",
        "        ]\n",
        "    },\n",
        ")"
      ]
    },
    {
      "cell_type": "markdown",
      "metadata": {
        "id": "0W7oEz7KYOks"
      },
      "source": [
        "Memories that don't fit `USER_PREFERENCES` won't be persisted."
      ]
    },
    {
      "cell_type": "code",
      "execution_count": 107,
      "metadata": {
        "colab": {
          "base_uri": "https://localhost:8080/"
        },
        "id": "V9sQPIGQYTr0",
        "outputId": "b655d379-dbae-42aa-a12e-f7e51c6fb7b3"
      },
      "outputs": [
        {
          "output_type": "execute_result",
          "data": {
            "text/plain": [
              "AgentEngineGenerateMemoriesOperation(\n",
              "  done=True,\n",
              "  metadata={\n",
              "    '@type': 'type.googleapis.com/google.cloud.aiplatform.v1beta1.GenerateMemoriesOperationMetadata',\n",
              "    'genericMetadata': {\n",
              "      'createTime': '2025-10-21T18:29:35.220915Z',\n",
              "      'updateTime': '2025-10-21T18:29:36.300081Z'\n",
              "    }\n",
              "  },\n",
              "  name='projects/715070558789/locations/us-central1/reasoningEngines/667856556850675712/operations/2999291609733922816'\n",
              ")"
            ]
          },
          "metadata": {},
          "execution_count": 107
        }
      ],
      "source": [
        "client.agent_engines.memories.generate(\n",
        "    scope={\"user_id\": USER_ID},\n",
        "    name=agent_engine.api_resource.name,\n",
        "    direct_contents_source={\n",
        "        \"events\": [\n",
        "            {\n",
        "                \"content\": {\n",
        "                    \"role\": \"user\",\n",
        "                    \"parts\": [{\"text\": \"I'm going to get my niece a red bike\"}],\n",
        "                }\n",
        "            }\n",
        "        ]\n",
        "    },\n",
        ")"
      ]
    },
    {
      "cell_type": "markdown",
      "metadata": {
        "id": "SodYXQQrXMqD"
      },
      "source": [
        "#### Custom Topics\n",
        "Alternatively, you can define your own custom topics where you define your own labels, descriptions, and examples."
      ]
    },
    {
      "cell_type": "code",
      "execution_count": 108,
      "metadata": {
        "colab": {
          "base_uri": "https://localhost:8080/"
        },
        "id": "o-W0cxdqsjRi",
        "outputId": "b957f452-8417-4546-afba-03ceb5c6f45e"
      },
      "outputs": [
        {
          "output_type": "stream",
          "name": "stderr",
          "text": [
            "INFO:vertexai_genai.agentengines:View progress and logs at https://console.cloud.google.com/logs/query?project=unstacked-project-2.\n",
            "INFO:vertexai_genai.agentengines:Agent Engine updated. To use it in another session:\n",
            "INFO:vertexai_genai.agentengines:agent_engine=client.agent_engines.get('projects/715070558789/locations/us-central1/reasoningEngines/667856556850675712')\n"
          ]
        },
        {
          "output_type": "execute_result",
          "data": {
            "text/plain": [
              "AgentEngine(api_resource.name='projects/715070558789/locations/us-central1/reasoningEngines/667856556850675712')"
            ]
          },
          "metadata": {},
          "execution_count": 108
        }
      ],
      "source": [
        "from vertexai.types import MemoryBankCustomizationConfig as CustomizationConfig\n",
        "from vertexai.types import (\n",
        "    MemoryBankCustomizationConfigGenerateMemoriesExample as GenerateMemoriesExample,\n",
        ")\n",
        "from vertexai.types import (\n",
        "    MemoryBankCustomizationConfigGenerateMemoriesExampleConversationSource as ConversationSource,\n",
        ")\n",
        "from vertexai.types import (\n",
        "    MemoryBankCustomizationConfigGenerateMemoriesExampleConversationSourceEvent as ConversationSourceEvent,\n",
        ")\n",
        "from vertexai.types import (\n",
        "    MemoryBankCustomizationConfigGenerateMemoriesExampleGeneratedMemory as ExampleGeneratedMemory,\n",
        ")\n",
        "from vertexai.types import MemoryBankCustomizationConfigMemoryTopic as MemoryTopic\n",
        "from vertexai.types import (\n",
        "    MemoryBankCustomizationConfigMemoryTopicCustomMemoryTopic as CustomMemoryTopic,\n",
        ")\n",
        "\n",
        "memory_topic = MemoryTopic(\n",
        "    custom_memory_topic=CustomMemoryTopic(\n",
        "        label=\"business_feedback\",\n",
        "        description=\"\"\"Specific user feedback about their experience at\n",
        "the coffee shop. This includes opinions on drinks, food, pastries, ambiance,\n",
        "staff friendliness, service speed, cleanliness, and any suggestions for\n",
        "improvement.\"\"\",\n",
        "    )\n",
        ")\n",
        "\n",
        "\n",
        "example = GenerateMemoriesExample(\n",
        "    conversation_source=ConversationSource(\n",
        "        events=[\n",
        "            ConversationSourceEvent(\n",
        "                content=Content(\n",
        "                    role=\"model\",\n",
        "                    parts=[\n",
        "                        Part(\n",
        "                            text=\"Welcome back to The Daily Grind! We'd love to hear your feedback on your visit.\"\n",
        "                        )\n",
        "                    ],\n",
        "                )\n",
        "            ),\n",
        "            ConversationSourceEvent(\n",
        "                content=Content(\n",
        "                    role=\"user\",\n",
        "                    parts=[\n",
        "                        Part(\n",
        "                            text=\"Hey. The drip coffee was a bit lukewarm today, which was a bummer. Also, the music was way too loud, I could barely hear my friend.\"\n",
        "                        )\n",
        "                    ],\n",
        "                )\n",
        "            ),\n",
        "        ]\n",
        "    ),\n",
        "    generated_memories=[\n",
        "        ExampleGeneratedMemory(\n",
        "            fact=\"The user reported that the drip coffee was lukewarm.\"\n",
        "        ),\n",
        "        ExampleGeneratedMemory(\n",
        "            fact=\"The user felt the music in the shop was too loud.\"\n",
        "        ),\n",
        "    ],\n",
        ")\n",
        "\n",
        "noop_example = GenerateMemoriesExample(\n",
        "    conversation_source=ConversationSource(\n",
        "        events=[\n",
        "            ConversationSourceEvent(\n",
        "                content=Content(\n",
        "                    role=\"model\",\n",
        "                    parts=[\n",
        "                        Part(\n",
        "                            text=\"Welcome back to The Daily Grind! We'd love to hear your feedback on your visit.\"\n",
        "                        )\n",
        "                    ],\n",
        "                )\n",
        "            ),\n",
        "            ConversationSourceEvent(\n",
        "                content=Content(\n",
        "                    role=\"user\", parts=[Part(text=\"Thanks for the coffee!\")]\n",
        "                )\n",
        "            ),\n",
        "        ]\n",
        "    ),\n",
        "    generated_memories=[],\n",
        ")\n",
        "\n",
        "client.agent_engines.update(\n",
        "    name=agent_engine.api_resource.name,\n",
        "    config={\n",
        "        \"context_spec\": {\n",
        "            \"memory_bank_config\": {\n",
        "                \"customization_configs\": [\n",
        "                    CustomizationConfig(\n",
        "                        memory_topics=[memory_topic],\n",
        "                        generate_memories_examples=[example, noop_example],\n",
        "                    )\n",
        "                ],\n",
        "            }\n",
        "        }\n",
        "    },\n",
        ")"
      ]
    },
    {
      "cell_type": "code",
      "execution_count": 109,
      "metadata": {
        "colab": {
          "base_uri": "https://localhost:8080/"
        },
        "id": "XE783Z_TDHC_",
        "outputId": "b770ecd5-84da-439c-f780-108ab9d45b9f"
      },
      "outputs": [
        {
          "output_type": "execute_result",
          "data": {
            "text/plain": [
              "AgentEngineGenerateMemoriesOperation(\n",
              "  done=True,\n",
              "  metadata={\n",
              "    '@type': 'type.googleapis.com/google.cloud.aiplatform.v1beta1.GenerateMemoriesOperationMetadata',\n",
              "    'genericMetadata': {\n",
              "      'createTime': '2025-10-21T18:29:45.282101Z',\n",
              "      'updateTime': '2025-10-21T18:29:46.337466Z'\n",
              "    }\n",
              "  },\n",
              "  name='projects/715070558789/locations/us-central1/reasoningEngines/667856556850675712/operations/6115993658106839040'\n",
              ")"
            ]
          },
          "metadata": {},
          "execution_count": 109
        }
      ],
      "source": [
        "client.agent_engines.memories.generate(\n",
        "    scope={\"user_id\": \"123\"},\n",
        "    name=agent_engine.api_resource.name,\n",
        "    direct_contents_source={\n",
        "        \"events\": [\n",
        "            {\n",
        "                \"content\": {\n",
        "                    \"role\": \"user\",\n",
        "                    \"parts\": [{\"text\": \"I prefer the aisle seat\"}],\n",
        "                }\n",
        "            }\n",
        "        ]\n",
        "    },\n",
        ")"
      ]
    },
    {
      "cell_type": "code",
      "execution_count": 110,
      "metadata": {
        "colab": {
          "base_uri": "https://localhost:8080/"
        },
        "id": "u1j8iPHBdg6n",
        "outputId": "9736f87b-1a70-4f54-8291-0d7d6d1a4a9e"
      },
      "outputs": [
        {
          "output_type": "execute_result",
          "data": {
            "text/plain": [
              "AgentEngineGenerateMemoriesOperation(\n",
              "  done=True,\n",
              "  metadata={\n",
              "    '@type': 'type.googleapis.com/google.cloud.aiplatform.v1beta1.GenerateMemoriesOperationMetadata',\n",
              "    'genericMetadata': {\n",
              "      'createTime': '2025-10-21T18:29:46.991480Z',\n",
              "      'updateTime': '2025-10-21T18:29:48.171718Z'\n",
              "    }\n",
              "  },\n",
              "  name='projects/715070558789/locations/us-central1/reasoningEngines/667856556850675712/operations/5841274080837238784',\n",
              "  response=GenerateMemoriesResponse(\n",
              "    generated_memories=[\n",
              "      GenerateMemoriesResponseGeneratedMemory(\n",
              "        action=<GenerateMemoriesResponseGeneratedMemoryAction.CREATED: 'CREATED'>,\n",
              "        memory=Memory(\n",
              "          name='projects/715070558789/locations/us-central1/reasoningEngines/667856556850675712/memories/4744730773678981120'\n",
              "        )\n",
              "      ),\n",
              "    ]\n",
              "  )\n",
              ")"
            ]
          },
          "metadata": {},
          "execution_count": 110
        }
      ],
      "source": [
        "import vertexai\n",
        "\n",
        "client.agent_engines.memories.generate(\n",
        "    scope={\"user_id\": \"123\"},\n",
        "    name=agent_engine.api_resource.name,\n",
        "    direct_contents_source={\n",
        "        \"events\": [\n",
        "            {\n",
        "                \"content\": {\n",
        "                    \"role\": \"user\",\n",
        "                    \"parts\": [{\"text\": \"You should have almond milk\"}],\n",
        "                }\n",
        "            }\n",
        "        ]\n",
        "    },\n",
        ")"
      ]
    },
    {
      "cell_type": "code",
      "execution_count": 111,
      "metadata": {
        "colab": {
          "base_uri": "https://localhost:8080/"
        },
        "id": "DJ7v62dIePo9",
        "outputId": "c00e6ce0-a92c-404a-e5c6-a39e0b6894b2"
      },
      "outputs": [
        {
          "output_type": "execute_result",
          "data": {
            "text/plain": [
              "[RetrieveMemoriesResponseRetrievedMemory(\n",
              "   memory=Memory(\n",
              "     create_time=datetime.datetime(2025, 10, 21, 18, 29, 48, 105995, tzinfo=TzInfo(UTC)),\n",
              "     fact='I suggested that the coffee shop should have almond milk.',\n",
              "     name='projects/715070558789/locations/us-central1/reasoningEngines/667856556850675712/memories/4744730773678981120',\n",
              "     scope={\n",
              "       'user_id': '123'\n",
              "     },\n",
              "     update_time=datetime.datetime(2025, 10, 21, 18, 29, 48, 105995, tzinfo=TzInfo(UTC))\n",
              "   )\n",
              " )]"
            ]
          },
          "metadata": {},
          "execution_count": 111
        }
      ],
      "source": [
        "list(\n",
        "    client.agent_engines.memories.retrieve(\n",
        "        name=agent_engine.api_resource.name, scope={\"user_id\": \"123\"}\n",
        "    )\n",
        ")"
      ]
    },
    {
      "cell_type": "markdown",
      "metadata": {
        "id": "KVPXrs2GS_ZJ"
      },
      "source": [
        "### Dynamic TTL\n",
        "\n",
        "You can also configure Memory Bank to automatically set the TTL for any generated or manually created (or updated) memories."
      ]
    },
    {
      "cell_type": "markdown",
      "metadata": {
        "id": "Dtf5AcltTV2I"
      },
      "source": [
        "#### Default TTL\n",
        "\n",
        "Default TTL applies to all operations that create or update a Memory."
      ]
    },
    {
      "cell_type": "code",
      "execution_count": 112,
      "metadata": {
        "colab": {
          "base_uri": "https://localhost:8080/"
        },
        "id": "vQZKHD-TS-qD",
        "outputId": "a1d2f918-ad72-4352-cb85-84a99a383f52"
      },
      "outputs": [
        {
          "output_type": "stream",
          "name": "stderr",
          "text": [
            "INFO:vertexai_genai.agentengines:View progress and logs at https://console.cloud.google.com/logs/query?project=unstacked-project-2.\n",
            "INFO:vertexai_genai.agentengines:Agent Engine updated. To use it in another session:\n",
            "INFO:vertexai_genai.agentengines:agent_engine=client.agent_engines.get('projects/715070558789/locations/us-central1/reasoningEngines/667856556850675712')\n"
          ]
        },
        {
          "output_type": "execute_result",
          "data": {
            "text/plain": [
              "AgentEngine(api_resource.name='projects/715070558789/locations/us-central1/reasoningEngines/667856556850675712')"
            ]
          },
          "metadata": {},
          "execution_count": 112
        }
      ],
      "source": [
        "client.agent_engines.update(\n",
        "    name=agent_engine.api_resource.name,\n",
        "    config={\n",
        "        \"context_spec\": {\n",
        "            \"memory_bank_config\": {\n",
        "                \"ttl_config\": {\n",
        "                    # 30 days\n",
        "                    \"default_ttl\": f\"{60 * 60 * 24 * 30}s\"\n",
        "                }\n",
        "            }\n",
        "        }\n",
        "    },\n",
        ")"
      ]
    },
    {
      "cell_type": "code",
      "execution_count": 113,
      "metadata": {
        "colab": {
          "base_uri": "https://localhost:8080/",
          "height": 402
        },
        "id": "vICeAqPyCaT0",
        "outputId": "a4cf2e67-de0d-42a6-9e57-f383ca96dfb7"
      },
      "outputs": [
        {
          "output_type": "error",
          "ename": "RuntimeError",
          "evalue": "Failed to generate memory: {'code': 8, 'message': 'Failed to generate embeddings: Quota exceeded for aiplatform.googleapis.com/online_prediction_requests_per_base_model with base model: textembedding-gecko. Please submit a quota increase request. https://cloud.google.com/vertex-ai/docs/generative-ai/quotas-genai.'}",
          "traceback": [
            "\u001b[0;31m---------------------------------------------------------------------------\u001b[0m",
            "\u001b[0;31mRuntimeError\u001b[0m                              Traceback (most recent call last)",
            "\u001b[0;32m/tmp/ipython-input-3005913889.py\u001b[0m in \u001b[0;36m<cell line: 0>\u001b[0;34m()\u001b[0m\n\u001b[0;32m----> 1\u001b[0;31m response = client.agent_engines.memories.generate(\n\u001b[0m\u001b[1;32m      2\u001b[0m     \u001b[0mscope\u001b[0m\u001b[0;34m=\u001b[0m\u001b[0;34m{\u001b[0m\u001b[0;34m\"user_id\"\u001b[0m\u001b[0;34m:\u001b[0m \u001b[0mUSER_ID\u001b[0m\u001b[0;34m}\u001b[0m\u001b[0;34m,\u001b[0m\u001b[0;34m\u001b[0m\u001b[0;34m\u001b[0m\u001b[0m\n\u001b[1;32m      3\u001b[0m     \u001b[0mname\u001b[0m\u001b[0;34m=\u001b[0m\u001b[0magent_engine\u001b[0m\u001b[0;34m.\u001b[0m\u001b[0mapi_resource\u001b[0m\u001b[0;34m.\u001b[0m\u001b[0mname\u001b[0m\u001b[0;34m,\u001b[0m\u001b[0;34m\u001b[0m\u001b[0;34m\u001b[0m\u001b[0m\n\u001b[1;32m      4\u001b[0m     direct_contents_source={\n\u001b[1;32m      5\u001b[0m         \"events\": [\n",
            "\u001b[0;32m/usr/local/lib/python3.12/dist-packages/vertexai/_genai/memories.py\u001b[0m in \u001b[0;36mgenerate\u001b[0;34m(self, name, vertex_session_source, direct_contents_source, direct_memories_source, scope, config)\u001b[0m\n\u001b[1;32m   1072\u001b[0m             )\n\u001b[1;32m   1073\u001b[0m             \u001b[0;32mif\u001b[0m \u001b[0moperation\u001b[0m\u001b[0;34m.\u001b[0m\u001b[0merror\u001b[0m\u001b[0;34m:\u001b[0m\u001b[0;34m\u001b[0m\u001b[0;34m\u001b[0m\u001b[0m\n\u001b[0;32m-> 1074\u001b[0;31m                 \u001b[0;32mraise\u001b[0m \u001b[0mRuntimeError\u001b[0m\u001b[0;34m(\u001b[0m\u001b[0;34mf\"Failed to generate memory: {operation.error}\"\u001b[0m\u001b[0;34m)\u001b[0m\u001b[0;34m\u001b[0m\u001b[0;34m\u001b[0m\u001b[0m\n\u001b[0m\u001b[1;32m   1075\u001b[0m         \u001b[0;32mreturn\u001b[0m \u001b[0moperation\u001b[0m\u001b[0;34m\u001b[0m\u001b[0;34m\u001b[0m\u001b[0m\n\u001b[1;32m   1076\u001b[0m \u001b[0;34m\u001b[0m\u001b[0m\n",
            "\u001b[0;31mRuntimeError\u001b[0m: Failed to generate memory: {'code': 8, 'message': 'Failed to generate embeddings: Quota exceeded for aiplatform.googleapis.com/online_prediction_requests_per_base_model with base model: textembedding-gecko. Please submit a quota increase request. https://cloud.google.com/vertex-ai/docs/generative-ai/quotas-genai.'}"
          ]
        }
      ],
      "source": [
        "response = client.agent_engines.memories.generate(\n",
        "    scope={\"user_id\": USER_ID},\n",
        "    name=agent_engine.api_resource.name,\n",
        "    direct_contents_source={\n",
        "        \"events\": [\n",
        "            {\"content\": {\"role\": \"user\", \"parts\": [{\"text\": \"I have four nieces!\"}]}}\n",
        "        ]\n",
        "    },\n",
        "    config={\"wait_for_completion\": True},\n",
        ")\n",
        "\n",
        "client.agent_engines.memories.get(\n",
        "    name=response.response.generated_memories[0].memory.name\n",
        ")"
      ]
    },
    {
      "cell_type": "markdown",
      "metadata": {
        "id": "Oa0A4ogWT8BM"
      },
      "source": [
        "#### Granular TTL\n",
        "\n",
        "The TTL is calculated based on which operation created or updated the Memory. If not set for a given operation, then the operation won't update the Memory's expiration time.\n",
        "\n",
        "Parameters include:\n",
        " * `create_ttl`: Applies to Memories created with CreateMemory operations\n",
        " * `generate_created_ttl`: Applies to Memories created with GenerateMemories\n",
        " * `generate_updated_ttl`: Applies to Memories updated with GenerateMemories"
      ]
    },
    {
      "cell_type": "code",
      "execution_count": null,
      "metadata": {
        "id": "3g02gtyrT7fG"
      },
      "outputs": [],
      "source": [
        "client.agent_engines.update(\n",
        "    name=agent_engine.api_resource.name,\n",
        "    config={\n",
        "        \"context_spec\": {\n",
        "            \"memory_bank_config\": {\n",
        "                \"ttl_config\": {\n",
        "                    \"granular_ttl_config\": {\n",
        "                        # 365 days\n",
        "                        \"generate_created_ttl\": f\"{24 * 60 * 60 * 365}s\",\n",
        "                    }\n",
        "                }\n",
        "            }\n",
        "        }\n",
        "    },\n",
        ")"
      ]
    },
    {
      "cell_type": "code",
      "execution_count": null,
      "metadata": {
        "id": "dT3ffaBksw99"
      },
      "outputs": [],
      "source": [
        "response = client.agent_engines.memories.generate(\n",
        "    scope={\"user_id\": USER_ID},\n",
        "    name=agent_engine.api_resource.name,\n",
        "    direct_contents_source={\n",
        "        \"events\": [\n",
        "            {\n",
        "                \"content\": {\n",
        "                    \"role\": \"user\",\n",
        "                    \"parts\": [{\"text\": \"Remember that I work at Zindua School!\"}],\n",
        "                }\n",
        "            }\n",
        "        ]\n",
        "    },\n",
        ")\n",
        "\n",
        "client.agent_engines.memories.get(\n",
        "    name=response.response.generated_memories[0].memory.name\n",
        ")"
      ]
    },
    {
      "cell_type": "code",
      "execution_count": null,
      "metadata": {
        "id": "O6UGzBpCTpHB"
      },
      "outputs": [],
      "source": [
        "response = client.agent_engines.memories.generate(\n",
        "    scope={\"user_id\": USER_ID},\n",
        "    name=agent_engine.api_resource.name,\n",
        "    direct_contents_source={\n",
        "        \"events\": [\n",
        "            {\"content\": {\"role\": \"user\", \"parts\": [{\"text\": \"I work at Google!\"}]}}\n",
        "        ]\n",
        "    },\n",
        ")\n",
        "\n",
        "client.agent_engines.memories.get(\n",
        "    name=response.response.generated_memories[0].memory.name\n",
        ")"
      ]
    },
    {
      "cell_type": "markdown",
      "metadata": {
        "id": "a678c7a2bf29"
      },
      "source": [
        "## Cleaning up\n",
        "\n",
        "It's always a best practice in cloud development to clean up resources you no longer need to avoid incurring unexpected costs. This final cell deletes the AgentEngine resources we created throughout this tutorial."
      ]
    },
    {
      "cell_type": "code",
      "execution_count": null,
      "metadata": {
        "id": "10fe83835935"
      },
      "outputs": [],
      "source": [
        "delete_agent_engines = True\n",
        "\n",
        "agent_engine_name = agent_engine.api_resource.name\n",
        "\n",
        "if delete_agent_engines:\n",
        "    # Delete agent engine\n",
        "    client.agent_engines.delete(name=agent_engine_name, force=True)"
      ]
    }
  ],
  "metadata": {
    "colab": {
      "provenance": [],
      "include_colab_link": true
    },
    "kernelspec": {
      "display_name": "Python 3",
      "name": "python3"
    }
  },
  "nbformat": 4,
  "nbformat_minor": 0
}